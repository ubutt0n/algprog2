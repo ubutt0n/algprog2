{
 "cells": [
  {
   "cell_type": "code",
   "execution_count": 265,
   "metadata": {},
   "outputs": [],
   "source": [
    "struct Polynomial{T}\n",
    "    coeff::Vector{T}\n",
    "    function Polynomial{T}(coeff)where T\n",
    "        #k = findfirst(x -> !iszero(x), coeff)\n",
    "        return new(coeff[1:end])\n",
    "    end\n",
    "end"
   ]
  },
  {
   "cell_type": "code",
   "execution_count": 266,
   "metadata": {},
   "outputs": [
    {
     "data": {
      "text/plain": [
       "ord (generic function with 1 method)"
      ]
     },
     "metadata": {},
     "output_type": "display_data"
    }
   ],
   "source": [
    "ord(p::Polynomial) = length(p.coeff) - 1"
   ]
  },
  {
   "cell_type": "code",
   "execution_count": 267,
   "metadata": {},
   "outputs": [],
   "source": [
    "Base. +(p::Polynomial{T}, q::Polynomial{T}) where T = begin\n",
    "    n, m = length(p.coeff), length(q.coeff)\n",
    "    if n > m\n",
    "        r = copy(p.coeff)\n",
    "        r[n-m+1:end] .+= q.coeff\n",
    "    else\n",
    "        r = copy(q.coeff)\n",
    "        r[m-n+1:end] .+= p.coeff\n",
    "    end\n",
    "    return Polynomial{T}(r)\n",
    "end\n",
    "\n",
    "Base. +(p::Polynomial{T}, q::T) where T = p + Polynomial{T}([q])\n",
    "Base. +(p::T, q::Polynomial{T}) where T = q + Polynomial{T}([p])\n",
    "\n",
    "Base. -(p::Polynomial{T}) where T = Polynomial{T}(-p.coeff)\n",
    "Base. -(p::Polynomial{T}, q::Polynomial{T}) where T = p + (-q)\n",
    "Base. -(p::Polynomial{T}, q::T) where T = p + Polynomial{T}([-q])\n",
    "Base. -(p::T, q::Polynomial{T}) where T = Polynomial{T}([p]) - q\n",
    "\n",
    "Base. *(p::Polynomial{T}, q::Polynomial{T}) where T = begin\n",
    "    res = zeros(T, ord(p) + ord(q) + 1)\n",
    "    p_new = []\n",
    "    append!(p_new, p.coeff)\n",
    "    append!(p_new, zeros(Int, ord(q)))\n",
    "\n",
    "    q_new = []\n",
    "    append!(q_new, q.coeff)\n",
    "    append!(q_new, zeros(Int, ord(p)))\n",
    "\n",
    "    for i in range(0, (ord(p) + ord(q)))\n",
    "        sum = 0\n",
    "        for s in range(0, i)\n",
    "            sum = sum + (p_new[s+1]*q_new[i-s+1])\n",
    "        end\n",
    "        res[i+1] = sum\n",
    "    end\n",
    "    return Polynomial{T}(res)\n",
    "end\n",
    "\n",
    "Base. *(p::Polynomial{T}, q::T) where T = begin\n",
    "    res = []\n",
    "    for i in p.coeff\n",
    "        append!(res, i*q)\n",
    "    end\n",
    "    return Polynomial{T}(res)\n",
    "end\n",
    "Base. *(p::T, q::Polynomial{T}) where T = begin\n",
    "    res = []\n",
    "    for i in q.coeff\n",
    "        append!(res, i*p)\n",
    "    end\n",
    "    return Polynomial{T}(res)\n",
    "end\n",
    "\n",
    "Base.divrem(p::Polynomial{T}, q::Polynomial{T}) where T = begin\n",
    "    res = []\n",
    "    ost = Polynomial{T}(p.coeff)\n",
    "    p_float = Polynomial{Float16}(p.coeff)\n",
    "    q_float = Polynomial{Float16}(q.coeff)\n",
    "\n",
    "    while ord(ost) >= ord(q)\n",
    "        k = ost.coeff[1] / q.coeff[1]\n",
    "        new_q = []\n",
    "        append!(new_q, (k*q_float).coeff)\n",
    "        if (ord(ost) - ord(q)) != 0\n",
    "            append!(new_q, zeros(Float16, ord(ost) - ord(q)))\n",
    "        end\n",
    "        ost = Polynomial{Float16}((ost - Polynomial{Float16}(new_q)).coeff[2:end])\n",
    "        append!(res, k)\n",
    "    end\n",
    "    return Polynomial{Float16}(res), ost\n",
    "end\n",
    "\n",
    "Base. ÷(p::Polynomial{T}, q::Polynomial{T}) where T = divrem(p::Polynomial{T}, q::Polynomial{T})[1]\n",
    "Base. %(p::Polynomial{T}, q::Polynomial{T}) where T = divrem(p::Polynomial{T}, q::Polynomial{T})[2]"
   ]
  },
  {
   "cell_type": "code",
   "execution_count": 268,
   "metadata": {},
   "outputs": [
    {
     "data": {
      "text/plain": [
       "valdiff (generic function with 3 methods)"
      ]
     },
     "metadata": {},
     "output_type": "display_data"
    }
   ],
   "source": [
    "(p::Polynomial)(x) = begin \n",
    "    res = 0\n",
    "    for i in range(0, ord(p))\n",
    "        if i == 0\n",
    "            res = p.coeff[1]\n",
    "        else\n",
    "            res = res*x + p.coeff[i+1]\n",
    "        end\n",
    "    end\n",
    "    return res\n",
    "end\n",
    "\n",
    "valdiff(p::Polynomial, x) = begin\n",
    "    res = p(x)\n",
    "    res_diff = 0\n",
    "    for i in range(0, ord(p) - 1)\n",
    "        if i == 0\n",
    "            res_diff = p.coeff[1] * ord(p)\n",
    "        else\n",
    "            res_diff = res_diff*x + (p.coeff[i+1]*(ord(p)-i))\n",
    "        end\n",
    "    end\n",
    "    return res, res_diff\n",
    "end"
   ]
  },
  {
   "cell_type": "code",
   "execution_count": 269,
   "metadata": {},
   "outputs": [],
   "source": [
    "Base. display(p::Polynomial) = begin\n",
    "    res = \"\"\n",
    "    for i in range(0, ord(p))\n",
    "        if i != ord(p)\n",
    "            res = res*\"$(p.coeff[i+1])x^$(ord(p)-i) + \"\n",
    "        else\n",
    "            res = res*\"$(p.coeff[i+1])\"\n",
    "        end\n",
    "    end\n",
    "    print(res)\n",
    "end"
   ]
  },
  {
   "cell_type": "code",
   "execution_count": 270,
   "metadata": {},
   "outputs": [],
   "source": [
    "struct Dual{T} <: Number\n",
    "    a::T\n",
    "    b::T\n",
    "end"
   ]
  },
  {
   "cell_type": "code",
   "execution_count": 271,
   "metadata": {},
   "outputs": [],
   "source": [
    "real(x::Dual) = x.a\n",
    "imag(x::Dual) = x.b\n",
    "conj(x::Dual{T}) where T = Dual{T}(x.a, -x.b)\n",
    "\n",
    "zero(::Dual{T}) where T = Dual{T}(zero(T), zero(T))\n",
    "one(::Dual{T}) where T = Dual{T}(one(T), zero(T))\n",
    "eps(::Dual{T}) where T = Dual{T}(zero(T), one(T))\n",
    "\n",
    "Base. +(x::Dual{T}, y::Dual{T}) where T = Dual{T}(x.a+y.a, x.b+y.b)\n",
    "Base. +(x::Dual{T}, y::T) where T = Dual{T}(x.a+y, x.b)\n",
    "Base. +(x::T, y::Dual{T}) where T = y + x\n",
    "Base. +(x::Dual{T}, y::Number) where T = Dual{T}(x.a+y, x.b)\n",
    "Base. +(x::Number, y::Dual{T}) where T = y + x\n",
    "\n",
    "Base. -(x::Dual{T}) where T = Dual{T}(-x.a, -x.b)\n",
    "Base. -(x::Dual{T}, y::Dual{T}) where T = x + (-y)\n",
    "Base. -(x::Dual{T}, y::T) where T = Dual{T}(x.a - y, x.b)\n",
    "Base. -(x::T, y::Dual{T}) where T = -y + x\n",
    "\n",
    "Base. *(x::Dual{T}, y::Dual{T}) where T = Dual{T}(x.a*y.a, x.a*y.b + x.b*y.a)\n",
    "Base. *(x::Dual{T}, y::T) where T = Dual{T}(x.a*y, x.b*y)\n",
    "Base. *(x::T, y::Dual{T}) where T = Dual{T}(y.a*x, y.b*x)\n",
    "Base. *(x::Dual{T}, y::Number) where T = Dual{T}(x.a*y, x.b*y)\n",
    "Base. *(x::Number, y::Dual{T}) where T = Dual{T}(y.a*x, y.b*x)\n",
    "\n",
    "Base. /(x::Dual{T}, y::T) where T = Dual{Float16}(x.a/y, x.b/y)\n",
    "Base. /(x::Dual{T}, y::Number) where T = Dual{Float16}(x.a/y, x.b/y)\n",
    "Base. /(x::Dual{T}, y::Dual{T}) where T = (x * conj(y))/(y.a*y.a)\n",
    "Base. /(x::T, y::Dual{T}) where T = Dual{T}(x, 0) / y\n",
    "Base. /(x::Number, y::Dual{T}) where T = Dual{T}(x, 0) / y\n",
    "\n",
    "Base. ^(x::Dual{T}, y::Integer) where T = begin\n",
    "    res = Dual{T}(x.a, x.b)\n",
    "    if y == 0\n",
    "        return Dual{T}(1, 0)\n",
    "    end\n",
    "    for _ in range(1, y-1)\n",
    "        res = res * x\n",
    "    end\n",
    "    return res\n",
    "end \n",
    "\n",
    "#(a + bϵ)^(c + dϵ) = aᶜ + ϵ(b(ca^(c-1)) + d(a^c * ln(a))\n",
    "Base. ^(x::Dual{T}, y::Dual{T}) where T = Dual{Float16}(x.a^y.a, (x.b*(y.a*(x.a^(y.a-1))) + y.b*((x.a^y.a) * log(x.a))))\n",
    "Base. ^(x::Dual{T}, y::T) where T = x^Dual{T}(y, 0)\n",
    "Base. ^(x::Dual{T}, y::Number) where T = x^Dual{T}(y, 0)\n",
    "Base. ^(x::T, y::Dual{T}) where T = Dual{T}(x, 0)^y\n",
    "Base. ^(x::Number, y::Dual{T}) where T = Dual{T}(x, 0)^y\n",
    "\n",
    "Base. sqrt(x::Dual{T}) where T = Dual{Float16}(sqrt(x.a), (x.b/(2*sqrt(x.a))))"
   ]
  },
  {
   "cell_type": "code",
   "execution_count": 272,
   "metadata": {},
   "outputs": [],
   "source": [
    "Base. sin(x::Dual{T}) where T = Dual{T}(sin(x.a), x.b*cos(x.a))\n",
    "Base. cos(x::Dual{T}) where T = Dual{T}(cos(x.a), x.b*(-sin(x.a)))\n",
    "Base. tan(x::Dual{T}) where T = Dual{T}(tan(x.a), x.b*(1/(cos(x.a)^2)))\n",
    "Base. cot(x::Dual{T}) where T = Dual{T}(cot(x.a), x.b*(-1/(sin(x.a)^2)))\n",
    "Base. asin(x::Dual{T}) where T = Dual{T}(asin(x.a), x.b*(1/sqrt(1 - x.a^2)))\n",
    "Base. acos(x::Dual{T}) where T = Dual{T}(acos(x.a), x.b*(-1/sqrt(1 - x.a^2)))\n",
    "Base. atan(x::Dual{T}) where T = Dual{T}(atan(x.a), x.b*(1/(1 + x.a^2)))\n",
    "Base. acot(x::Dual{T}) where T = Dual{T}(acot(x.a), x.b*(-1/(1 + x.a^2)))\n",
    "Base. exp(x::Dual{T}) where T = Dual{T}(exp(x.a), x.b*exp(x.a))\n",
    "Base. log(x::Dual{T}) where T = Dual{T}(log(x.a), x.b*(1/x.a))\n",
    "Base. log2(x::Dual{T}) where T = Dual{T}(log2(x.a), x.b*(1/(x.a*log(2))))\n",
    "Base. log10(x::Dual{T}) where T = Dual{T}(log10(x.a), x.b*(1/(x.a*log(10))))\n",
    "Base. log(a::AbstractFloat, x::Dual{T}) where T = Dual{T}(log(a, x.a), x.b*(1/(x.a*log(a))))\n",
    "Base. sqrt(x::Dual{T}) where T = Dual{T}(sqrt(x.a), x.b*(1/(2*sqrt(x.a))))"
   ]
  },
  {
   "cell_type": "code",
   "execution_count": 273,
   "metadata": {},
   "outputs": [
    {
     "data": {
      "text/plain": [
       "valdiff (generic function with 3 methods)"
      ]
     },
     "metadata": {},
     "output_type": "display_data"
    }
   ],
   "source": [
    "valdiff(f::Function, x) = begin\n",
    "    return f(Dual{Float16}(x, 1))\n",
    "end"
   ]
  },
  {
   "cell_type": "code",
   "execution_count": 274,
   "metadata": {},
   "outputs": [
    {
     "data": {
      "text/plain": [
       "valdiff (generic function with 3 methods)"
      ]
     },
     "metadata": {},
     "output_type": "display_data"
    }
   ],
   "source": [
    "valdiff(p::Polynomial, x, ::Type{Dual}) = begin\n",
    "    return valdiff(x -> p(x), x)\n",
    "end"
   ]
  },
  {
   "cell_type": "code",
   "execution_count": 275,
   "metadata": {},
   "outputs": [
    {
     "name": "stdout",
     "output_type": "stream",
     "text": [
      "1.0x^4 + 3.0x^3 + 5.0x^2 + 7.0x^1 + 9.0"
     ]
    }
   ],
   "source": [
    "p = Polynomial{Float16}([1, 3, 5, 7, 9])"
   ]
  },
  {
   "cell_type": "code",
   "execution_count": 276,
   "metadata": {},
   "outputs": [
    {
     "data": {
      "text/plain": [
       "Dual{Float16}(Float16(83.0), Float16(95.0))"
      ]
     },
     "metadata": {},
     "output_type": "display_data"
    }
   ],
   "source": [
    "valdiff(p, 2, Dual)"
   ]
  },
  {
   "cell_type": "code",
   "execution_count": 277,
   "metadata": {},
   "outputs": [
    {
     "data": {
      "text/plain": [
       "(Float16(83.0), Float16(95.0))"
      ]
     },
     "metadata": {},
     "output_type": "display_data"
    }
   ],
   "source": [
    "valdiff(p, 2)"
   ]
  }
 ],
 "metadata": {
  "kernelspec": {
   "display_name": "Julia 1.10.2",
   "language": "julia",
   "name": "julia-1.10"
  },
  "language_info": {
   "file_extension": ".jl",
   "mimetype": "application/julia",
   "name": "julia",
   "version": "1.10.2"
  }
 },
 "nbformat": 4,
 "nbformat_minor": 2
}
