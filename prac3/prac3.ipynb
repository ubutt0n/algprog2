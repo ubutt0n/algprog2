{
 "cells": [
  {
   "cell_type": "code",
   "execution_count": 95,
   "metadata": {},
   "outputs": [
    {
     "data": {
      "text/plain": [
       "valdiff (generic function with 3 methods)"
      ]
     },
     "metadata": {},
     "output_type": "display_data"
    }
   ],
   "source": [
    "include(\"prac1.jl\")"
   ]
  },
  {
   "cell_type": "code",
   "execution_count": 96,
   "metadata": {},
   "outputs": [],
   "source": [
    "Base. mod(a::Tuple{Vararg{T}}, b::Tuple{Vararg{T}}) where T = begin\n",
    "    p1 = Polynomial{T}([a[i] for i in range(1, length(a))])\n",
    "    p2 = Polynomial{T}([b[i] for i in range(1, length(b))])\n",
    "    return p1 % p2\n",
    "end "
   ]
  },
  {
   "cell_type": "code",
   "execution_count": 97,
   "metadata": {},
   "outputs": [],
   "source": [
    "Base. mod(a::Polynomial{T}, b::T) where T = begin\n",
    "    p = []\n",
    "    for i in a.coeff\n",
    "        append!(p, mod(i, b))\n",
    "    end\n",
    "    return Polynomial{T}(p)\n",
    "end"
   ]
  },
  {
   "cell_type": "code",
   "execution_count": 98,
   "metadata": {},
   "outputs": [],
   "source": [
    "struct Residue{T,M}\n",
    "    value::T\n",
    "    Residue{T,M}(val) where {T,M} = new(mod(val, M))\n",
    "end"
   ]
  },
  {
   "cell_type": "code",
   "execution_count": 99,
   "metadata": {},
   "outputs": [],
   "source": [
    "Base. +(a::Residue{T, M}, b::Residue{T, M}) where {T, M} = Residue{T, M}(a.value + b.value)\n",
    "Base. -(a::Residue{T, M}, b::Residue{T, M}) where {T, M} = Residue{T, M}(a.value - b.value)\n",
    "Base. -(a::Residue{T, M}) where {T, M} = Residue{T, M}(-a.value)\n",
    "Base. *(a::Residue{T, M}, b::Residue{T, M}) where {T, M} = Residue{T, M}(a.value * b.value)\n",
    "Base. ^(a::Residue{T, M}, b::T) where {T, M} = Residue{T, M}(a.value^b)\n",
    "Base. one(::Type{Residue{T, M}}) where {T, M} = Residue{T, M}(Base.one(T))\n",
    "Base. zero(::Type{Residue{T, M}}) where {T, M} = Residue{T, M}(Base.zero(T))"
   ]
  },
  {
   "cell_type": "code",
   "execution_count": 100,
   "metadata": {},
   "outputs": [
    {
     "data": {
      "text/plain": [
       "Residue{Int64, 5}(2)"
      ]
     },
     "metadata": {},
     "output_type": "display_data"
    }
   ],
   "source": [
    "a = Residue{Int, 5}(12)"
   ]
  },
  {
   "cell_type": "code",
   "execution_count": 101,
   "metadata": {},
   "outputs": [
    {
     "data": {
      "text/plain": [
       "Residue{Int64, 5}(0)"
      ]
     },
     "metadata": {},
     "output_type": "display_data"
    }
   ],
   "source": [
    "b = Residue{Int, 5}(10)"
   ]
  },
  {
   "cell_type": "code",
   "execution_count": 102,
   "metadata": {},
   "outputs": [
    {
     "data": {
      "text/plain": [
       "Residue{Polynomial{Int64}, (1, 0, 0, 0)}(Polynomial{Int64}([1, 1]))"
      ]
     },
     "metadata": {},
     "output_type": "display_data"
    }
   ],
   "source": [
    "Residue{Polynomial{Int}, (1, 0, 0, 0)}((1, 0, 1, 1))"
   ]
  },
  {
   "cell_type": "code",
   "execution_count": 103,
   "metadata": {},
   "outputs": [],
   "source": [
    "Base. convert(::Type{Residue{T, M}}, a::T) where {T, M} = Residue{T, M}(a)"
   ]
  },
  {
   "cell_type": "code",
   "execution_count": 104,
   "metadata": {},
   "outputs": [
    {
     "name": "stdout",
     "output_type": "stream",
     "text": [
      "Residue{Int64, 5}(0)x^2 + Residue{Int64, 5}(1)x^1 + Residue{Int64, 5}(2)"
     ]
    }
   ],
   "source": [
    "Polynomial{Residue{Int, 5}}([5, 6, 7])"
   ]
  },
  {
   "cell_type": "code",
   "execution_count": 105,
   "metadata": {},
   "outputs": [
    {
     "data": {
      "text/plain": [
       "gcdx_ (generic function with 1 method)"
      ]
     },
     "metadata": {},
     "output_type": "display_data"
    }
   ],
   "source": [
    "function gcdx_(a::T, b::T) where T\n",
    "    u, v = Base. one(T), Base. zero(T)\n",
    "    u_, v_ = v, u\n",
    "    a0, b0 = a, b\n",
    "    #Инвариант: НОД(a, b) = НОД(a0, b0) && a = u*a0 + v*b0 && b = u_*a0 + v_*b0\n",
    "    while !iszero(b)\n",
    "        k, r = divrem(a, b)\n",
    "        a, b = b, r\n",
    "        u, u_ = u_, u-k*u_\n",
    "        v, v_ = v_, v-k*v_\n",
    "    end\n",
    "    if a < 0\n",
    "        a, u, v = -a, -u, -v\n",
    "    end\n",
    "    return a, u, v\n",
    "end"
   ]
  },
  {
   "cell_type": "code",
   "execution_count": 106,
   "metadata": {},
   "outputs": [
    {
     "data": {
      "text/plain": [
       "invmod (generic function with 1 method)"
      ]
     },
     "metadata": {},
     "output_type": "display_data"
    }
   ],
   "source": [
    "function invmod(a::Residue{T, M}) where {T, M}\n",
    "    a, u, v = gcdx_(a.value, M)\n",
    "    if a != 1 return nothing end\n",
    "    return Residue{T, M}(u)\n",
    "end"
   ]
  },
  {
   "cell_type": "code",
   "execution_count": 107,
   "metadata": {},
   "outputs": [
    {
     "data": {
      "text/plain": [
       "Residue{Int64, 10}(7)"
      ]
     },
     "metadata": {},
     "output_type": "display_data"
    }
   ],
   "source": [
    "invmod(Residue{Int, 10}(3))"
   ]
  },
  {
   "cell_type": "code",
   "execution_count": 108,
   "metadata": {},
   "outputs": [
    {
     "data": {
      "text/plain": [
       "1"
      ]
     },
     "metadata": {},
     "output_type": "display_data"
    }
   ],
   "source": [
    "(7*3)%10"
   ]
  },
  {
   "cell_type": "code",
   "execution_count": 109,
   "metadata": {},
   "outputs": [
    {
     "data": {
      "text/plain": [
       "diophant_solve (generic function with 1 method)"
      ]
     },
     "metadata": {},
     "output_type": "display_data"
    }
   ],
   "source": [
    "function diophant_solve(a::T, b::T, c::T) where T\n",
    "    d, e, f = gcdx_(a, b)\n",
    "    if d != c return nothing end\n",
    "    return e, f\n",
    "end"
   ]
  },
  {
   "cell_type": "code",
   "execution_count": 110,
   "metadata": {},
   "outputs": [
    {
     "data": {
      "text/plain": [
       "(-3, 1)"
      ]
     },
     "metadata": {},
     "output_type": "display_data"
    }
   ],
   "source": [
    "diophant_solve(3, 10, 1)"
   ]
  },
  {
   "cell_type": "code",
   "execution_count": 111,
   "metadata": {},
   "outputs": [
    {
     "data": {
      "text/plain": [
       "isprime (generic function with 1 method)"
      ]
     },
     "metadata": {},
     "output_type": "display_data"
    }
   ],
   "source": [
    "function isprime(n::IntType) where IntType <: Integer\n",
    "    for d in 2:IntType(ceil(sqrt(abs(n))))\n",
    "        if n%d == 0\n",
    "            return false\n",
    "        end\n",
    "    end\n",
    "    return true\n",
    "end"
   ]
  },
  {
   "cell_type": "code",
   "execution_count": 112,
   "metadata": {},
   "outputs": [
    {
     "data": {
      "text/plain": [
       "true"
      ]
     },
     "metadata": {},
     "output_type": "display_data"
    }
   ],
   "source": [
    "isprime(3)"
   ]
  },
  {
   "cell_type": "code",
   "execution_count": 113,
   "metadata": {},
   "outputs": [
    {
     "data": {
      "text/plain": [
       "false"
      ]
     },
     "metadata": {},
     "output_type": "display_data"
    }
   ],
   "source": [
    "isprime(4)"
   ]
  },
  {
   "cell_type": "code",
   "execution_count": 114,
   "metadata": {},
   "outputs": [
    {
     "data": {
      "text/plain": [
       "eratosphenes_sieve (generic function with 1 method)"
      ]
     },
     "metadata": {},
     "output_type": "display_data"
    }
   ],
   "source": [
    "function eratosphenes_sieve(n::Integer)\n",
    "    prime_indexes::Vector{Bool} = ones(Bool, n)\n",
    "    prime_indexes[begin] = false\n",
    "    i = 2\n",
    "    prime_indexes[i^2:i:n] .= false\n",
    "    i = 3\n",
    "    #ИНВАРИАНТ: i - простое нечетное\n",
    "    while i <= n\n",
    "        prime_indexes[i^2:2i:n] .= false\n",
    "        i += 1\n",
    "        while i <= n && prime_indexes[i] == false\n",
    "            i += 1\n",
    "        end\n",
    "    end\n",
    "    return findall(prime_indexes)\n",
    "end"
   ]
  },
  {
   "cell_type": "code",
   "execution_count": 115,
   "metadata": {},
   "outputs": [
    {
     "data": {
      "text/plain": [
       "4-element Vector{Int64}:\n",
       " 2\n",
       " 3\n",
       " 5\n",
       " 7"
      ]
     },
     "metadata": {},
     "output_type": "display_data"
    }
   ],
   "source": [
    "eratosphenes_sieve(10)"
   ]
  },
  {
   "cell_type": "code",
   "execution_count": 126,
   "metadata": {},
   "outputs": [
    {
     "data": {
      "text/plain": [
       "degree (generic function with 2 methods)"
      ]
     },
     "metadata": {},
     "output_type": "display_data"
    }
   ],
   "source": [
    "function degree(n, p)\n",
    "    k = 0\n",
    "    n, r = divrem(n, p)\n",
    "    while n > 0 && r == 0\n",
    "        k += 1\n",
    "        n, r = divrem(n, p)\n",
    "    end\n",
    "    return k\n",
    "end"
   ]
  },
  {
   "cell_type": "code",
   "execution_count": 127,
   "metadata": {},
   "outputs": [
    {
     "data": {
      "text/plain": [
       "factorize (generic function with 1 method)"
      ]
     },
     "metadata": {},
     "output_type": "display_data"
    }
   ],
   "source": [
    "function factorize(n::T) where T <: Integer\n",
    "    list = NamedTuple{(:div, :deg), Tuple{T, T}}[]\n",
    "    for p in eratosphenes_sieve(Int(ceil(n/2)))\n",
    "        k = degree(n, p)\n",
    "        if k > 0\n",
    "            push!(list, (div=p, deg=k))\n",
    "        end\n",
    "    end\n",
    "    return list\n",
    "end"
   ]
  },
  {
   "cell_type": "code",
   "execution_count": 128,
   "metadata": {},
   "outputs": [
    {
     "data": {
      "text/plain": [
       "3-element Vector{@NamedTuple{div::Int64, deg::Int64}}:\n",
       " (div = 2, deg = 3)\n",
       " (div = 3, deg = 2)\n",
       " (div = 5, deg = 1)"
      ]
     },
     "metadata": {},
     "output_type": "display_data"
    }
   ],
   "source": [
    "factorize(10)"
   ]
  }
 ],
 "metadata": {
  "kernelspec": {
   "display_name": "Julia 1.10.2",
   "language": "julia",
   "name": "julia-1.10"
  },
  "language_info": {
   "file_extension": ".jl",
   "mimetype": "application/julia",
   "name": "julia",
   "version": "1.10.2"
  }
 },
 "nbformat": 4,
 "nbformat_minor": 2
}
