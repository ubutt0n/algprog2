{
 "cells": [
  {
   "cell_type": "code",
   "execution_count": 1,
   "metadata": {},
   "outputs": [
    {
     "name": "stderr",
     "output_type": "stream",
     "text": [
      "\u001b[32m\u001b[1mPrecompiling\u001b[22m\u001b[39m StaticArrays\n",
      "\u001b[32m  ✓ \u001b[39mStaticArrays\n",
      "  1 dependency successfully precompiled in 6 seconds. 3 already precompiled.\n"
     ]
    }
   ],
   "source": [
    "using LinearAlgebra\n",
    "using StaticArrays"
   ]
  },
  {
   "cell_type": "code",
   "execution_count": 2,
   "metadata": {},
   "outputs": [],
   "source": [
    "struct Vector_2D{T<:Real} <: FieldVector{2, T}\n",
    "    x::T\n",
    "    y::T\n",
    "end"
   ]
  },
  {
   "cell_type": "code",
   "execution_count": 3,
   "metadata": {},
   "outputs": [],
   "source": [
    "Base. +(a::Vector_2D{T}, b::Vector_2D{T}) where T = Vector_2D{T}(a.x + b.x, a.y + b.y)\n",
    "Base. -(a::Vector_2D{T}, b::Vector_2D{T}) where T = Vector_2D{T}(a.x - b.x, a.y - b.y)\n",
    "Base. *(c::T, a::Vector_2D{T}) where T = Vector_2D{T}(c * a.x, c * a.y)"
   ]
  },
  {
   "cell_type": "code",
   "execution_count": 4,
   "metadata": {},
   "outputs": [],
   "source": [
    "LinearAlgebra.norm(a::Vector_2D{T}) where T = sqrt(a.x^2 + a.y^2)\n",
    "LinearAlgebra.dot(a::Vector_2D{T}, b::Vector_2D{T}) where T = a.x * b.x + a.y * b.y"
   ]
  },
  {
   "cell_type": "code",
   "execution_count": 5,
   "metadata": {},
   "outputs": [],
   "source": [
    "Base. cos(a::Vector_2D{T}, b::Vector_2D{T}) where T = dot(a,b)/norm(a)/norm(b)\n",
    "Base.sin(a::Vector_2D{T}, b::Vector_2D{T}) where T = xdot(a, b)/norm(a)/norm(b)\n",
    "Base.angle(a::Vector_2D{T}, b::Vector_2D{T}) where T = atan(sin(a, b), cos(a, b))\n",
    "Base.sign(a::Vector_2D{T}, b::Vector_2D{T}) where T = sign(sin(a, b))"
   ]
  },
  {
   "cell_type": "code",
   "execution_count": 6,
   "metadata": {},
   "outputs": [
    {
     "data": {
      "text/plain": [
       "xdot (generic function with 1 method)"
      ]
     },
     "execution_count": 6,
     "metadata": {},
     "output_type": "execute_result"
    }
   ],
   "source": [
    "xdot(a::Vector_2D{T}, b::Vector_2D{T}) where T = a.x * b.y - a.y * b.x"
   ]
  },
  {
   "cell_type": "code",
   "execution_count": 7,
   "metadata": {},
   "outputs": [],
   "source": [
    "struct Segment_2D{T<:Real}\n",
    "    A::Vector_2D{T}\n",
    "    B::Vector_2D{T}\n",
    "end"
   ]
  },
  {
   "cell_type": "code",
   "execution_count": 8,
   "metadata": {},
   "outputs": [
    {
     "data": {
      "text/plain": [
       "is_one (generic function with 1 method)"
      ]
     },
     "execution_count": 8,
     "metadata": {},
     "output_type": "execute_result"
    }
   ],
   "source": [
    "function is_one(P::Vector_2D{T}, Q::Vector_2D{T}, s::Segment_2D{T}) where T\n",
    "    l = s.B-s.A\n",
    "    return sin(l, P-s.A)*sin(l,Q-s.A)>0\n",
    "end"
   ]
  },
  {
   "cell_type": "code",
   "execution_count": 9,
   "metadata": {},
   "outputs": [
    {
     "data": {
      "text/plain": [
       "is_one_area (generic function with 1 method)"
      ]
     },
     "execution_count": 9,
     "metadata": {},
     "output_type": "execute_result"
    }
   ],
   "source": [
    "is_one_area(F::Function, P::Vector_2D{T}, Q::Vector_2D{T}) where T = (F(P...)*F(Q...)>0)"
   ]
  },
  {
   "cell_type": "code",
   "execution_count": 10,
   "metadata": {},
   "outputs": [
    {
     "data": {
      "text/plain": [
       "Segment_2D{Int64}([0, 0], [1, 1])"
      ]
     },
     "execution_count": 10,
     "metadata": {},
     "output_type": "execute_result"
    }
   ],
   "source": [
    "y = Segment_2D{Int}(Vector_2D{Int}(0,0), Vector_2D{Int}(1,1))"
   ]
  },
  {
   "cell_type": "code",
   "execution_count": 11,
   "metadata": {},
   "outputs": [
    {
     "data": {
      "text/plain": [
       "2-element Vector_2D{Int64} with indices SOneTo(2):\n",
       " 0\n",
       " 1"
      ]
     },
     "execution_count": 11,
     "metadata": {},
     "output_type": "execute_result"
    }
   ],
   "source": [
    "a = Vector_2D{Int}(0,1)"
   ]
  },
  {
   "cell_type": "code",
   "execution_count": 12,
   "metadata": {},
   "outputs": [
    {
     "data": {
      "text/plain": [
       "2-element Vector_2D{Int64} with indices SOneTo(2):\n",
       " 0\n",
       " 2"
      ]
     },
     "execution_count": 12,
     "metadata": {},
     "output_type": "execute_result"
    }
   ],
   "source": [
    "b = Vector_2D{Int}(0, 2)"
   ]
  },
  {
   "cell_type": "code",
   "execution_count": 13,
   "metadata": {},
   "outputs": [
    {
     "data": {
      "text/plain": [
       "true"
      ]
     },
     "execution_count": 13,
     "metadata": {},
     "output_type": "execute_result"
    }
   ],
   "source": [
    "is_one(a, b, y)"
   ]
  },
  {
   "cell_type": "code",
   "execution_count": 14,
   "metadata": {},
   "outputs": [
    {
     "data": {
      "text/plain": [
       "2-element Vector_2D{Int64} with indices SOneTo(2):\n",
       " 1\n",
       " 0"
      ]
     },
     "execution_count": 14,
     "metadata": {},
     "output_type": "execute_result"
    }
   ],
   "source": [
    "b = Vector_2D{Int}(1, 0)"
   ]
  },
  {
   "cell_type": "code",
   "execution_count": 15,
   "metadata": {},
   "outputs": [
    {
     "data": {
      "text/plain": [
       "false"
      ]
     },
     "execution_count": 15,
     "metadata": {},
     "output_type": "execute_result"
    }
   ],
   "source": [
    "is_one(a, b, y)"
   ]
  },
  {
   "cell_type": "code",
   "execution_count": 16,
   "metadata": {},
   "outputs": [
    {
     "data": {
      "text/plain": [
       "convex (generic function with 1 method)"
      ]
     },
     "execution_count": 16,
     "metadata": {},
     "output_type": "execute_result"
    }
   ],
   "source": [
    "function convex(vertices::Vector{Vector_2D{T}}) where T\n",
    "    n = length(vertices)\n",
    "    if n < 3 return true end\n",
    "    arr = [vertices[i+1] - vertices[i] for i in 1:n-1]\n",
    "    xdot_arr = [xdot(arr[i], arr[i+1]) for i in 1:n-2]\n",
    "\n",
    "    return all(i -> i >= 0, xdot_arr) || all(i -> i <= 0, xdot_arr)\n",
    "end"
   ]
  },
  {
   "cell_type": "code",
   "execution_count": 73,
   "metadata": {},
   "outputs": [
    {
     "data": {
      "text/plain": [
       "true"
      ]
     },
     "execution_count": 73,
     "metadata": {},
     "output_type": "execute_result"
    }
   ],
   "source": [
    "a = Vector_2D{Float64}(0,0)\n",
    "b = Vector_2D{Float64}(1,0)\n",
    "c = Vector_2D{Float64}(1,1)\n",
    "d = Vector_2D{Float64}(0,1)\n",
    "convex([a, b, c, d])"
   ]
  },
  {
   "cell_type": "code",
   "execution_count": 18,
   "metadata": {},
   "outputs": [
    {
     "data": {
      "text/plain": [
       "inside (generic function with 1 method)"
      ]
     },
     "execution_count": 18,
     "metadata": {},
     "output_type": "execute_result"
    }
   ],
   "source": [
    "function inside(vector::Vector_2D{T}, vertices::Vector{Vector_2D{T}}) where T\n",
    "    res = zero(T)\n",
    "    for i in 1:length(vertices)-1\n",
    "        res += angle(vertices[i] - vector, vertices[i+1] - vector)\n",
    "    end\n",
    "\n",
    "    res += angle(vertices[end] - vector, vertices[begin] - vector)\n",
    "\n",
    "    return res > π\n",
    "end"
   ]
  },
  {
   "cell_type": "code",
   "execution_count": 19,
   "metadata": {},
   "outputs": [
    {
     "data": {
      "text/plain": [
       "true"
      ]
     },
     "execution_count": 19,
     "metadata": {},
     "output_type": "execute_result"
    }
   ],
   "source": [
    "inside(Vector_2D(0.5, 0.5), [a, b, c, d])"
   ]
  },
  {
   "cell_type": "code",
   "execution_count": 20,
   "metadata": {},
   "outputs": [
    {
     "data": {
      "text/plain": [
       "rotate (generic function with 1 method)"
      ]
     },
     "execution_count": 20,
     "metadata": {},
     "output_type": "execute_result"
    }
   ],
   "source": [
    "function rotate(p1::Vector_2D{T}, p2::Vector_2D{T}, p3::Vector_2D{T}) where T\n",
    "    return ((p2[1] - p1[1]) * (p3[2] - p1[2]) - (p2[2] - p1[2]) * (p3[1] - p1[1]))\n",
    "end"
   ]
  },
  {
   "cell_type": "code",
   "execution_count": 48,
   "metadata": {},
   "outputs": [
    {
     "data": {
      "text/plain": [
       "Jarvis (generic function with 1 method)"
      ]
     },
     "execution_count": 48,
     "metadata": {},
     "output_type": "execute_result"
    }
   ],
   "source": [
    "function Jarvis(points::Vector{Vector_2D{T}}) where T\n",
    "    n = length(points)\n",
    "    if n < 3 return points end\n",
    "    P = [i for i in 1:n]\n",
    "\n",
    "    for i in 1:n\n",
    "        if points[P[i]].x < points[P[1]].x\n",
    "            P[i], P[1] = P[1], P[i]\n",
    "        end\n",
    "    end\n",
    "    \n",
    "    H = [P[1]]\n",
    "    deleteat!(P, 1)\n",
    "    append!(P, H[1])\n",
    "\n",
    "    while true\n",
    "        right = 1\n",
    "        for i in 2:length(P)\n",
    "            if rotate(points[H[end]], points[P[right]], points[P[i]]) < 0\n",
    "                right = i\n",
    "            end\n",
    "        end\n",
    "        if P[right] == H[begin]\n",
    "            break\n",
    "        else\n",
    "            append!(H, P[right])\n",
    "            deleteat!(P, right)\n",
    "        end\n",
    "    end\n",
    "\n",
    "    return [points[i] for i in H]\n",
    "end"
   ]
  },
  {
   "cell_type": "code",
   "execution_count": 49,
   "metadata": {},
   "outputs": [
    {
     "data": {
      "text/plain": [
       "4-element Vector{Vector_2D{Float64}}:\n",
       " [0.1, 0.1]\n",
       " [0.3, 0.1]\n",
       " [0.4, 0.2]\n",
       " [0.2, 0.5]"
      ]
     },
     "execution_count": 49,
     "metadata": {},
     "output_type": "execute_result"
    }
   ],
   "source": [
    "p1 = Vector_2D(0.2, 0.2)\n",
    "p2 = Vector_2D(0.3, 0.3)\n",
    "p3 = Vector_2D(0.2, 0.5)\n",
    "p4 = Vector_2D(0.3, 0.1)\n",
    "p5 = Vector_2D(0.1, 0.1)\n",
    "p6 = Vector_2D(0.4, 0.2)\n",
    "points = [p1, p2, p3, p4, p5, p6]\n",
    "Jarvis(points)"
   ]
  },
  {
   "cell_type": "code",
   "execution_count": 66,
   "metadata": {},
   "outputs": [
    {
     "data": {
      "text/plain": [
       "graham (generic function with 1 method)"
      ]
     },
     "execution_count": 66,
     "metadata": {},
     "output_type": "execute_result"
    }
   ],
   "source": [
    "function graham(points::Vector{Vector_2D{T}}) where T\n",
    "    n = length(points)\n",
    "    P = [i for i in 1:n]\n",
    "\n",
    "    for i in 1:n\n",
    "        if points[P[i]].x < points[P[begin]].x\n",
    "            P[i], P[1] = P[1], P[i]\n",
    "        end\n",
    "    end\n",
    "    for i in 2:n\n",
    "        j = i\n",
    "        while j > 1 && (rotate(points[P[begin]], points[P[j-1]], points[P[j]]) < 0)\n",
    "            P[j], P[j-1] = P[j-1], P[j]\n",
    "            j -= 1\n",
    "        end\n",
    "    end\n",
    "    S = [P[1], P[2]]\n",
    "    for i in 2:n\n",
    "        while rotate(points[S[end-1]], points[S[end]], points[P[i]]) < 0\n",
    "            pop!(S)\n",
    "        end\n",
    "        append!(S, P[i])\n",
    "    end\n",
    "    return [points[i] for i in S]\n",
    "end"
   ]
  },
  {
   "cell_type": "code",
   "execution_count": 67,
   "metadata": {},
   "outputs": [
    {
     "data": {
      "text/plain": [
       "5-element Vector{Vector_2D{Float64}}:\n",
       " [0.1, 0.1]\n",
       " [0.3, 0.1]\n",
       " [0.3, 0.1]\n",
       " [0.4, 0.2]\n",
       " [0.2, 0.5]"
      ]
     },
     "execution_count": 67,
     "metadata": {},
     "output_type": "execute_result"
    }
   ],
   "source": [
    "graham(points)"
   ]
  },
  {
   "cell_type": "code",
   "execution_count": 85,
   "metadata": {},
   "outputs": [
    {
     "data": {
      "text/plain": [
       "s_t (generic function with 1 method)"
      ]
     },
     "execution_count": 85,
     "metadata": {},
     "output_type": "execute_result"
    }
   ],
   "source": [
    "function s_t(vertices::Vector{Vector_2D{T}}) where T\n",
    "    n = length(vertices)\n",
    "    area = 0\n",
    "\n",
    "    for i in 1:n\n",
    "        x1, y1 = vertices[i]\n",
    "        x2, y2 = vertices[(i % n) + 1]\n",
    "        area += (x1 + x2) * (y2 - y1)\n",
    "    end\n",
    "    return area/2\n",
    "end"
   ]
  },
  {
   "cell_type": "code",
   "execution_count": 86,
   "metadata": {},
   "outputs": [
    {
     "data": {
      "text/plain": [
       "2-element Vector_2D{Float64} with indices SOneTo(2):\n",
       " 0.0\n",
       " 1.0"
      ]
     },
     "execution_count": 86,
     "metadata": {},
     "output_type": "execute_result"
    }
   ],
   "source": [
    "a = Vector_2D{Float64}(0,0)\n",
    "b = Vector_2D{Float64}(1,0)\n",
    "c = Vector_2D{Float64}(1,1)\n",
    "d = Vector_2D{Float64}(0,1)"
   ]
  },
  {
   "cell_type": "code",
   "execution_count": 87,
   "metadata": {},
   "outputs": [
    {
     "data": {
      "text/plain": [
       "1.0"
      ]
     },
     "execution_count": 87,
     "metadata": {},
     "output_type": "execute_result"
    }
   ],
   "source": [
    "s_t([a, b, c, d])"
   ]
  },
  {
   "cell_type": "code",
   "execution_count": 88,
   "metadata": {},
   "outputs": [
    {
     "data": {
      "text/plain": [
       "s_triangle (generic function with 1 method)"
      ]
     },
     "execution_count": 88,
     "metadata": {},
     "output_type": "execute_result"
    }
   ],
   "source": [
    "function s_triangle(vertices::Vector{Vector_2D{T}}) where T\n",
    "    n = length(vertices)\n",
    "    area = 0\n",
    "\n",
    "    for i in 1:n-1\n",
    "        area += xdot(vertices[i], vertices[i+1])\n",
    "    end\n",
    "\n",
    "    area += xdot(vertices[n], vertices[begin])\n",
    "\n",
    "    return area/2\n",
    "end"
   ]
  },
  {
   "cell_type": "code",
   "execution_count": 89,
   "metadata": {},
   "outputs": [
    {
     "data": {
      "text/plain": [
       "1.0"
      ]
     },
     "execution_count": 89,
     "metadata": {},
     "output_type": "execute_result"
    }
   ],
   "source": [
    "s_triangle([a, b, c, d])"
   ]
  }
 ],
 "metadata": {
  "kernelspec": {
   "display_name": "Julia 1.10.2",
   "language": "julia",
   "name": "julia-1.10"
  },
  "language_info": {
   "file_extension": ".jl",
   "mimetype": "application/julia",
   "name": "julia",
   "version": "1.10.2"
  }
 },
 "nbformat": 4,
 "nbformat_minor": 2
}
