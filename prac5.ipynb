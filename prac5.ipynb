{
 "cells": [
  {
   "cell_type": "code",
   "execution_count": 3,
   "metadata": {},
   "outputs": [
    {
     "data": {
      "text/plain": [
       "5-element Vector{Int64}:\n",
       " 2\n",
       " 1\n",
       " 9\n",
       " 7\n",
       " 5"
      ]
     },
     "execution_count": 3,
     "metadata": {},
     "output_type": "execute_result"
    }
   ],
   "source": [
    "a = [2, 1, 9, 7, 5]"
   ]
  },
  {
   "cell_type": "code",
   "execution_count": 4,
   "metadata": {},
   "outputs": [
    {
     "data": {
      "text/plain": [
       "5-element Vector{Int64}:\n",
       " 1\n",
       " 2\n",
       " 5\n",
       " 7\n",
       " 9"
      ]
     },
     "execution_count": 4,
     "metadata": {},
     "output_type": "execute_result"
    }
   ],
   "source": [
    "sort(a)"
   ]
  },
  {
   "cell_type": "code",
   "execution_count": 5,
   "metadata": {},
   "outputs": [
    {
     "data": {
      "text/plain": [
       "5-element Vector{Int64}:\n",
       " 2\n",
       " 1\n",
       " 9\n",
       " 7\n",
       " 5"
      ]
     },
     "execution_count": 5,
     "metadata": {},
     "output_type": "execute_result"
    }
   ],
   "source": [
    "a"
   ]
  },
  {
   "cell_type": "code",
   "execution_count": 6,
   "metadata": {},
   "outputs": [
    {
     "data": {
      "text/plain": [
       "5-element Vector{Int64}:\n",
       " 1\n",
       " 2\n",
       " 5\n",
       " 7\n",
       " 9"
      ]
     },
     "execution_count": 6,
     "metadata": {},
     "output_type": "execute_result"
    }
   ],
   "source": [
    "sort!(a)"
   ]
  },
  {
   "cell_type": "code",
   "execution_count": 7,
   "metadata": {},
   "outputs": [
    {
     "data": {
      "text/plain": [
       "5-element Vector{Int64}:\n",
       " 1\n",
       " 2\n",
       " 5\n",
       " 7\n",
       " 9"
      ]
     },
     "execution_count": 7,
     "metadata": {},
     "output_type": "execute_result"
    }
   ],
   "source": [
    "a"
   ]
  },
  {
   "cell_type": "code",
   "execution_count": 8,
   "metadata": {},
   "outputs": [
    {
     "data": {
      "text/plain": [
       "5-element Vector{Int64}:\n",
       " 2\n",
       " 1\n",
       " 9\n",
       " 7\n",
       " 5"
      ]
     },
     "execution_count": 8,
     "metadata": {},
     "output_type": "execute_result"
    }
   ],
   "source": [
    "a = [2, 1, 9, 7, 5]"
   ]
  },
  {
   "cell_type": "code",
   "execution_count": 9,
   "metadata": {},
   "outputs": [
    {
     "data": {
      "text/plain": [
       "5-element Vector{Int64}:\n",
       " 2\n",
       " 1\n",
       " 5\n",
       " 4\n",
       " 3"
      ]
     },
     "execution_count": 9,
     "metadata": {},
     "output_type": "execute_result"
    }
   ],
   "source": [
    "b = sortperm(a)"
   ]
  },
  {
   "cell_type": "code",
   "execution_count": 10,
   "metadata": {},
   "outputs": [
    {
     "data": {
      "text/plain": [
       "5-element Vector{Int64}:\n",
       " 1\n",
       " 2\n",
       " 5\n",
       " 7\n",
       " 9"
      ]
     },
     "execution_count": 10,
     "metadata": {},
     "output_type": "execute_result"
    }
   ],
   "source": [
    "a[b]"
   ]
  },
  {
   "cell_type": "code",
   "execution_count": 11,
   "metadata": {},
   "outputs": [
    {
     "data": {
      "text/plain": [
       "5-element Vector{Int64}:\n",
       " 0\n",
       " 0\n",
       " 0\n",
       " 0\n",
       " 0"
      ]
     },
     "execution_count": 11,
     "metadata": {},
     "output_type": "execute_result"
    }
   ],
   "source": [
    "c = zeros(Int, 5)"
   ]
  },
  {
   "cell_type": "code",
   "execution_count": 12,
   "metadata": {},
   "outputs": [
    {
     "data": {
      "text/plain": [
       "5-element Vector{Int64}:\n",
       " 2\n",
       " 1\n",
       " 5\n",
       " 4\n",
       " 3"
      ]
     },
     "execution_count": 12,
     "metadata": {},
     "output_type": "execute_result"
    }
   ],
   "source": [
    "sortperm!(c, a)"
   ]
  },
  {
   "cell_type": "code",
   "execution_count": 13,
   "metadata": {},
   "outputs": [
    {
     "data": {
      "text/plain": [
       "5-element Vector{Int64}:\n",
       " 1\n",
       " 2\n",
       " 5\n",
       " 7\n",
       " 9"
      ]
     },
     "execution_count": 13,
     "metadata": {},
     "output_type": "execute_result"
    }
   ],
   "source": [
    "a[c]"
   ]
  },
  {
   "cell_type": "code",
   "execution_count": 14,
   "metadata": {},
   "outputs": [
    {
     "data": {
      "text/plain": [
       "buble_sort! (generic function with 1 method)"
      ]
     },
     "execution_count": 14,
     "metadata": {},
     "output_type": "execute_result"
    }
   ],
   "source": [
    "function buble_sort!(a)\n",
    "    n = length(a)\n",
    "    for k in 1:n-1\n",
    "        istranspose = false\n",
    "        for i in 1:n-k\n",
    "            if a[i] > a[i+1]\n",
    "                a[i], a[i+1] = a[i+1], a[i]\n",
    "                istranspose = true\n",
    "            end\n",
    "        end\n",
    "        if istranspose == false\n",
    "            break\n",
    "        end\n",
    "    end\n",
    "    return a\n",
    "end"
   ]
  },
  {
   "cell_type": "code",
   "execution_count": 15,
   "metadata": {},
   "outputs": [
    {
     "data": {
      "text/plain": [
       "insert_sort! (generic function with 1 method)"
      ]
     },
     "execution_count": 15,
     "metadata": {},
     "output_type": "execute_result"
    }
   ],
   "source": [
    "function insert_sort!(vector)\n",
    "    n = 1\n",
    "    #ИНВАРИАНТ: срез vector[1:n] - отсортирован\n",
    "    while n < length(vector)\n",
    "        n += 1\n",
    "        i = n\n",
    "        while i > 1 && vector[i-1] > vector[i]\n",
    "            vector[i], vector[i-1] = vector[i-1], vector[i]\n",
    "            i -= 1\n",
    "        end\n",
    "    end\n",
    "    return vector\n",
    "end"
   ]
  },
  {
   "cell_type": "code",
   "execution_count": 16,
   "metadata": {},
   "outputs": [],
   "source": [
    "Base. sort!(vector::AbstractVector) = buble_sort!(vector)"
   ]
  },
  {
   "cell_type": "code",
   "execution_count": 17,
   "metadata": {},
   "outputs": [],
   "source": [
    "Base. sort(vector::AbstractVector) = sort!(deepcopy(vector))"
   ]
  },
  {
   "cell_type": "code",
   "execution_count": 18,
   "metadata": {},
   "outputs": [],
   "source": [
    "Base. sortperm!(vector1::AbstractVector, vector2::AbstractVector) = begin\n",
    "    sorted = sort(vector2)\n",
    "    for i in 1:length(sorted)\n",
    "        vector1[i] = findfirst(==(vector2[i]), sorted)\n",
    "    end\n",
    "    return vector1\n",
    "end"
   ]
  },
  {
   "cell_type": "code",
   "execution_count": 19,
   "metadata": {},
   "outputs": [],
   "source": [
    "Base. sortperm(vector::AbstractVector) = sortperm!(zeros(Int, length(vector)), vector)"
   ]
  },
  {
   "cell_type": "code",
   "execution_count": 20,
   "metadata": {},
   "outputs": [],
   "source": [
    "Base. issorted(vector::AbstractVector) = vector == sort(vector)"
   ]
  },
  {
   "cell_type": "code",
   "execution_count": 21,
   "metadata": {},
   "outputs": [
    {
     "data": {
      "text/plain": [
       "5-element Vector{Int64}:\n",
       " 2\n",
       " 1\n",
       " 9\n",
       " 7\n",
       " 5"
      ]
     },
     "execution_count": 21,
     "metadata": {},
     "output_type": "execute_result"
    }
   ],
   "source": [
    "a"
   ]
  },
  {
   "cell_type": "code",
   "execution_count": 22,
   "metadata": {},
   "outputs": [
    {
     "data": {
      "text/plain": [
       "5-element Vector{Int64}:\n",
       " 1\n",
       " 2\n",
       " 5\n",
       " 7\n",
       " 9"
      ]
     },
     "execution_count": 22,
     "metadata": {},
     "output_type": "execute_result"
    }
   ],
   "source": [
    "a[sortperm(a)]"
   ]
  },
  {
   "cell_type": "code",
   "execution_count": 23,
   "metadata": {},
   "outputs": [
    {
     "data": {
      "text/plain": [
       "true"
      ]
     },
     "execution_count": 23,
     "metadata": {},
     "output_type": "execute_result"
    }
   ],
   "source": [
    "issorted(a[sortperm(a)])"
   ]
  },
  {
   "cell_type": "code",
   "execution_count": 24,
   "metadata": {},
   "outputs": [
    {
     "data": {
      "text/plain": [
       "comb_sort! (generic function with 2 methods)"
      ]
     },
     "execution_count": 24,
     "metadata": {},
     "output_type": "execute_result"
    }
   ],
   "source": [
    "function comb_sort!(a::AbstractVector, factor=1.2473309)\n",
    "    step = length(a)\n",
    "    while step >= 1\n",
    "        for i in 1:length(a)-step\n",
    "            if a[i] > a[i+step]\n",
    "                a[i], a[i+step] = a[i+step], a[i]\n",
    "            end\n",
    "        end\n",
    "        step = Int(floor(step/factor))\n",
    "    end\n",
    "    buble_sort!(a)\n",
    "end"
   ]
  },
  {
   "cell_type": "code",
   "execution_count": 25,
   "metadata": {},
   "outputs": [
    {
     "data": {
      "text/plain": [
       "shell_sort_alt! (generic function with 1 method)"
      ]
     },
     "execution_count": 25,
     "metadata": {},
     "output_type": "execute_result"
    }
   ],
   "source": [
    "function shell_sort_alt!(a::AbstractVector)\n",
    "    n = length(a)\n",
    "    step_series = (n÷2^i for i in 1:Int(floor(log2(n))))\n",
    "    for step in step_series\n",
    "        for i in firstindex(a):step-1\n",
    "            insert_sort!(@view(a[i:step:end]))\n",
    "        end\n",
    "    end\n",
    "    return a\n",
    "end"
   ]
  },
  {
   "cell_type": "code",
   "execution_count": 26,
   "metadata": {},
   "outputs": [],
   "source": [
    "@inline\n",
    "function Base.merge!(a1, a2, a3)::Nothing\n",
    "    i1, i2, i3 = 1, 1, 1\n",
    "    @inbounds while i1 <= length(a1) && i2 <= length(a2)\n",
    "        if a1[i1] < a2[i2]\n",
    "            a3[i3] = a1[i1]\n",
    "            i1 += 1\n",
    "        else\n",
    "            a3[i3] = a2[i2]\n",
    "            i2 += 1\n",
    "        end\n",
    "        i3 += 1\n",
    "    end\n",
    "    @inbounds if i1 > length(a1)\n",
    "        a3[i3:end] .= @view(a2[i2:end])\n",
    "    else\n",
    "        a3[i3:end] .= @view(a1[i1:end])\n",
    "    end\n",
    "    nothing\n",
    "end"
   ]
  },
  {
   "cell_type": "code",
   "execution_count": 27,
   "metadata": {},
   "outputs": [
    {
     "data": {
      "text/plain": [
       "merge_sort! (generic function with 1 method)"
      ]
     },
     "execution_count": 27,
     "metadata": {},
     "output_type": "execute_result"
    }
   ],
   "source": [
    "function merge_sort!(a)\n",
    "    b = similar(a)\n",
    "    N = length(a)\n",
    "    n = 1\n",
    "    @inbounds while n < N\n",
    "        K = div(N, 2n)\n",
    "        for k in 0:K-1\n",
    "            merge!(@view(a[(1:n).+k*2n]),\n",
    "            @view(a[(n+1:2n).+k*2n]), @view(b[(1:2n).+k*2n]))\n",
    "        end\n",
    "        if N - K*2n > n\n",
    "            merge!(@view(a[(1:n).+K*2n]),\n",
    "            @view(a[K*2n+n+1:end]), @view(b[K*2n+1:end]))\n",
    "        elseif 0 < N - K*2n <= N\n",
    "            b[K*2n+1:end] .= @view(a[K*2n+1:end])\n",
    "        end\n",
    "        a, b = b, a\n",
    "        n *= 2\n",
    "    end\n",
    "    if isodd(log2(n))\n",
    "        b .= a\n",
    "        a = b\n",
    "    end\n",
    "    return a\n",
    "end"
   ]
  },
  {
   "cell_type": "code",
   "execution_count": 28,
   "metadata": {},
   "outputs": [
    {
     "data": {
      "text/plain": [
       "part_sort! (generic function with 1 method)"
      ]
     },
     "execution_count": 28,
     "metadata": {},
     "output_type": "execute_result"
    }
   ],
   "source": [
    "function part_sort!(a, b)\n",
    "    N = length(a)\n",
    "    K = 0; L = 0; M = N\n",
    "    #Инвариант: a[1:K] < b && a[K+1:L] == b && a[M+1:N] > b\n",
    "    while L < M\n",
    "        if a[L+1] == b\n",
    "            L += 1\n",
    "        elseif a[L+1] > b\n",
    "            a[L+1], a[M] = a[M], a[L+1]\n",
    "            M -= 1\n",
    "        else\n",
    "            L += 1; K += 1\n",
    "            a[L], a[K] = a[K], a[L]\n",
    "        end\n",
    "    end\n",
    "    return K, M+1\n",
    "end"
   ]
  },
  {
   "cell_type": "code",
   "execution_count": 29,
   "metadata": {},
   "outputs": [
    {
     "data": {
      "text/plain": [
       "quick_sort! (generic function with 1 method)"
      ]
     },
     "execution_count": 29,
     "metadata": {},
     "output_type": "execute_result"
    }
   ],
   "source": [
    "function quick_sort!(a)\n",
    "    if isempty(a)\n",
    "        return a\n",
    "    end\n",
    "    N = length(a)\n",
    "    K, M = part_sort!(a, a[rand(1:N)])\n",
    "    quick_sort!(@view(a[1:K]))\n",
    "    quick_sort!(@view(a[M:N]))\n",
    "    return a\n",
    "end"
   ]
  },
  {
   "cell_type": "code",
   "execution_count": 30,
   "metadata": {},
   "outputs": [
    {
     "data": {
      "text/plain": [
       "1000000000-element Vector{Int64}:\n",
       "          1\n",
       "          2\n",
       "          3\n",
       "          4\n",
       "          5\n",
       "          6\n",
       "          7\n",
       "          8\n",
       "          9\n",
       "         10\n",
       "         11\n",
       "         12\n",
       "         13\n",
       "          ⋮\n",
       "  999999989\n",
       "  999999990\n",
       "  999999991\n",
       "  999999992\n",
       "  999999993\n",
       "  999999994\n",
       "  999999995\n",
       "  999999996\n",
       "  999999997\n",
       "  999999998\n",
       "  999999999\n",
       " 1000000000"
      ]
     },
     "execution_count": 30,
     "metadata": {},
     "output_type": "execute_result"
    }
   ],
   "source": [
    "buble_sort!([i for i in 1:1_000_000_000])"
   ]
  },
  {
   "cell_type": "code",
   "execution_count": 31,
   "metadata": {},
   "outputs": [
    {
     "data": {
      "text/plain": [
       "1000000000-element Vector{Int64}:\n",
       "          1\n",
       "          2\n",
       "          3\n",
       "          4\n",
       "          5\n",
       "          6\n",
       "          7\n",
       "          8\n",
       "          9\n",
       "         10\n",
       "         11\n",
       "         12\n",
       "         13\n",
       "          ⋮\n",
       "  999999989\n",
       "  999999990\n",
       "  999999991\n",
       "  999999992\n",
       "  999999993\n",
       "  999999994\n",
       "  999999995\n",
       "  999999996\n",
       "  999999997\n",
       "  999999998\n",
       "  999999999\n",
       " 1000000000"
      ]
     },
     "execution_count": 31,
     "metadata": {},
     "output_type": "execute_result"
    }
   ],
   "source": [
    "insert_sort!([i for i in 1:1_000_000_000])"
   ]
  },
  {
   "cell_type": "code",
   "execution_count": 32,
   "metadata": {},
   "outputs": [
    {
     "data": {
      "text/plain": [
       "1000000000-element Vector{Int64}:\n",
       "          1\n",
       "          2\n",
       "          3\n",
       "          4\n",
       "          5\n",
       "          6\n",
       "          7\n",
       "          8\n",
       "          9\n",
       "         10\n",
       "         11\n",
       "         12\n",
       "         13\n",
       "          ⋮\n",
       "  999999989\n",
       "  999999990\n",
       "  999999991\n",
       "  999999992\n",
       "  999999993\n",
       "  999999994\n",
       "  999999995\n",
       "  999999996\n",
       "  999999997\n",
       "  999999998\n",
       "  999999999\n",
       " 1000000000"
      ]
     },
     "execution_count": 32,
     "metadata": {},
     "output_type": "execute_result"
    }
   ],
   "source": [
    "shell_sort_alt!([i for i in 1:1_000_000_000])"
   ]
  },
  {
   "cell_type": "code",
   "execution_count": 33,
   "metadata": {},
   "outputs": [
    {
     "data": {
      "text/plain": [
       "1000000000-element Vector{Int64}:\n",
       "          1\n",
       "          2\n",
       "          3\n",
       "          4\n",
       "          5\n",
       "          6\n",
       "          7\n",
       "          8\n",
       "          9\n",
       "         10\n",
       "         11\n",
       "         12\n",
       "         13\n",
       "          ⋮\n",
       "  999999989\n",
       "  999999990\n",
       "  999999991\n",
       "  999999992\n",
       "  999999993\n",
       "  999999994\n",
       "  999999995\n",
       "  999999996\n",
       "  999999997\n",
       "  999999998\n",
       "  999999999\n",
       " 1000000000"
      ]
     },
     "execution_count": 33,
     "metadata": {},
     "output_type": "execute_result"
    }
   ],
   "source": [
    "comb_sort!([i for i in 1:1_000_000_000])"
   ]
  },
  {
   "cell_type": "code",
   "execution_count": 34,
   "metadata": {},
   "outputs": [
    {
     "ename": "LoadError",
     "evalue": "OutOfMemoryError()",
     "output_type": "error",
     "traceback": [
      "OutOfMemoryError()",
      "",
      "Stacktrace:",
      " [1] Array",
      "   @ .\\boot.jl:477 [inlined]",
      " [2] similar",
      "   @ .\\array.jl:415 [inlined]",
      " [3] merge_sort!(a::Vector{Int64})",
      "   @ Main .\\In[27]:2",
      " [4] top-level scope",
      "   @ In[34]:1"
     ]
    }
   ],
   "source": [
    "merge_sort!([i for i in 1:1_000_000_000])"
   ]
  },
  {
   "cell_type": "code",
   "execution_count": null,
   "metadata": {},
   "outputs": [],
   "source": [
    "quick_sort!([i for i in 1:1_000_000_000])"
   ]
  },
  {
   "cell_type": "code",
   "execution_count": null,
   "metadata": {},
   "outputs": [],
   "source": [
    "InsertionSort([i for i in 1:1_000_000_000])"
   ]
  },
  {
   "cell_type": "code",
   "execution_count": null,
   "metadata": {},
   "outputs": [],
   "source": [
    "MergeSort([i for i in 1:1_000_000_000])"
   ]
  },
  {
   "cell_type": "code",
   "execution_count": null,
   "metadata": {},
   "outputs": [],
   "source": [
    "QuickSort([i for i in 1:1_000_000_000])"
   ]
  },
  {
   "cell_type": "code",
   "execution_count": null,
   "metadata": {},
   "outputs": [
    {
     "data": {
      "text/plain": [
       "hoar_median (generic function with 1 method)"
      ]
     },
     "execution_count": 56,
     "metadata": {},
     "output_type": "execute_result"
    }
   ],
   "source": [
    "function hoar_median(arr)\n",
    "    arr = quick_sort!(arr)\n",
    "    if length(arr) % 2 == 1\n",
    "        return arr[Int(ceil(length(arr) / 2))]\n",
    "    else\n",
    "        return (arr[Int(length(arr) / 2) + 1] + arr[Int(length(arr) / 2)])/2\n",
    "    end\n",
    "end"
   ]
  },
  {
   "cell_type": "code",
   "execution_count": null,
   "metadata": {},
   "outputs": [
    {
     "data": {
      "text/plain": [
       "3.5"
      ]
     },
     "execution_count": 60,
     "metadata": {},
     "output_type": "execute_result"
    }
   ],
   "source": [
    "hoar_median([6, 5, 4, 3, 2, 1])"
   ]
  },
  {
   "cell_type": "code",
   "execution_count": null,
   "metadata": {},
   "outputs": [
    {
     "data": {
      "text/plain": [
       "heap! (generic function with 1 method)"
      ]
     },
     "execution_count": 3,
     "metadata": {},
     "output_type": "execute_result"
    }
   ],
   "source": [
    "function heap!(array)\n",
    "    N = length(array)\n",
    "    for i in 1:N÷2\n",
    "        if array[i] < array[2i]\n",
    "            array[i], array[2i] = array[2i], array[i]\n",
    "        end\n",
    "        if 2i+1 <= N && array[i] < array[2i+1]\n",
    "            array[i], array[2i+1] = array[2i+1], array[i]\n",
    "        end\n",
    "    end\n",
    "    return array\n",
    "end"
   ]
  },
  {
   "cell_type": "code",
   "execution_count": null,
   "metadata": {},
   "outputs": [
    {
     "data": {
      "text/plain": [
       "down_first! (generic function with 1 method)"
      ]
     },
     "execution_count": 28,
     "metadata": {},
     "output_type": "execute_result"
    }
   ],
   "source": [
    "function down_first!(heap::AbstractVector)::Nothing\n",
    "    index = 1\n",
    "    N = length(heap)\n",
    "    while index < N÷2\n",
    "        if heap[index] < heap[2index]\n",
    "            heap[index], heap[2index] = heap[2index], heap[index]\n",
    "        end\n",
    "        if 2index + 1 <= N && heap[index] < heap[2index+1]\n",
    "            heap[index], heap[2index+1] = heap[2index+1], heap[index]\n",
    "        end\n",
    "        index *= 2\n",
    "    end\n",
    "end"
   ]
  },
  {
   "cell_type": "code",
   "execution_count": null,
   "metadata": {},
   "outputs": [
    {
     "data": {
      "text/plain": [
       "heap_sort! (generic function with 1 method)"
      ]
     },
     "execution_count": 29,
     "metadata": {},
     "output_type": "execute_result"
    }
   ],
   "source": [
    "function heap_sort!(heap::AbstractVector)\n",
    "    heap = heap!(heap)\n",
    "    N = length(heap)\n",
    "    #Инвариант: heap[1:N] - max heap && heap[N+1:end] - sorted part of array\n",
    "    while N > 3\n",
    "        heap[1], heap[N] = heap[N], heap[1]\n",
    "        N -= 1\n",
    "        down_first!(@view(heap[1:N]))\n",
    "    end\n",
    "    \n",
    "    return heap\n",
    "end"
   ]
  },
  {
   "cell_type": "code",
   "execution_count": null,
   "metadata": {},
   "outputs": [
    {
     "data": {
      "text/plain": [
       "7-element Vector{Int64}:\n",
       " 1\n",
       " 2\n",
       " 3\n",
       " 5\n",
       " 6\n",
       " 7\n",
       " 9"
      ]
     },
     "execution_count": 38,
     "metadata": {},
     "output_type": "execute_result"
    }
   ],
   "source": [
    "heap_sort!([2, 1, 9, 7, 5, 6, 3])"
   ]
  },
  {
   "cell_type": "code",
   "execution_count": null,
   "metadata": {},
   "outputs": [
    {
     "data": {
      "text/plain": [
       "calc_sort! (generic function with 1 method)"
      ]
     },
     "execution_count": 40,
     "metadata": {},
     "output_type": "execute_result"
    }
   ],
   "source": [
    "function calc_sort!(a::AbstractVector{<:Integer})\n",
    "    min_val, max_val = extrema(a)\n",
    "    num_val = zeros(Int, max_val-min_val+1)\n",
    "    for val in a\n",
    "        num_val[val-min_val+1] += 1\n",
    "    end\n",
    "    k = 0\n",
    "    for (i, num) in enumerate(num_val)\n",
    "        a[k+1:k+num] .= min_val+i-1\n",
    "        k += num\n",
    "    end\n",
    "    return a\n",
    "end"
   ]
  },
  {
   "cell_type": "code",
   "execution_count": null,
   "metadata": {},
   "outputs": [
    {
     "data": {
      "text/plain": [
       "7-element Vector{Int64}:\n",
       " 1\n",
       " 2\n",
       " 3\n",
       " 5\n",
       " 6\n",
       " 7\n",
       " 9"
      ]
     },
     "execution_count": 41,
     "metadata": {},
     "output_type": "execute_result"
    }
   ],
   "source": [
    "calc_sort!([2, 1, 9, 7, 5, 6, 3])"
   ]
  },
  {
   "cell_type": "code",
   "execution_count": null,
   "metadata": {},
   "outputs": [
    {
     "data": {
      "text/plain": [
       "binary_search (generic function with 1 method)"
      ]
     },
     "metadata": {},
     "output_type": "display_data"
    }
   ],
   "source": [
    "function binary_search(arr::AbstractVector, number)\n",
    "    left = 1\n",
    "    right = length(arr)\n",
    "\n",
    "    while left <= right\n",
    "        mid = Int(floor((left + right) / 2))\n",
    "        if arr[mid] == number\n",
    "            return mid\n",
    "        elseif number > arr[mid]\n",
    "            left = mid + 1\n",
    "        else\n",
    "            right = mid - 1\n",
    "        end\n",
    "    end\n",
    "end"
   ]
  },
  {
   "cell_type": "code",
   "execution_count": null,
   "metadata": {},
   "outputs": [
    {
     "data": {
      "text/plain": [
       "3"
      ]
     },
     "metadata": {},
     "output_type": "display_data"
    }
   ],
   "source": [
    "binary_search([1, 2, 3, 4, 5, 6, 7, 8], 3)"
   ]
  },
  {
   "cell_type": "code",
   "execution_count": null,
   "metadata": {},
   "outputs": [
    {
     "data": {
      "text/plain": [
       "mean_square_deviation (generic function with 1 method)"
      ]
     },
     "metadata": {},
     "output_type": "display_data"
    }
   ],
   "source": [
    "function mean_square_deviation(a::AbstractVector)\n",
    "    mean = sum(a)/length(a)\n",
    "    var = 0\n",
    "    for i in a\n",
    "        var += (i - mean)^2\n",
    "    end\n",
    "    return sqrt(var/length(a))\n",
    "end"
   ]
  },
  {
   "cell_type": "code",
   "execution_count": null,
   "metadata": {},
   "outputs": [
    {
     "data": {
      "text/plain": [
       "sort_matrix_1! (generic function with 1 method)"
      ]
     },
     "metadata": {},
     "output_type": "display_data"
    }
   ],
   "source": [
    "function sort_matrix_1!(a::AbstractMatrix)\n",
    "    msd = zeros(AbstractFloat, size(a)[2])\n",
    "    cols = [Vector(i) for i in eachcol(a)]\n",
    "\n",
    "    for (i, j) in enumerate(cols)\n",
    "        msd[i] = mean_square_deviation(j)\n",
    "    end\n",
    "\n",
    "    cols = cols[sortperm(msd)]\n",
    "\n",
    "    return hcat(cols ...)\n",
    "end"
   ]
  },
  {
   "cell_type": "code",
   "execution_count": null,
   "metadata": {},
   "outputs": [
    {
     "data": {
      "text/plain": [
       "sort_matrix_2! (generic function with 1 method)"
      ]
     },
     "metadata": {},
     "output_type": "display_data"
    }
   ],
   "source": [
    "function sort_matrix_2!(a::AbstractMatrix)\n",
    "    cols = [Vector(i) for i in eachcol(a)]\n",
    "    cols = sort(cols, by=mean_square_deviation)\n",
    "    return hcat(cols ...)\n",
    "end"
   ]
  },
  {
   "cell_type": "code",
   "execution_count": null,
   "metadata": {},
   "outputs": [
    {
     "data": {
      "text/plain": [
       "3×3 Matrix{Int64}:\n",
       "  9  1  6\n",
       " 12  3  7\n",
       " 15  5  8"
      ]
     },
     "metadata": {},
     "output_type": "display_data"
    }
   ],
   "source": [
    "A = [[9, 12, 15] [1, 3, 5] [6, 7, 8]]"
   ]
  },
  {
   "cell_type": "code",
   "execution_count": null,
   "metadata": {},
   "outputs": [
    {
     "data": {
      "text/plain": [
       "3×3 Matrix{Int64}:\n",
       " 6  1   9\n",
       " 7  3  12\n",
       " 8  5  15"
      ]
     },
     "metadata": {},
     "output_type": "display_data"
    }
   ],
   "source": [
    "sort_matrix_1!(A)"
   ]
  },
  {
   "cell_type": "code",
   "execution_count": null,
   "metadata": {},
   "outputs": [
    {
     "data": {
      "text/plain": [
       "3×3 Matrix{Int64}:\n",
       "  9  1  6\n",
       " 12  3  7\n",
       " 15  5  8"
      ]
     },
     "metadata": {},
     "output_type": "display_data"
    }
   ],
   "source": [
    "A"
   ]
  },
  {
   "cell_type": "code",
   "execution_count": null,
   "metadata": {},
   "outputs": [
    {
     "data": {
      "text/plain": [
       "3×3 Matrix{Int64}:\n",
       " 6  1   9\n",
       " 7  3  12\n",
       " 8  5  15"
      ]
     },
     "metadata": {},
     "output_type": "display_data"
    }
   ],
   "source": [
    "sort_matrix_2!(A)"
   ]
  }
 ],
 "metadata": {
  "kernelspec": {
   "display_name": "Julia 1.10.2",
   "language": "julia",
   "name": "julia-1.10"
  },
  "language_info": {
   "file_extension": ".jl",
   "mimetype": "application/julia",
   "name": "julia",
   "version": "1.10.2"
  }
 },
 "nbformat": 4,
 "nbformat_minor": 2
}
