{
 "cells": [
  {
   "cell_type": "code",
   "execution_count": 108,
   "metadata": {
    "vscode": {
     "languageId": "julia"
    }
   },
   "outputs": [],
   "source": [
    "using LinearAlgebra"
   ]
  },
  {
   "cell_type": "code",
   "execution_count": 109,
   "metadata": {
    "vscode": {
     "languageId": "julia"
    }
   },
   "outputs": [
    {
     "data": {
      "text/plain": [
       "reverse_gauss (generic function with 1 method)"
      ]
     },
     "execution_count": 109,
     "metadata": {},
     "output_type": "execute_result"
    }
   ],
   "source": [
    "function reverse_gauss(A::AbstractMatrix{T}, b::AbstractVector{T}) where T\n",
    "    x = similar(b)\n",
    "    N = size(A, 1)\n",
    "    @inbounds for k in 0:N-1\n",
    "    x[N-k] = (b[N-k] - sumprod(@view(A[N-k,N-k+1:end]), @view(x[N-k+1:end]))) / A[N-k,N-k]\n",
    "    end\n",
    "    return x\n",
    "end"
   ]
  },
  {
   "cell_type": "code",
   "execution_count": 110,
   "metadata": {
    "vscode": {
     "languageId": "julia"
    }
   },
   "outputs": [
    {
     "data": {
      "text/plain": [
       "sumprod (generic function with 1 method)"
      ]
     },
     "execution_count": 110,
     "metadata": {},
     "output_type": "execute_result"
    }
   ],
   "source": [
    "@inline\n",
    "function sumprod(A::AbstractVector{T}, B::AbstractVector{T}) where T\n",
    "    s = T(0)\n",
    "    @inbounds for i in eachindex(A)\n",
    "        s = fma(A[i], B[i], s) \n",
    "    end\n",
    "    return s\n",
    "end"
   ]
  },
  {
   "cell_type": "code",
   "execution_count": 111,
   "metadata": {
    "vscode": {
     "languageId": "julia"
    }
   },
   "outputs": [
    {
     "data": {
      "text/plain": [
       "random_upper_triangular (generic function with 1 method)"
      ]
     },
     "execution_count": 111,
     "metadata": {},
     "output_type": "execute_result"
    }
   ],
   "source": [
    "function random_upper_triangular(N::Integer, T::Type)\n",
    "    A = randn(T, N, N)\n",
    "    _, A = lu(A)\n",
    "    return A\n",
    "end"
   ]
  },
  {
   "cell_type": "code",
   "execution_count": 112,
   "metadata": {
    "vscode": {
     "languageId": "julia"
    }
   },
   "outputs": [
    {
     "data": {
      "text/plain": [
       "6-element Vector{Float64}:\n",
       "  0.6794387758415364\n",
       " -0.6373962904480566\n",
       " -0.6333802259650874\n",
       "  0.33687745102807337\n",
       "  0.4140245415991381\n",
       " -0.031028730538074218"
      ]
     },
     "execution_count": 112,
     "metadata": {},
     "output_type": "execute_result"
    }
   ],
   "source": [
    "Afloat = random_upper_triangular(6, Float64)\n",
    "bfloat = randn(Float64, 6)\n",
    "xfloat = reverse_gauss(Afloat, bfloat)"
   ]
  },
  {
   "cell_type": "code",
   "execution_count": 113,
   "metadata": {
    "vscode": {
     "languageId": "julia"
    }
   },
   "outputs": [
    {
     "data": {
      "text/plain": [
       "6-element Vector{Float64}:\n",
       " 1.6653345369377348e-16\n",
       " 0.0\n",
       " 0.0\n",
       " 0.0\n",
       " 0.0\n",
       " 0.0"
      ]
     },
     "execution_count": 113,
     "metadata": {},
     "output_type": "execute_result"
    }
   ],
   "source": [
    "res_float = bfloat - (Afloat*xfloat)"
   ]
  },
  {
   "cell_type": "code",
   "execution_count": 114,
   "metadata": {
    "vscode": {
     "languageId": "julia"
    }
   },
   "outputs": [
    {
     "data": {
      "text/plain": [
       "true"
      ]
     },
     "execution_count": 114,
     "metadata": {},
     "output_type": "execute_result"
    }
   ],
   "source": [
    "all(i -> i < 10e-10, res_float)"
   ]
  },
  {
   "cell_type": "code",
   "execution_count": 115,
   "metadata": {
    "vscode": {
     "languageId": "julia"
    }
   },
   "outputs": [
    {
     "data": {
      "text/plain": [
       "6-element Vector{BigFloat}:\n",
       " -1.938715531048074156826355436232566136496056593506387003226076868031898302307022\n",
       "  0.5622349427339233192789851929171229434449965601738707422245920707310169522790507\n",
       " -0.3285100902370761641681715081964731513964924796801659625361543696418235911975907\n",
       " -1.04452838191765474095891992320725025590271499692022171863130077862611723234693\n",
       "  0.8192081094946912139569400572794064406069717275566664169856666582669976350452333\n",
       " -1.393307449596810310373357397312281230670001784910857474325520677636744868677073"
      ]
     },
     "execution_count": 115,
     "metadata": {},
     "output_type": "execute_result"
    }
   ],
   "source": [
    "A_bigfloat = random_upper_triangular(6, BigFloat)\n",
    "b_bigfloat = randn(BigFloat, 6)\n",
    "x_bigfloat = reverse_gauss(A_bigfloat, b_bigfloat)"
   ]
  },
  {
   "cell_type": "code",
   "execution_count": 116,
   "metadata": {
    "vscode": {
     "languageId": "julia"
    }
   },
   "outputs": [
    {
     "data": {
      "text/plain": [
       "6-element Vector{BigFloat}:\n",
       "  0.0\n",
       "  4.318084277547222312693175931400199785558000182218140692511851735084295901581214e-78\n",
       " -1.727233711018888925077270372560079914223200072887256277004740694033718360632485e-77\n",
       " -3.454467422037777850154540745120159828446400145774512554009481388067436721264971e-77\n",
       "  0.0\n",
       "  0.0"
      ]
     },
     "execution_count": 116,
     "metadata": {},
     "output_type": "execute_result"
    }
   ],
   "source": [
    "res_big_float = b_bigfloat - (A_bigfloat*x_bigfloat)"
   ]
  },
  {
   "cell_type": "code",
   "execution_count": 117,
   "metadata": {
    "vscode": {
     "languageId": "julia"
    }
   },
   "outputs": [
    {
     "data": {
      "text/plain": [
       "true"
      ]
     },
     "execution_count": 117,
     "metadata": {},
     "output_type": "execute_result"
    }
   ],
   "source": [
    "all(i -> i < 10e-10, res_big_float)"
   ]
  },
  {
   "cell_type": "code",
   "execution_count": 118,
   "metadata": {
    "vscode": {
     "languageId": "julia"
    }
   },
   "outputs": [
    {
     "data": {
      "text/plain": [
       "transform_to_steps! (generic function with 1 method)"
      ]
     },
     "execution_count": 118,
     "metadata": {},
     "output_type": "execute_result"
    }
   ],
   "source": [
    "function transform_to_steps!(A::AbstractMatrix; epsilon = 1e-7)\n",
    "    @inbounds for k ∈ 1:size(A, 1)\n",
    "        try\n",
    "        Δk = leading_element(@view(A[k:end, k]))\n",
    "        Δk > 1 && swap!(@view(A[k, k:end]), @view(A[k+Δk-1, k:end]))\n",
    "        for i ∈ k+1:size(A,1)\n",
    "            t = A[i,k]/A[k,k]\n",
    "            @. @views A[i,k:end] = A[i,k:end] - t * A[k,k:end]\n",
    "        end\n",
    "        catch\n",
    "            continue\n",
    "        end\n",
    "    end\n",
    "    return A\n",
    "end"
   ]
  },
  {
   "cell_type": "code",
   "execution_count": 119,
   "metadata": {
    "vscode": {
     "languageId": "julia"
    }
   },
   "outputs": [
    {
     "data": {
      "text/plain": [
       "swap! (generic function with 1 method)"
      ]
     },
     "execution_count": 119,
     "metadata": {},
     "output_type": "execute_result"
    }
   ],
   "source": [
    "@inline\n",
    "function swap!(A,B)\n",
    "    @inbounds for i in eachindex(A)\n",
    "        A[i], B[i] = B[i], A[i]\n",
    "    end\n",
    "end"
   ]
  },
  {
   "cell_type": "code",
   "execution_count": 120,
   "metadata": {
    "vscode": {
     "languageId": "julia"
    }
   },
   "outputs": [
    {
     "data": {
      "text/plain": [
       "leading_element (generic function with 2 methods)"
      ]
     },
     "execution_count": 120,
     "metadata": {},
     "output_type": "execute_result"
    }
   ],
   "source": [
    "function leading_element(a::AbstractVector{T}) where T\n",
    "    absval, k = findmax(abs, a)\n",
    "    approx_iszero(absval) && throw(\"Вырожденая матрица\")\n",
    "    return k\n",
    "end\n",
    "\n",
    "function leading_element(a::AbstractVector{Rational{T}}) where T\n",
    "    k = findfirst(x -> !iszero(x), a)\n",
    "    isnothing(k) && throw(\"Матрица вырожденная\")\n",
    "    return k\n",
    "end"
   ]
  },
  {
   "cell_type": "code",
   "execution_count": 121,
   "metadata": {
    "vscode": {
     "languageId": "julia"
    }
   },
   "outputs": [
    {
     "data": {
      "text/plain": [
       "gauss (generic function with 1 method)"
      ]
     },
     "execution_count": 121,
     "metadata": {},
     "output_type": "execute_result"
    }
   ],
   "source": [
    "function gauss(A::AbstractMatrix{T}, b::AbstractVector{T}) where T\n",
    "    Ab = hcat(A, b)\n",
    "    transform_to_steps!(Ab)\n",
    "\n",
    "    return reverse_gauss(@view(Ab[1:end, 1:end-1]), @view(Ab[1:end, end]))\n",
    "end"
   ]
  },
  {
   "cell_type": "code",
   "execution_count": 122,
   "metadata": {
    "vscode": {
     "languageId": "julia"
    }
   },
   "outputs": [
    {
     "data": {
      "text/plain": [
       "1000-element Vector{Float64}:\n",
       " -0.444328700119787\n",
       " -0.49600737757426083\n",
       "  0.20764749463570215\n",
       "  0.5694997858834351\n",
       "  0.21186016617772388\n",
       "  0.5401818426022322\n",
       " -0.7659776558533277\n",
       " -0.0774407696567612\n",
       "  0.6525918425978452\n",
       "  1.804089843175802\n",
       " -0.3985212105229327\n",
       "  0.23687232409746703\n",
       " -0.43138787184578925\n",
       "  ⋮\n",
       "  0.515093264880635\n",
       "  1.0620974220777921\n",
       "  0.22123830015643245\n",
       "  0.39156069724551207\n",
       "  1.3858463512619483\n",
       "  1.293467572312447\n",
       "  1.5933609486108058\n",
       "  0.2232008263208839\n",
       "  0.0068286112801767655\n",
       "  0.5466835602692395\n",
       "  1.1907924861904178\n",
       " -0.8471155723142573"
      ]
     },
     "execution_count": 122,
     "metadata": {},
     "output_type": "execute_result"
    }
   ],
   "source": [
    "A = randn(1000, 1000)\n",
    "b = randn(1000)"
   ]
  },
  {
   "cell_type": "code",
   "execution_count": 124,
   "metadata": {
    "vscode": {
     "languageId": "julia"
    }
   },
   "outputs": [
    {
     "name": "stdout",
     "output_type": "stream",
     "text": [
      "  0.207212 seconds (295.97 k allocations: 27.020 MiB, 2.29% gc time, 97.96% compilation time)\n"
     ]
    },
    {
     "data": {
      "text/plain": [
       "1000-element Vector{Float64}:\n",
       "  4.282167446614522e294\n",
       " -7.509152845752829e294\n",
       "  6.755604634382423e293\n",
       " -2.212800206227889e293\n",
       " -7.045629631928021e293\n",
       " -5.010740320737845e293\n",
       "  1.5555318654912247e293\n",
       " -2.758239121401147e292\n",
       "  2.149172420022001e292\n",
       " -2.824980029602101e292\n",
       "  3.623159962256777e292\n",
       "  8.362187908234967e292\n",
       "  5.2166218967936675e292\n",
       "  ⋮\n",
       " 48.93136396083188\n",
       " 18.781757592344913\n",
       "  1.3084605373323135\n",
       "  1.3411774958435416\n",
       " -0.22878200590538164\n",
       " -3.40817889134074\n",
       "  2.5897678953316245\n",
       " -4.717053098976499\n",
       "  0.13903968855139018\n",
       "  3.1587353407755656\n",
       "  2.7728379438817186\n",
       "  0.45458691609464186"
      ]
     },
     "execution_count": 124,
     "metadata": {},
     "output_type": "execute_result"
    }
   ],
   "source": [
    "@time x = gauss(A, b)"
   ]
  },
  {
   "cell_type": "code",
   "execution_count": 125,
   "metadata": {
    "vscode": {
     "languageId": "julia"
    }
   },
   "outputs": [
    {
     "data": {
      "text/plain": [
       "matrix_rank (generic function with 2 methods)"
      ]
     },
     "execution_count": 125,
     "metadata": {},
     "output_type": "execute_result"
    }
   ],
   "source": [
    "function matrix_rank(A::AbstractMatrix{T}, eps=10e-7) where T\n",
    "    step_view = copy(A)\n",
    "    transform_to_steps!(step_view, epsilon=eps)\n",
    "    count = 0\n",
    "    for i in 1:size(A)[1]\n",
    "        flag = false\n",
    "        for j in 1:size(A)[2]\n",
    "            flag = flag || abs(step_view[i, j]) >= eps\n",
    "        end\n",
    "        if flag == true count += 1 end\n",
    "    end\n",
    "    return count\n",
    "end"
   ]
  },
  {
   "cell_type": "code",
   "execution_count": 126,
   "metadata": {
    "vscode": {
     "languageId": "julia"
    }
   },
   "outputs": [
    {
     "data": {
      "text/plain": [
       "1000×1000 Matrix{Float64}:\n",
       "  0.839179    0.0762298  -0.909665   …  -1.21981    1.19853    -1.0777\n",
       " -1.92395    -0.99572     0.513521      -0.778066   1.73764    -0.398779\n",
       " -2.33498    -0.495612    0.355603       2.00505   -0.816358    1.06782\n",
       "  1.07098     1.39691     0.117308      -0.384464  -0.0820219  -0.652774\n",
       " -1.41918     1.20805    -0.29558       -1.7935    -0.136123   -0.424431\n",
       "  0.37003    -1.33826     1.6245     …  -0.508183  -0.118291   -0.462712\n",
       "  0.482546    0.291641    0.0364762     -0.568085   1.39944    -1.32904\n",
       " -0.0758109   1.24551     0.203815       1.79711   -0.119298   -1.17923\n",
       "  1.10862     0.381571    0.0464915      0.429376  -0.35997    -0.609551\n",
       "  0.825368   -0.319206    0.641752      -0.289603   2.22089     0.17825\n",
       "  1.56791    -0.307694   -1.38544    …  -0.283528  -0.0820811  -0.536946\n",
       " -1.82065     1.19002    -0.230847      -0.134795  -0.634479    0.269914\n",
       " -0.0888623   0.951196   -0.762308      -0.566894  -1.86048     0.957172\n",
       "  ⋮                                  ⋱                         \n",
       " -0.569499   -0.393672   -1.00833        0.52906    1.04288     0.0323559\n",
       "  0.0698018   2.40176    -0.263613      -0.819815   1.35782    -0.968865\n",
       " -0.585729   -0.241559   -0.331214   …   1.97735   -1.56121    -0.523875\n",
       " -1.10927    -0.437787    0.644841      -0.256268   0.24451    -1.4485\n",
       " -1.06444    -0.587201   -0.254961       1.89704    0.56512    -0.584667\n",
       " -1.90372     1.23854     0.0992056     -2.14267   -0.468205   -0.324653\n",
       "  0.536199    1.27603     0.117599       0.214761  -0.907303    1.40406\n",
       "  0.174065   -0.187123   -0.012956   …  -0.235195  -0.524279   -0.345749\n",
       "  0.0805495   1.19293    -1.43387        0.498965  -0.0379522   0.254155\n",
       " -0.608769    1.3832      1.09692       -2.21491    0.296616   -1.20882\n",
       " -1.50778    -0.106383   -2.06557        0.231715  -0.50678     0.217949\n",
       " -0.53861    -0.746277   -0.231521      -0.393639   0.622916   -0.141157"
      ]
     },
     "execution_count": 126,
     "metadata": {},
     "output_type": "execute_result"
    }
   ],
   "source": [
    "A = randn(1000, 1000)"
   ]
  },
  {
   "cell_type": "code",
   "execution_count": 127,
   "metadata": {
    "vscode": {
     "languageId": "julia"
    }
   },
   "outputs": [
    {
     "data": {
      "text/plain": [
       "true"
      ]
     },
     "execution_count": 127,
     "metadata": {},
     "output_type": "execute_result"
    }
   ],
   "source": [
    "matrix_rank(A) == rank(A)"
   ]
  },
  {
   "cell_type": "code",
   "execution_count": 128,
   "metadata": {
    "vscode": {
     "languageId": "julia"
    }
   },
   "outputs": [
    {
     "data": {
      "text/plain": [
       "det_steps (generic function with 2 methods)"
      ]
     },
     "execution_count": 128,
     "metadata": {},
     "output_type": "execute_result"
    }
   ],
   "source": [
    "function det_steps(A::AbstractMatrix{T}, eps=10e-9) where T\n",
    "    if size(A)[1] != size(A)[2] throw(\"Количество строк и столбцов должно быть одинаковое\") end\n",
    "\n",
    "    step_view = copy(A)\n",
    "    transform_to_steps!(step_view, epsilon=eps)\n",
    "    val = one(T)\n",
    "    for i in 1:size(A)[1]\n",
    "        val *= step_view[i, i]\n",
    "    end\n",
    "    return val\n",
    "end"
   ]
  },
  {
   "cell_type": "code",
   "execution_count": 129,
   "metadata": {
    "vscode": {
     "languageId": "julia"
    }
   },
   "outputs": [
    {
     "data": {
      "text/plain": [
       "3×3 Matrix{Float64}:\n",
       "  0.506693   0.497104   1.5296\n",
       "  2.66793    1.48959    0.143433\n",
       " -0.551142  -0.631689  -1.41508"
      ]
     },
     "execution_count": 129,
     "metadata": {},
     "output_type": "execute_result"
    }
   ],
   "source": [
    "A = randn(3, 3)"
   ]
  },
  {
   "cell_type": "code",
   "execution_count": 130,
   "metadata": {
    "vscode": {
     "languageId": "julia"
    }
   },
   "outputs": [
    {
     "data": {
      "text/plain": [
       "42.033626472454095"
      ]
     },
     "execution_count": 130,
     "metadata": {},
     "output_type": "execute_result"
    }
   ],
   "source": [
    "cond(A)"
   ]
  },
  {
   "cell_type": "code",
   "execution_count": 131,
   "metadata": {
    "vscode": {
     "languageId": "julia"
    }
   },
   "outputs": [
    {
     "data": {
      "text/plain": [
       "-0.5612650737095761"
      ]
     },
     "execution_count": 131,
     "metadata": {},
     "output_type": "execute_result"
    }
   ],
   "source": [
    "det_steps(A) - det(A)"
   ]
  }
 ],
 "metadata": {
  "language_info": {
   "name": "python"
  }
 },
 "nbformat": 4,
 "nbformat_minor": 2
}
