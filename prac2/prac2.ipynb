{
 "cells": [
  {
   "cell_type": "code",
   "execution_count": 1,
   "metadata": {},
   "outputs": [
    {
     "data": {
      "text/plain": [
       "valdiff (generic function with 3 methods)"
      ]
     },
     "metadata": {},
     "output_type": "display_data"
    }
   ],
   "source": [
    "include(\"prac1.jl\")"
   ]
  },
  {
   "cell_type": "code",
   "execution_count": 2,
   "metadata": {},
   "outputs": [
    {
     "data": {
      "text/plain": [
       "Dual{Int64}(1, 2)"
      ]
     },
     "metadata": {},
     "output_type": "display_data"
    }
   ],
   "source": [
    "a = Dual{Int}(1, 2)"
   ]
  },
  {
   "cell_type": "code",
   "execution_count": 3,
   "metadata": {},
   "outputs": [],
   "source": [
    "Base. abs(a::Vector{T}) where T = begin\n",
    "    sum = 0\n",
    "    for i in range(1, length(a))\n",
    "        sum += a[i]^2\n",
    "    end\n",
    "    return sqrt(sum)\n",
    "end"
   ]
  },
  {
   "cell_type": "code",
   "execution_count": 4,
   "metadata": {},
   "outputs": [
    {
     "data": {
      "text/plain": [
       "cos_newthon_dual (generic function with 1 method)"
      ]
     },
     "metadata": {},
     "output_type": "display_data"
    }
   ],
   "source": [
    "cos_newthon_dual(x::Dual) = begin\n",
    "    a = cos(x) - x\n",
    "    return -(real(a)/imag(a))\n",
    "end"
   ]
  },
  {
   "cell_type": "code",
   "execution_count": 5,
   "metadata": {},
   "outputs": [
    {
     "data": {
      "text/plain": [
       "cos_newthon_analytic (generic function with 1 method)"
      ]
     },
     "metadata": {},
     "output_type": "display_data"
    }
   ],
   "source": [
    "cos_newthon_analytic(x) = begin\n",
    "    #(cos(x) - x)' = -sin(x) - 1\n",
    "    return ((-cos(x) + x)/(-sin(x) - 1))\n",
    "end"
   ]
  },
  {
   "cell_type": "code",
   "execution_count": 6,
   "metadata": {},
   "outputs": [
    {
     "data": {
      "text/plain": [
       "diff_aprox (generic function with 1 method)"
      ]
     },
     "metadata": {},
     "output_type": "display_data"
    }
   ],
   "source": [
    "diff_aprox(f::Function, x) = begin\n",
    "    h = 1e-8\n",
    "    return (f(x+h) - f(x))/h\n",
    "end"
   ]
  },
  {
   "cell_type": "code",
   "execution_count": 7,
   "metadata": {},
   "outputs": [
    {
     "data": {
      "text/plain": [
       "cos_newthon_approx (generic function with 1 method)"
      ]
     },
     "metadata": {},
     "output_type": "display_data"
    }
   ],
   "source": [
    "cos_newthon_approx(x) = begin\n",
    "    return -((cos(x) - x)/(diff_aprox(x->(cos(x)-x), x)))\n",
    "end"
   ]
  },
  {
   "cell_type": "code",
   "execution_count": 8,
   "metadata": {},
   "outputs": [
    {
     "data": {
      "text/plain": [
       "newthon (generic function with 1 method)"
      ]
     },
     "metadata": {},
     "output_type": "display_data"
    }
   ],
   "source": [
    "newthon(r::Function, x; epsilon=1e-8, num_max = 10) = begin\n",
    "    dx = r(x)\n",
    "    x += dx\n",
    "    k = 1\n",
    "    while abs(dx) > epsilon && k < num_max\n",
    "        dx = r(x)\n",
    "        x += dx\n",
    "        k += 1\n",
    "    end\n",
    "    abs(dx) > epsilon && @warn(\"Требуемая точность не достигнута\")\n",
    "    return x\n",
    "end"
   ]
  },
  {
   "cell_type": "code",
   "execution_count": 9,
   "metadata": {},
   "outputs": [
    {
     "data": {
      "text/plain": [
       "0.7390851332151607"
      ]
     },
     "metadata": {},
     "output_type": "display_data"
    }
   ],
   "source": [
    "real(newthon(x -> cos_newthon_dual(x), Dual{AbstractFloat}(0, 1)))"
   ]
  },
  {
   "cell_type": "code",
   "execution_count": 10,
   "metadata": {},
   "outputs": [
    {
     "data": {
      "text/plain": [
       "0.7390851332151607"
      ]
     },
     "metadata": {},
     "output_type": "display_data"
    }
   ],
   "source": [
    "newthon(x -> cos_newthon_analytic(x), 0)"
   ]
  },
  {
   "cell_type": "code",
   "execution_count": 11,
   "metadata": {},
   "outputs": [
    {
     "data": {
      "text/plain": [
       "0.7390851332151607"
      ]
     },
     "metadata": {},
     "output_type": "display_data"
    }
   ],
   "source": [
    "newthon(x -> cos_newthon_approx(x), 0)"
   ]
  },
  {
   "cell_type": "code",
   "execution_count": 12,
   "metadata": {},
   "outputs": [
    {
     "name": "stdout",
     "output_type": "stream",
     "text": [
      "2.0 + 0.0imx^2 + 2.0 + 0.0imx^1 + 3.0 + 0.0im"
     ]
    }
   ],
   "source": [
    "p1 = Polynomial{Complex{AbstractFloat}}([2, 2, 3])"
   ]
  },
  {
   "cell_type": "code",
   "execution_count": 13,
   "metadata": {},
   "outputs": [
    {
     "data": {
      "text/plain": [
       "15.0 + 0.0im"
      ]
     },
     "metadata": {},
     "output_type": "display_data"
    }
   ],
   "source": [
    "valdiff(p1, 2)[1]"
   ]
  },
  {
   "cell_type": "code",
   "execution_count": 14,
   "metadata": {},
   "outputs": [
    {
     "data": {
      "text/plain": [
       "p_newthon_dual (generic function with 1 method)"
      ]
     },
     "metadata": {},
     "output_type": "display_data"
    }
   ],
   "source": [
    "p_newthon_dual(p::Polynomial, x::Dual) = begin\n",
    "    a = p(x)\n",
    "    return -(real(a)/imag(a))\n",
    "end"
   ]
  },
  {
   "cell_type": "code",
   "execution_count": 15,
   "metadata": {},
   "outputs": [
    {
     "data": {
      "text/plain": [
       "root_dual (generic function with 1 method)"
      ]
     },
     "metadata": {},
     "output_type": "display_data"
    }
   ],
   "source": [
    "root_dual(p::Polynomial{Complex{T}}, start_value::Complex{T}, tool::AbstractFloat) where T = begin\n",
    "    start_value_d = Dual{Complex{AbstractFloat}}(start_value, 1)\n",
    "    return real(newthon(start_value_d -> p_newthon_dual(p, start_value_d), start_value_d, epsilon=tool))\n",
    "end"
   ]
  },
  {
   "cell_type": "code",
   "execution_count": 16,
   "metadata": {},
   "outputs": [
    {
     "data": {
      "text/plain": [
       "-0.5 + 1.118033988749895im"
      ]
     },
     "metadata": {},
     "output_type": "display_data"
    }
   ],
   "source": [
    "root_dual(p1, Complex{AbstractFloat}(-2, sqrt(2)), 1e-8)"
   ]
  },
  {
   "cell_type": "code",
   "execution_count": 17,
   "metadata": {},
   "outputs": [
    {
     "data": {
      "text/plain": [
       "p_newthon (generic function with 1 method)"
      ]
     },
     "metadata": {},
     "output_type": "display_data"
    }
   ],
   "source": [
    "p_newthon(p::Polynomial, x) = begin\n",
    "    a = valdiff(p, x)\n",
    "    return -(a[1]/a[2])\n",
    "end"
   ]
  },
  {
   "cell_type": "code",
   "execution_count": 18,
   "metadata": {},
   "outputs": [
    {
     "data": {
      "text/plain": [
       "root (generic function with 1 method)"
      ]
     },
     "metadata": {},
     "output_type": "display_data"
    }
   ],
   "source": [
    "root(p::Polynomial{Complex{T}}, start_value::Complex{T}, tool::AbstractFloat) where T = begin\n",
    "    return newthon(start_value -> p_newthon(p, start_value), start_value, epsilon=tool)\n",
    "end"
   ]
  },
  {
   "cell_type": "code",
   "execution_count": 19,
   "metadata": {},
   "outputs": [
    {
     "data": {
      "text/plain": [
       "-0.5 + 1.118033988749895im"
      ]
     },
     "metadata": {},
     "output_type": "display_data"
    }
   ],
   "source": [
    "root(p1, Complex{AbstractFloat}(-2, sqrt(2)), 1e-8)"
   ]
  },
  {
   "cell_type": "code",
   "execution_count": 20,
   "metadata": {},
   "outputs": [
    {
     "data": {
      "text/plain": [
       "yakobi_analytic (generic function with 1 method)"
      ]
     },
     "metadata": {},
     "output_type": "display_data"
    }
   ],
   "source": [
    "yakobi_analytic(x1) = begin\n",
    "    return [[2*x1[1], 3*x1[2]*x1[1]^2] [2*x1[2], x1[1]^3]]\n",
    "end"
   ]
  },
  {
   "cell_type": "code",
   "execution_count": 21,
   "metadata": {},
   "outputs": [
    {
     "data": {
      "text/plain": [
       "f2 (generic function with 1 method)"
      ]
     },
     "metadata": {},
     "output_type": "display_data"
    }
   ],
   "source": [
    "f1(x) = begin\n",
    "    return x[1]^2 + x[2]^2 - 1\n",
    "end\n",
    "f2(x) = begin\n",
    "    return  x[2]*(x[1]^3) - 1\n",
    "end"
   ]
  },
  {
   "cell_type": "code",
   "execution_count": 22,
   "metadata": {},
   "outputs": [
    {
     "data": {
      "text/plain": [
       "yakobi_dual (generic function with 1 method)"
      ]
     },
     "metadata": {},
     "output_type": "display_data"
    }
   ],
   "source": [
    "yakobi_dual(f1::Function, f2::Function, x1) = begin\n",
    "    a11 = imag(f1([Dual{AbstractFloat}(x1[1], 1), Float16(x1[2])]))\n",
    "    a12 = imag(f1([Float16(x1[1]), Dual{AbstractFloat}(x1[2], 1)]))\n",
    "    a21 = imag(f2([Dual{AbstractFloat}(x1[1], 1), Float16(x1[2])]))\n",
    "    a22 = imag(f2([Float16(x1[1]), Dual{AbstractFloat}(x1[2], 1)]))\n",
    "    return [[a11, a21] [a12, a22]]\n",
    "end"
   ]
  },
  {
   "cell_type": "code",
   "execution_count": 23,
   "metadata": {},
   "outputs": [
    {
     "data": {
      "text/plain": [
       "f_yakobi_analytic (generic function with 1 method)"
      ]
     },
     "metadata": {},
     "output_type": "display_data"
    }
   ],
   "source": [
    "f_yakobi_analytic(x1) = begin\n",
    "    return -yakobi_analytic(x1)\\[x1[1]^2 + x1[2]^2 - 1, x1[2]*x1[1]^3 - 1]\n",
    "end"
   ]
  },
  {
   "cell_type": "code",
   "execution_count": 24,
   "metadata": {},
   "outputs": [
    {
     "data": {
      "text/plain": [
       "f_yakobi_dual (generic function with 1 method)"
      ]
     },
     "metadata": {},
     "output_type": "display_data"
    }
   ],
   "source": [
    "f_yakobi_dual(x1) = begin\n",
    "    return -yakobi_dual(x1 -> f1(x1), x1 -> f2(x1), x1)\\[f1(x1), f2(x1)]\n",
    "end"
   ]
  },
  {
   "cell_type": "code",
   "execution_count": 25,
   "metadata": {},
   "outputs": [
    {
     "name": "stderr",
     "output_type": "stream",
     "text": [
      "┌ Warning: Требуемая точность не достигнута\n",
      "└ @ Main e:\\univer\\2 sem\\julia\\prac2\\prac2.ipynb:10\n"
     ]
    },
    {
     "data": {
      "text/plain": [
       "2-element Vector{Float64}:\n",
       " 1.0346051111354382\n",
       " 0.6184545929206268"
      ]
     },
     "metadata": {},
     "output_type": "display_data"
    }
   ],
   "source": [
    "x1 = [1, 1]\n",
    "newthon(x1 -> f_yakobi_analytic(x1), x1)"
   ]
  },
  {
   "cell_type": "code",
   "execution_count": 26,
   "metadata": {},
   "outputs": [
    {
     "name": "stderr",
     "output_type": "stream",
     "text": [
      "┌ Warning: Требуемая точность не достигнута\n",
      "└ @ Main e:\\univer\\2 sem\\julia\\prac2\\prac2.ipynb:10\n"
     ]
    },
    {
     "data": {
      "text/plain": [
       "2-element Vector{Float64}:\n",
       " 1.0234608697773298\n",
       " 0.6261969910341056"
      ]
     },
     "metadata": {},
     "output_type": "display_data"
    }
   ],
   "source": [
    "newthon(x1 -> f_yakobi_dual(x1), x1)"
   ]
  },
  {
   "cell_type": "code",
   "execution_count": 27,
   "metadata": {},
   "outputs": [
    {
     "data": {
      "text/plain": [
       "f_yakobi_analytic_inv (generic function with 1 method)"
      ]
     },
     "metadata": {},
     "output_type": "display_data"
    }
   ],
   "source": [
    "f_yakobi_analytic_inv(x1) = begin\n",
    "    return -inv(yakobi_analytic(x1))*[x1[1]^2 + x1[2]^2 - 1, x1[2]*x1[1]^3 - 1]\n",
    "end"
   ]
  },
  {
   "cell_type": "code",
   "execution_count": 28,
   "metadata": {},
   "outputs": [
    {
     "data": {
      "text/plain": [
       "f_yakobi_dual_inv (generic function with 1 method)"
      ]
     },
     "metadata": {},
     "output_type": "display_data"
    }
   ],
   "source": [
    "f_yakobi_dual_inv(x1) = begin\n",
    "    return -inv(yakobi_dual(x1 -> f1(x1), x1 -> f2(x1), x1))*[f1(x1), f2(x1)]\n",
    "end"
   ]
  },
  {
   "cell_type": "code",
   "execution_count": 29,
   "metadata": {},
   "outputs": [
    {
     "name": "stderr",
     "output_type": "stream",
     "text": [
      "┌ Warning: Требуемая точность не достигнута\n",
      "└ @ Main e:\\univer\\2 sem\\julia\\prac2\\prac2.ipynb:10\n"
     ]
    },
    {
     "data": {
      "text/plain": [
       "2-element Vector{Float64}:\n",
       " 1.0346051111354295\n",
       " 0.618454592920632"
      ]
     },
     "metadata": {},
     "output_type": "display_data"
    }
   ],
   "source": [
    "x1 = [1, 1]\n",
    "newthon(x1 -> f_yakobi_analytic_inv(x1), x1)"
   ]
  },
  {
   "cell_type": "code",
   "execution_count": 30,
   "metadata": {},
   "outputs": [
    {
     "name": "stderr",
     "output_type": "stream",
     "text": [
      "┌ Warning: Требуемая точность не достигнута\n",
      "└ @ Main e:\\univer\\2 sem\\julia\\prac2\\prac2.ipynb:10\n"
     ]
    },
    {
     "data": {
      "text/plain": [
       "2-element Vector{Float64}:\n",
       " 1.0234608697773298\n",
       " 0.6261969910341058"
      ]
     },
     "metadata": {},
     "output_type": "display_data"
    }
   ],
   "source": [
    "newthon(x1 -> f_yakobi_dual_inv(x1), x1)"
   ]
  },
  {
   "cell_type": "code",
   "execution_count": 31,
   "metadata": {},
   "outputs": [
    {
     "data": {
      "text/plain": [
       "log_b1 (generic function with 1 method)"
      ]
     },
     "metadata": {},
     "output_type": "display_data"
    }
   ],
   "source": [
    "log_b1(a1, a2, a, x, ϵ) = begin\n",
    "    z = x\n",
    "    t = 1.0\n",
    "    y = 0.0\n",
    "\n",
    "    while z < a1 || z > a2 || t > ϵ\n",
    "        if z < a1\n",
    "            z *= a\n",
    "            y -= t\n",
    "        \n",
    "        elseif z > a2\n",
    "            z /= a\n",
    "            y += t\n",
    "\n",
    "        elseif t > ϵ\n",
    "            t /= 2\n",
    "            z *= z\n",
    "        end\n",
    "    end\n",
    "    \n",
    "    return y\n",
    "end"
   ]
  },
  {
   "cell_type": "code",
   "execution_count": 32,
   "metadata": {},
   "outputs": [
    {
     "data": {
      "text/plain": [
       "log_m1 (generic function with 1 method)"
      ]
     },
     "metadata": {},
     "output_type": "display_data"
    }
   ],
   "source": [
    "log_m1(a1, a2, a, x, ϵ) = begin\n",
    "    z = x\n",
    "    t = 1.0\n",
    "    y = 0.0\n",
    "\n",
    "    while z < a1 || z > a2 || t > ϵ\n",
    "        if z > a2\n",
    "            z *= a\n",
    "            y -= t\n",
    "        \n",
    "        elseif z < a1\n",
    "            z /= a\n",
    "            y += t\n",
    "\n",
    "        elseif t > ϵ\n",
    "            t /= 2\n",
    "            z *= z\n",
    "        end\n",
    "    end\n",
    "    \n",
    "    return y\n",
    "end"
   ]
  },
  {
   "cell_type": "code",
   "execution_count": 33,
   "metadata": {},
   "outputs": [
    {
     "data": {
      "text/plain": [
       "any_log (generic function with 1 method)"
      ]
     },
     "metadata": {},
     "output_type": "display_data"
    }
   ],
   "source": [
    "any_log(a, x) = begin\n",
    "    if a > 1\n",
    "        a1 = 1/a\n",
    "        a2 = a\n",
    "\n",
    "        return log_b1(a1, a2, a, x, 10e-8)\n",
    "    else\n",
    "        a1 = a\n",
    "        a2 = 1/a\n",
    "\n",
    "        return log_m1(a1, a2, a, x, 10e-8)\n",
    "    end\n",
    "end"
   ]
  },
  {
   "cell_type": "code",
   "execution_count": 34,
   "metadata": {},
   "outputs": [
    {
     "data": {
      "text/plain": [
       "2.9999999403953552"
      ]
     },
     "metadata": {},
     "output_type": "display_data"
    }
   ],
   "source": [
    "any_log(2, 8)"
   ]
  },
  {
   "cell_type": "code",
   "execution_count": 35,
   "metadata": {},
   "outputs": [
    {
     "data": {
      "text/plain": [
       "-0.9999999403953552"
      ]
     },
     "metadata": {},
     "output_type": "display_data"
    }
   ],
   "source": [
    "any_log(0.5, 2)"
   ]
  },
  {
   "cell_type": "code",
   "execution_count": 36,
   "metadata": {},
   "outputs": [
    {
     "data": {
      "text/plain": [
       "cos_teylor (generic function with 1 method)"
      ]
     },
     "metadata": {},
     "output_type": "display_data"
    }
   ],
   "source": [
    "cos_teylor(x, n) = begin\n",
    "    cosinus = 0\n",
    "    a = 1\n",
    "    for k in range(1, n+1)\n",
    "        cosinus += a\n",
    "        a = (-a * x^2)/(2*k)/(2*k-1)\n",
    "    end\n",
    "    return cosinus\n",
    "end"
   ]
  },
  {
   "cell_type": "code",
   "execution_count": 37,
   "metadata": {},
   "outputs": [
    {
     "data": {
      "text/plain": [
       "-0.9999999999243493"
      ]
     },
     "metadata": {},
     "output_type": "display_data"
    }
   ],
   "source": [
    "cos_teylor(π, 10)"
   ]
  },
  {
   "cell_type": "code",
   "execution_count": 38,
   "metadata": {},
   "outputs": [
    {
     "data": {
      "text/plain": [
       "cos_teylor_eps (generic function with 1 method)"
      ]
     },
     "metadata": {},
     "output_type": "display_data"
    }
   ],
   "source": [
    "cos_teylor_eps(x, ϵ) = begin\n",
    "    cosinus = 0\n",
    "    a = 1\n",
    "    k = 1\n",
    "    while abs(a) > ϵ\n",
    "        cosinus += a\n",
    "        a = (-a * x^2)/(2*k)/(2*k-1)\n",
    "        k += 1\n",
    "    end\n",
    "    return cosinus\n",
    "end"
   ]
  },
  {
   "cell_type": "code",
   "execution_count": 39,
   "metadata": {},
   "outputs": [
    {
     "data": {
      "text/plain": [
       "-1.0000000035290801"
      ]
     },
     "metadata": {},
     "output_type": "display_data"
    }
   ],
   "source": [
    "cos_teylor_eps(π, 10e-8)"
   ]
  },
  {
   "cell_type": "code",
   "execution_count": 40,
   "metadata": {},
   "outputs": [
    {
     "data": {
      "text/plain": [
       "e_teylor (generic function with 1 method)"
      ]
     },
     "metadata": {},
     "output_type": "display_data"
    }
   ],
   "source": [
    "e_teylor(x, ϵ) = begin\n",
    "    e = 0\n",
    "    a = 1\n",
    "    k = 1\n",
    "    while abs(a) > ϵ\n",
    "        e += a\n",
    "        a = (a * x)/k\n",
    "        k += 1\n",
    "    end\n",
    "    return e\n",
    "end"
   ]
  },
  {
   "cell_type": "code",
   "execution_count": 41,
   "metadata": {},
   "outputs": [
    {
     "data": {
      "text/plain": [
       "0.13533530549403575"
      ]
     },
     "metadata": {},
     "output_type": "display_data"
    }
   ],
   "source": [
    "e_teylor(-2, 10e-8)"
   ]
  },
  {
   "cell_type": "code",
   "execution_count": 42,
   "metadata": {},
   "outputs": [
    {
     "data": {
      "text/plain": [
       "e_fix (generic function with 1 method)"
      ]
     },
     "metadata": {},
     "output_type": "display_data"
    }
   ],
   "source": [
    "e_fix(x, ϵ) = begin\n",
    "    if x > 0\n",
    "        return e_teylor(x, ϵ)\n",
    "    end\n",
    "    return 1/e_teylor(-x, ϵ)\n",
    "end"
   ]
  },
  {
   "cell_type": "code",
   "execution_count": 43,
   "metadata": {},
   "outputs": [
    {
     "data": {
      "text/plain": [
       "0.13533528376052678"
      ]
     },
     "metadata": {},
     "output_type": "display_data"
    }
   ],
   "source": [
    "e_fix(-2, 10e-8)"
   ]
  },
  {
   "cell_type": "code",
   "execution_count": 44,
   "metadata": {},
   "outputs": [
    {
     "data": {
      "text/plain": [
       "J_a (generic function with 1 method)"
      ]
     },
     "metadata": {},
     "output_type": "display_data"
    }
   ],
   "source": [
    "J_a(x, a, ϵ) = begin\n",
    "    j = 0\n",
    "    a_fact = factorial(a)\n",
    "    b = x^a / a_fact / 2^a\n",
    "    k = 1\n",
    "\n",
    "    while abs(b) > ϵ\n",
    "        j += b\n",
    "        b = -b * x^2 / 4 / k / (a + k)\n",
    "        k += 1\n",
    "    end\n",
    "\n",
    "    return j\n",
    "end"
   ]
  },
  {
   "cell_type": "code",
   "execution_count": 45,
   "metadata": {},
   "outputs": [],
   "source": [
    "using Plots"
   ]
  },
  {
   "cell_type": "code",
   "execution_count": 46,
   "metadata": {},
   "outputs": [
    {
     "data": {
      "image/png": "[encoded data removed]",
      "image/svg+xml": [
       "<?xml version=\"1.0\" encoding=\"utf-8\"?>\n",
       "<svg xmlns=\"http://www.w3.org/2000/svg\" xmlns:xlink=\"http://www.w3.org/1999/xlink\" width=\"600\" height=\"400\" viewBox=\"0 0 2400 1600\">\n",
       "<defs>\n",
       "  <clipPath id=\"clip300\">\n",
       "    <rect x=\"0\" y=\"0\" width=\"2400\" height=\"1600\"/>\n",
       "  </clipPath>\n",
       "</defs>\n",
       "<path clip-path=\"url(#clip300)\" d=\"M0 1600 L2400 1600 L2400 0 L0 0  Z\" fill=\"#ffffff\" fill-rule=\"evenodd\" fill-opacity=\"1\"/>\n",
       "<defs>\n",
       "  <clipPath id=\"clip301\">\n",
       "    <rect x=\"480\" y=\"0\" width=\"1681\" height=\"1600\"/>\n",
       "  </clipPath>\n",
       "</defs>\n",
       "<path clip-path=\"url(#clip300)\" d=\"M223.103 1486.45 L2352.76 1486.45 L2352.76 47.2441 L223.103 47.2441  Z\" fill=\"#ffffff\" fill-rule=\"evenodd\" fill-opacity=\"1\"/>\n",
       "<defs>\n",
       "  <clipPath id=\"clip302\">\n",
       "    <rect x=\"223\" y=\"47\" width=\"2131\" height=\"1440\"/>\n",
       "  </clipPath>\n",
       "</defs>\n",
       "<polyline clip-path=\"url(#clip302)\" style=\"stroke:#000000; stroke-linecap:round; stroke-linejoin:round; stroke-width:2; stroke-opacity:0.1; fill:none\" points=\"283.376,1486.45 283.376,47.2441 \"/>\n",
       "<polyline clip-path=\"url(#clip302)\" style=\"stroke:#000000; stroke-linecap:round; stroke-linejoin:round; stroke-width:2; stroke-opacity:0.1; fill:none\" points=\"785.652,1486.45 785.652,47.2441 \"/>\n",
       "<polyline clip-path=\"url(#clip302)\" style=\"stroke:#000000; stroke-linecap:round; stroke-linejoin:round; stroke-width:2; stroke-opacity:0.1; fill:none\" points=\"1287.93,1486.45 1287.93,47.2441 \"/>\n",
       "<polyline clip-path=\"url(#clip302)\" style=\"stroke:#000000; stroke-linecap:round; stroke-linejoin:round; stroke-width:2; stroke-opacity:0.1; fill:none\" points=\"1790.21,1486.45 1790.21,47.2441 \"/>\n",
       "<polyline clip-path=\"url(#clip302)\" style=\"stroke:#000000; stroke-linecap:round; stroke-linejoin:round; stroke-width:2; stroke-opacity:0.1; fill:none\" points=\"2292.48,1486.45 2292.48,47.2441 \"/>\n",
       "<polyline clip-path=\"url(#clip300)\" style=\"stroke:#000000; stroke-linecap:round; stroke-linejoin:round; stroke-width:4; stroke-opacity:1; fill:none\" points=\"223.103,1486.45 2352.76,1486.45 \"/>\n",
       "<polyline clip-path=\"url(#clip300)\" style=\"stroke:#000000; stroke-linecap:round; stroke-linejoin:round; stroke-width:4; stroke-opacity:1; fill:none\" points=\"283.376,1486.45 283.376,1467.55 \"/>\n",
       "<polyline clip-path=\"url(#clip300)\" style=\"stroke:#000000; stroke-linecap:round; stroke-linejoin:round; stroke-width:4; stroke-opacity:1; fill:none\" points=\"785.652,1486.45 785.652,1467.55 \"/>\n",
       "<polyline clip-path=\"url(#clip300)\" style=\"stroke:#000000; stroke-linecap:round; stroke-linejoin:round; stroke-width:4; stroke-opacity:1; fill:none\" points=\"1287.93,1486.45 1287.93,1467.55 \"/>\n",
       "<polyline clip-path=\"url(#clip300)\" style=\"stroke:#000000; stroke-linecap:round; stroke-linejoin:round; stroke-width:4; stroke-opacity:1; fill:none\" points=\"1790.21,1486.45 1790.21,1467.55 \"/>\n",
       "<polyline clip-path=\"url(#clip300)\" style=\"stroke:#000000; stroke-linecap:round; stroke-linejoin:round; stroke-width:4; stroke-opacity:1; fill:none\" points=\"2292.48,1486.45 2292.48,1467.55 \"/>\n",
       "<path clip-path=\"url(#clip300)\" d=\"M283.376 1517.37 Q279.765 1517.37 277.936 1520.93 Q276.13 1524.47 276.13 1531.6 Q276.13 1538.71 277.936 1542.27 Q279.765 1545.82 283.376 1545.82 Q287.01 1545.82 288.816 1542.27 Q290.644 1538.71 290.644 1531.6 Q290.644 1524.47 288.816 1520.93 Q287.01 1517.37 283.376 1517.37 M283.376 1513.66 Q289.186 1513.66 292.241 1518.27 Q295.32 1522.85 295.32 1531.6 Q295.32 1540.33 292.241 1544.94 Q289.186 1549.52 283.376 1549.52 Q277.566 1549.52 274.487 1544.94 Q271.431 1540.33 271.431 1531.6 Q271.431 1522.85 274.487 1518.27 Q277.566 1513.66 283.376 1513.66 Z\" fill=\"#000000\" fill-rule=\"nonzero\" fill-opacity=\"1\" /><path clip-path=\"url(#clip300)\" d=\"M775.93 1514.29 L794.287 1514.29 L794.287 1518.22 L780.213 1518.22 L780.213 1526.7 Q781.231 1526.35 782.25 1526.19 Q783.268 1526 784.287 1526 Q790.074 1526 793.453 1529.17 Q796.833 1532.34 796.833 1537.76 Q796.833 1543.34 793.361 1546.44 Q789.889 1549.52 783.569 1549.52 Q781.393 1549.52 779.125 1549.15 Q776.879 1548.78 774.472 1548.04 L774.472 1543.34 Q776.555 1544.47 778.777 1545.03 Q781 1545.58 783.477 1545.58 Q787.481 1545.58 789.819 1543.48 Q792.157 1541.37 792.157 1537.76 Q792.157 1534.15 789.819 1532.04 Q787.481 1529.94 783.477 1529.94 Q781.602 1529.94 779.727 1530.35 Q777.875 1530.77 775.93 1531.65 L775.93 1514.29 Z\" fill=\"#000000\" fill-rule=\"nonzero\" fill-opacity=\"1\" /><path clip-path=\"url(#clip300)\" d=\"M1262.62 1544.91 L1270.26 1544.91 L1270.26 1518.55 L1261.95 1520.21 L1261.95 1515.95 L1270.21 1514.29 L1274.89 1514.29 L1274.89 1544.91 L1282.52 1544.91 L1282.52 1548.85 L1262.62 1548.85 L1262.62 1544.91 Z\" fill=\"#000000\" fill-rule=\"nonzero\" fill-opacity=\"1\" /><path clip-path=\"url(#clip300)\" d=\"M1301.97 1517.37 Q1298.36 1517.37 1296.53 1520.93 Q1294.72 1524.47 1294.72 1531.6 Q1294.72 1538.71 1296.53 1542.27 Q1298.36 1545.82 1301.97 1545.82 Q1305.6 1545.82 1307.41 1542.27 Q1309.24 1538.71 1309.24 1531.6 Q1309.24 1524.47 1307.41 1520.93 Q1305.6 1517.37 1301.97 1517.37 M1301.97 1513.66 Q1307.78 1513.66 1310.83 1518.27 Q1313.91 1522.85 1313.91 1531.6 Q1313.91 1540.33 1310.83 1544.94 Q1307.78 1549.52 1301.97 1549.52 Q1296.16 1549.52 1293.08 1544.94 Q1290.02 1540.33 1290.02 1531.6 Q1290.02 1522.85 1293.08 1518.27 Q1296.16 1513.66 1301.97 1513.66 Z\" fill=\"#000000\" fill-rule=\"nonzero\" fill-opacity=\"1\" /><path clip-path=\"url(#clip300)\" d=\"M1765.39 1544.91 L1773.03 1544.91 L1773.03 1518.55 L1764.72 1520.21 L1764.72 1515.95 L1772.98 1514.29 L1777.66 1514.29 L1777.66 1544.91 L1785.3 1544.91 L1785.3 1548.85 L1765.39 1548.85 L1765.39 1544.91 Z\" fill=\"#000000\" fill-rule=\"nonzero\" fill-opacity=\"1\" /><path clip-path=\"url(#clip300)\" d=\"M1794.79 1514.29 L1813.15 1514.29 L1813.15 1518.22 L1799.07 1518.22 L1799.07 1526.7 Q1800.09 1526.35 1801.11 1526.19 Q1802.13 1526 1803.15 1526 Q1808.93 1526 1812.31 1529.17 Q1815.69 1532.34 1815.69 1537.76 Q1815.69 1543.34 1812.22 1546.44 Q1808.75 1549.52 1802.43 1549.52 Q1800.25 1549.52 1797.98 1549.15 Q1795.74 1548.78 1793.33 1548.04 L1793.33 1543.34 Q1795.41 1544.47 1797.64 1545.03 Q1799.86 1545.58 1802.34 1545.58 Q1806.34 1545.58 1808.68 1543.48 Q1811.02 1541.37 1811.02 1537.76 Q1811.02 1534.15 1808.68 1532.04 Q1806.34 1529.94 1802.34 1529.94 Q1800.46 1529.94 1798.59 1530.35 Q1796.73 1530.77 1794.79 1531.65 L1794.79 1514.29 Z\" fill=\"#000000\" fill-rule=\"nonzero\" fill-opacity=\"1\" /><path clip-path=\"url(#clip300)\" d=\"M2271.26 1544.91 L2287.58 1544.91 L2287.58 1548.85 L2265.63 1548.85 L2265.63 1544.91 Q2268.29 1542.16 2272.88 1537.53 Q2277.48 1532.88 2278.66 1531.53 Q2280.91 1529.01 2281.79 1527.27 Q2282.69 1525.51 2282.69 1523.82 Q2282.69 1521.07 2280.75 1519.33 Q2278.83 1517.6 2275.72 1517.6 Q2273.52 1517.6 2271.07 1518.36 Q2268.64 1519.13 2265.86 1520.68 L2265.86 1515.95 Q2268.69 1514.82 2271.14 1514.24 Q2273.59 1513.66 2275.63 1513.66 Q2281 1513.66 2284.2 1516.35 Q2287.39 1519.03 2287.39 1523.52 Q2287.39 1525.65 2286.58 1527.57 Q2285.79 1529.47 2283.69 1532.07 Q2283.11 1532.74 2280.01 1535.95 Q2276.9 1539.15 2271.26 1544.91 Z\" fill=\"#000000\" fill-rule=\"nonzero\" fill-opacity=\"1\" /><path clip-path=\"url(#clip300)\" d=\"M2307.39 1517.37 Q2303.78 1517.37 2301.95 1520.93 Q2300.14 1524.47 2300.14 1531.6 Q2300.14 1538.71 2301.95 1542.27 Q2303.78 1545.82 2307.39 1545.82 Q2311.02 1545.82 2312.83 1542.27 Q2314.66 1538.71 2314.66 1531.6 Q2314.66 1524.47 2312.83 1520.93 Q2311.02 1517.37 2307.39 1517.37 M2307.39 1513.66 Q2313.2 1513.66 2316.26 1518.27 Q2319.33 1522.85 2319.33 1531.6 Q2319.33 1540.33 2316.26 1544.94 Q2313.2 1549.52 2307.39 1549.52 Q2301.58 1549.52 2298.5 1544.94 Q2295.45 1540.33 2295.45 1531.6 Q2295.45 1522.85 2298.5 1518.27 Q2301.58 1513.66 2307.39 1513.66 Z\" fill=\"#000000\" fill-rule=\"nonzero\" fill-opacity=\"1\" /><polyline clip-path=\"url(#clip302)\" style=\"stroke:#000000; stroke-linecap:round; stroke-linejoin:round; stroke-width:2; stroke-opacity:0.1; fill:none\" points=\"223.103,1298.03 2352.76,1298.03 \"/>\n",
       "<polyline clip-path=\"url(#clip302)\" style=\"stroke:#000000; stroke-linecap:round; stroke-linejoin:round; stroke-width:2; stroke-opacity:0.1; fill:none\" points=\"223.103,1056.02 2352.76,1056.02 \"/>\n",
       "<polyline clip-path=\"url(#clip302)\" style=\"stroke:#000000; stroke-linecap:round; stroke-linejoin:round; stroke-width:2; stroke-opacity:0.1; fill:none\" points=\"223.103,814.011 2352.76,814.011 \"/>\n",
       "<polyline clip-path=\"url(#clip302)\" style=\"stroke:#000000; stroke-linecap:round; stroke-linejoin:round; stroke-width:2; stroke-opacity:0.1; fill:none\" points=\"223.103,571.999 2352.76,571.999 \"/>\n",
       "<polyline clip-path=\"url(#clip302)\" style=\"stroke:#000000; stroke-linecap:round; stroke-linejoin:round; stroke-width:2; stroke-opacity:0.1; fill:none\" points=\"223.103,329.988 2352.76,329.988 \"/>\n",
       "<polyline clip-path=\"url(#clip302)\" style=\"stroke:#000000; stroke-linecap:round; stroke-linejoin:round; stroke-width:2; stroke-opacity:0.1; fill:none\" points=\"223.103,87.9763 2352.76,87.9763 \"/>\n",
       "<polyline clip-path=\"url(#clip300)\" style=\"stroke:#000000; stroke-linecap:round; stroke-linejoin:round; stroke-width:4; stroke-opacity:1; fill:none\" points=\"223.103,1486.45 223.103,47.2441 \"/>\n",
       "<polyline clip-path=\"url(#clip300)\" style=\"stroke:#000000; stroke-linecap:round; stroke-linejoin:round; stroke-width:4; stroke-opacity:1; fill:none\" points=\"223.103,1298.03 242,1298.03 \"/>\n",
       "<polyline clip-path=\"url(#clip300)\" style=\"stroke:#000000; stroke-linecap:round; stroke-linejoin:round; stroke-width:4; stroke-opacity:1; fill:none\" points=\"223.103,1056.02 242,1056.02 \"/>\n",
       "<polyline clip-path=\"url(#clip300)\" style=\"stroke:#000000; stroke-linecap:round; stroke-linejoin:round; stroke-width:4; stroke-opacity:1; fill:none\" points=\"223.103,814.011 242,814.011 \"/>\n",
       "<polyline clip-path=\"url(#clip300)\" style=\"stroke:#000000; stroke-linecap:round; stroke-linejoin:round; stroke-width:4; stroke-opacity:1; fill:none\" points=\"223.103,571.999 242,571.999 \"/>\n",
       "<polyline clip-path=\"url(#clip300)\" style=\"stroke:#000000; stroke-linecap:round; stroke-linejoin:round; stroke-width:4; stroke-opacity:1; fill:none\" points=\"223.103,329.988 242,329.988 \"/>\n",
       "<polyline clip-path=\"url(#clip300)\" style=\"stroke:#000000; stroke-linecap:round; stroke-linejoin:round; stroke-width:4; stroke-opacity:1; fill:none\" points=\"223.103,87.9763 242,87.9763 \"/>\n",
       "<path clip-path=\"url(#clip300)\" d=\"M50.9921 1298.49 L80.6679 1298.49 L80.6679 1302.42 L50.9921 1302.42 L50.9921 1298.49 Z\" fill=\"#000000\" fill-rule=\"nonzero\" fill-opacity=\"1\" /><path clip-path=\"url(#clip300)\" d=\"M100.76 1283.83 Q97.1493 1283.83 95.3206 1287.4 Q93.515 1290.94 93.515 1298.07 Q93.515 1305.18 95.3206 1308.74 Q97.1493 1312.28 100.76 1312.28 Q104.395 1312.28 106.2 1308.74 Q108.029 1305.18 108.029 1298.07 Q108.029 1290.94 106.2 1287.4 Q104.395 1283.83 100.76 1283.83 M100.76 1280.13 Q106.571 1280.13 109.626 1284.74 Q112.705 1289.32 112.705 1298.07 Q112.705 1306.8 109.626 1311.4 Q106.571 1315.99 100.76 1315.99 Q94.9502 1315.99 91.8715 1311.4 Q88.816 1306.8 88.816 1298.07 Q88.816 1289.32 91.8715 1284.74 Q94.9502 1280.13 100.76 1280.13 Z\" fill=\"#000000\" fill-rule=\"nonzero\" fill-opacity=\"1\" /><path clip-path=\"url(#clip300)\" d=\"M120.922 1309.43 L125.807 1309.43 L125.807 1315.31 L120.922 1315.31 L120.922 1309.43 Z\" fill=\"#000000\" fill-rule=\"nonzero\" fill-opacity=\"1\" /><path clip-path=\"url(#clip300)\" d=\"M140.019 1311.38 L156.339 1311.38 L156.339 1315.31 L134.394 1315.31 L134.394 1311.38 Q137.056 1308.62 141.64 1303.99 Q146.246 1299.34 147.427 1298 Q149.672 1295.48 150.552 1293.74 Q151.455 1291.98 151.455 1290.29 Q151.455 1287.54 149.51 1285.8 Q147.589 1284.06 144.487 1284.06 Q142.288 1284.06 139.834 1284.83 Q137.404 1285.59 134.626 1287.14 L134.626 1282.42 Q137.45 1281.29 139.904 1280.71 Q142.357 1280.13 144.394 1280.13 Q149.765 1280.13 152.959 1282.81 Q156.154 1285.5 156.154 1289.99 Q156.154 1292.12 155.343 1294.04 Q154.556 1295.94 152.45 1298.53 Q151.871 1299.2 148.769 1302.42 Q145.668 1305.62 140.019 1311.38 Z\" fill=\"#000000\" fill-rule=\"nonzero\" fill-opacity=\"1\" /><path clip-path=\"url(#clip300)\" d=\"M166.2 1280.75 L184.556 1280.75 L184.556 1284.69 L170.482 1284.69 L170.482 1293.16 Q171.501 1292.81 172.519 1292.65 Q173.538 1292.47 174.556 1292.47 Q180.343 1292.47 183.723 1295.64 Q187.103 1298.81 187.103 1304.23 Q187.103 1309.8 183.63 1312.91 Q180.158 1315.99 173.839 1315.99 Q171.663 1315.99 169.394 1315.61 Q167.149 1315.24 164.742 1314.5 L164.742 1309.8 Q166.825 1310.94 169.047 1311.49 Q171.269 1312.05 173.746 1312.05 Q177.751 1312.05 180.089 1309.94 Q182.427 1307.84 182.427 1304.23 Q182.427 1300.62 180.089 1298.51 Q177.751 1296.4 173.746 1296.4 Q171.871 1296.4 169.996 1296.82 Q168.144 1297.24 166.2 1298.12 L166.2 1280.75 Z\" fill=\"#000000\" fill-rule=\"nonzero\" fill-opacity=\"1\" /><path clip-path=\"url(#clip300)\" d=\"M99.765 1041.82 Q96.1539 1041.82 94.3252 1045.39 Q92.5197 1048.93 92.5197 1056.06 Q92.5197 1063.16 94.3252 1066.73 Q96.1539 1070.27 99.765 1070.27 Q103.399 1070.27 105.205 1066.73 Q107.033 1063.16 107.033 1056.06 Q107.033 1048.93 105.205 1045.39 Q103.399 1041.82 99.765 1041.82 M99.765 1038.12 Q105.575 1038.12 108.631 1042.72 Q111.709 1047.31 111.709 1056.06 Q111.709 1064.78 108.631 1069.39 Q105.575 1073.97 99.765 1073.97 Q93.9549 1073.97 90.8762 1069.39 Q87.8206 1064.78 87.8206 1056.06 Q87.8206 1047.31 90.8762 1042.72 Q93.9549 1038.12 99.765 1038.12 Z\" fill=\"#000000\" fill-rule=\"nonzero\" fill-opacity=\"1\" /><path clip-path=\"url(#clip300)\" d=\"M119.927 1067.42 L124.811 1067.42 L124.811 1073.3 L119.927 1073.3 L119.927 1067.42 Z\" fill=\"#000000\" fill-rule=\"nonzero\" fill-opacity=\"1\" /><path clip-path=\"url(#clip300)\" d=\"M144.996 1041.82 Q141.385 1041.82 139.556 1045.39 Q137.751 1048.93 137.751 1056.06 Q137.751 1063.16 139.556 1066.73 Q141.385 1070.27 144.996 1070.27 Q148.63 1070.27 150.436 1066.73 Q152.265 1063.16 152.265 1056.06 Q152.265 1048.93 150.436 1045.39 Q148.63 1041.82 144.996 1041.82 M144.996 1038.12 Q150.806 1038.12 153.862 1042.72 Q156.941 1047.31 156.941 1056.06 Q156.941 1064.78 153.862 1069.39 Q150.806 1073.97 144.996 1073.97 Q139.186 1073.97 136.107 1069.39 Q133.052 1064.78 133.052 1056.06 Q133.052 1047.31 136.107 1042.72 Q139.186 1038.12 144.996 1038.12 Z\" fill=\"#000000\" fill-rule=\"nonzero\" fill-opacity=\"1\" /><path clip-path=\"url(#clip300)\" d=\"M175.158 1041.82 Q171.547 1041.82 169.718 1045.39 Q167.913 1048.93 167.913 1056.06 Q167.913 1063.16 169.718 1066.73 Q171.547 1070.27 175.158 1070.27 Q178.792 1070.27 180.598 1066.73 Q182.427 1063.16 182.427 1056.06 Q182.427 1048.93 180.598 1045.39 Q178.792 1041.82 175.158 1041.82 M175.158 1038.12 Q180.968 1038.12 184.024 1042.72 Q187.103 1047.31 187.103 1056.06 Q187.103 1064.78 184.024 1069.39 Q180.968 1073.97 175.158 1073.97 Q169.348 1073.97 166.269 1069.39 Q163.214 1064.78 163.214 1056.06 Q163.214 1047.31 166.269 1042.72 Q169.348 1038.12 175.158 1038.12 Z\" fill=\"#000000\" fill-rule=\"nonzero\" fill-opacity=\"1\" /><path clip-path=\"url(#clip300)\" d=\"M100.76 799.81 Q97.1493 799.81 95.3206 803.374 Q93.515 806.916 93.515 814.046 Q93.515 821.152 95.3206 824.717 Q97.1493 828.259 100.76 828.259 Q104.395 828.259 106.2 824.717 Q108.029 821.152 108.029 814.046 Q108.029 806.916 106.2 803.374 Q104.395 799.81 100.76 799.81 M100.76 796.106 Q106.571 796.106 109.626 800.712 Q112.705 805.296 112.705 814.046 Q112.705 822.772 109.626 827.379 Q106.571 831.962 100.76 831.962 Q94.9502 831.962 91.8715 827.379 Q88.816 822.772 88.816 814.046 Q88.816 805.296 91.8715 800.712 Q94.9502 796.106 100.76 796.106 Z\" fill=\"#000000\" fill-rule=\"nonzero\" fill-opacity=\"1\" /><path clip-path=\"url(#clip300)\" d=\"M120.922 825.411 L125.807 825.411 L125.807 831.291 L120.922 831.291 L120.922 825.411 Z\" fill=\"#000000\" fill-rule=\"nonzero\" fill-opacity=\"1\" /><path clip-path=\"url(#clip300)\" d=\"M140.019 827.356 L156.339 827.356 L156.339 831.291 L134.394 831.291 L134.394 827.356 Q137.056 824.601 141.64 819.972 Q146.246 815.319 147.427 813.976 Q149.672 811.453 150.552 809.717 Q151.455 807.958 151.455 806.268 Q151.455 803.513 149.51 801.777 Q147.589 800.041 144.487 800.041 Q142.288 800.041 139.834 800.805 Q137.404 801.569 134.626 803.12 L134.626 798.398 Q137.45 797.263 139.904 796.685 Q142.357 796.106 144.394 796.106 Q149.765 796.106 152.959 798.791 Q156.154 801.476 156.154 805.967 Q156.154 808.097 155.343 810.018 Q154.556 811.916 152.45 814.509 Q151.871 815.18 148.769 818.397 Q145.668 821.592 140.019 827.356 Z\" fill=\"#000000\" fill-rule=\"nonzero\" fill-opacity=\"1\" /><path clip-path=\"url(#clip300)\" d=\"M166.2 796.731 L184.556 796.731 L184.556 800.666 L170.482 800.666 L170.482 809.138 Q171.501 808.791 172.519 808.629 Q173.538 808.444 174.556 808.444 Q180.343 808.444 183.723 811.615 Q187.103 814.786 187.103 820.203 Q187.103 825.782 183.63 828.884 Q180.158 831.962 173.839 831.962 Q171.663 831.962 169.394 831.592 Q167.149 831.221 164.742 830.481 L164.742 825.782 Q166.825 826.916 169.047 827.472 Q171.269 828.027 173.746 828.027 Q177.751 828.027 180.089 825.921 Q182.427 823.814 182.427 820.203 Q182.427 816.592 180.089 814.485 Q177.751 812.379 173.746 812.379 Q171.871 812.379 169.996 812.796 Q168.144 813.212 166.2 814.092 L166.2 796.731 Z\" fill=\"#000000\" fill-rule=\"nonzero\" fill-opacity=\"1\" /><path clip-path=\"url(#clip300)\" d=\"M99.765 557.798 Q96.1539 557.798 94.3252 561.363 Q92.5197 564.905 92.5197 572.034 Q92.5197 579.141 94.3252 582.705 Q96.1539 586.247 99.765 586.247 Q103.399 586.247 105.205 582.705 Q107.033 579.141 107.033 572.034 Q107.033 564.905 105.205 561.363 Q103.399 557.798 99.765 557.798 M99.765 554.094 Q105.575 554.094 108.631 558.701 Q111.709 563.284 111.709 572.034 Q111.709 580.761 108.631 585.367 Q105.575 589.951 99.765 589.951 Q93.9549 589.951 90.8762 585.367 Q87.8206 580.761 87.8206 572.034 Q87.8206 563.284 90.8762 558.701 Q93.9549 554.094 99.765 554.094 Z\" fill=\"#000000\" fill-rule=\"nonzero\" fill-opacity=\"1\" /><path clip-path=\"url(#clip300)\" d=\"M119.927 583.4 L124.811 583.4 L124.811 589.279 L119.927 589.279 L119.927 583.4 Z\" fill=\"#000000\" fill-rule=\"nonzero\" fill-opacity=\"1\" /><path clip-path=\"url(#clip300)\" d=\"M135.043 554.719 L153.399 554.719 L153.399 558.655 L139.325 558.655 L139.325 567.127 Q140.343 566.78 141.362 566.617 Q142.381 566.432 143.399 566.432 Q149.186 566.432 152.566 569.604 Q155.945 572.775 155.945 578.191 Q155.945 583.77 152.473 586.872 Q149.001 589.951 142.681 589.951 Q140.506 589.951 138.237 589.58 Q135.992 589.21 133.584 588.469 L133.584 583.77 Q135.668 584.904 137.89 585.46 Q140.112 586.016 142.589 586.016 Q146.593 586.016 148.931 583.909 Q151.269 581.803 151.269 578.191 Q151.269 574.58 148.931 572.474 Q146.593 570.367 142.589 570.367 Q140.714 570.367 138.839 570.784 Q136.987 571.201 135.043 572.08 L135.043 554.719 Z\" fill=\"#000000\" fill-rule=\"nonzero\" fill-opacity=\"1\" /><path clip-path=\"url(#clip300)\" d=\"M175.158 557.798 Q171.547 557.798 169.718 561.363 Q167.913 564.905 167.913 572.034 Q167.913 579.141 169.718 582.705 Q171.547 586.247 175.158 586.247 Q178.792 586.247 180.598 582.705 Q182.427 579.141 182.427 572.034 Q182.427 564.905 180.598 561.363 Q178.792 557.798 175.158 557.798 M175.158 554.094 Q180.968 554.094 184.024 558.701 Q187.103 563.284 187.103 572.034 Q187.103 580.761 184.024 585.367 Q180.968 589.951 175.158 589.951 Q169.348 589.951 166.269 585.367 Q163.214 580.761 163.214 572.034 Q163.214 563.284 166.269 558.701 Q169.348 554.094 175.158 554.094 Z\" fill=\"#000000\" fill-rule=\"nonzero\" fill-opacity=\"1\" /><path clip-path=\"url(#clip300)\" d=\"M100.76 315.787 Q97.1493 315.787 95.3206 319.351 Q93.515 322.893 93.515 330.023 Q93.515 337.129 95.3206 340.694 Q97.1493 344.235 100.76 344.235 Q104.395 344.235 106.2 340.694 Q108.029 337.129 108.029 330.023 Q108.029 322.893 106.2 319.351 Q104.395 315.787 100.76 315.787 M100.76 312.083 Q106.571 312.083 109.626 316.689 Q112.705 321.273 112.705 330.023 Q112.705 338.749 109.626 343.356 Q106.571 347.939 100.76 347.939 Q94.9502 347.939 91.8715 343.356 Q88.816 338.749 88.816 330.023 Q88.816 321.273 91.8715 316.689 Q94.9502 312.083 100.76 312.083 Z\" fill=\"#000000\" fill-rule=\"nonzero\" fill-opacity=\"1\" /><path clip-path=\"url(#clip300)\" d=\"M120.922 341.388 L125.807 341.388 L125.807 347.268 L120.922 347.268 L120.922 341.388 Z\" fill=\"#000000\" fill-rule=\"nonzero\" fill-opacity=\"1\" /><path clip-path=\"url(#clip300)\" d=\"M134.811 312.708 L157.033 312.708 L157.033 314.699 L144.487 347.268 L139.603 347.268 L151.408 316.643 L134.811 316.643 L134.811 312.708 Z\" fill=\"#000000\" fill-rule=\"nonzero\" fill-opacity=\"1\" /><path clip-path=\"url(#clip300)\" d=\"M166.2 312.708 L184.556 312.708 L184.556 316.643 L170.482 316.643 L170.482 325.115 Q171.501 324.768 172.519 324.606 Q173.538 324.421 174.556 324.421 Q180.343 324.421 183.723 327.592 Q187.103 330.763 187.103 336.18 Q187.103 341.759 183.63 344.86 Q180.158 347.939 173.839 347.939 Q171.663 347.939 169.394 347.569 Q167.149 347.198 164.742 346.458 L164.742 341.759 Q166.825 342.893 169.047 343.448 Q171.269 344.004 173.746 344.004 Q177.751 344.004 180.089 341.897 Q182.427 339.791 182.427 336.18 Q182.427 332.569 180.089 330.462 Q177.751 328.356 173.746 328.356 Q171.871 328.356 169.996 328.773 Q168.144 329.189 166.2 330.069 L166.2 312.708 Z\" fill=\"#000000\" fill-rule=\"nonzero\" fill-opacity=\"1\" /><path clip-path=\"url(#clip300)\" d=\"M90.5752 101.321 L98.2141 101.321 L98.2141 74.9555 L89.904 76.6222 L89.904 72.3629 L98.1678 70.6963 L102.844 70.6963 L102.844 101.321 L110.483 101.321 L110.483 105.256 L90.5752 105.256 L90.5752 101.321 Z\" fill=\"#000000\" fill-rule=\"nonzero\" fill-opacity=\"1\" /><path clip-path=\"url(#clip300)\" d=\"M119.927 99.3767 L124.811 99.3767 L124.811 105.256 L119.927 105.256 L119.927 99.3767 Z\" fill=\"#000000\" fill-rule=\"nonzero\" fill-opacity=\"1\" /><path clip-path=\"url(#clip300)\" d=\"M144.996 73.775 Q141.385 73.775 139.556 77.3398 Q137.751 80.8814 137.751 88.011 Q137.751 95.1174 139.556 98.6822 Q141.385 102.224 144.996 102.224 Q148.63 102.224 150.436 98.6822 Q152.265 95.1174 152.265 88.011 Q152.265 80.8814 150.436 77.3398 Q148.63 73.775 144.996 73.775 M144.996 70.0713 Q150.806 70.0713 153.862 74.6777 Q156.941 79.261 156.941 88.011 Q156.941 96.7378 153.862 101.344 Q150.806 105.928 144.996 105.928 Q139.186 105.928 136.107 101.344 Q133.052 96.7378 133.052 88.011 Q133.052 79.261 136.107 74.6777 Q139.186 70.0713 144.996 70.0713 Z\" fill=\"#000000\" fill-rule=\"nonzero\" fill-opacity=\"1\" /><path clip-path=\"url(#clip300)\" d=\"M175.158 73.775 Q171.547 73.775 169.718 77.3398 Q167.913 80.8814 167.913 88.011 Q167.913 95.1174 169.718 98.6822 Q171.547 102.224 175.158 102.224 Q178.792 102.224 180.598 98.6822 Q182.427 95.1174 182.427 88.011 Q182.427 80.8814 180.598 77.3398 Q178.792 73.775 175.158 73.775 M175.158 70.0713 Q180.968 70.0713 184.024 74.6777 Q187.103 79.261 187.103 88.011 Q187.103 96.7378 184.024 101.344 Q180.968 105.928 175.158 105.928 Q169.348 105.928 166.269 101.344 Q163.214 96.7378 163.214 88.011 Q163.214 79.261 166.269 74.6777 Q169.348 70.0713 175.158 70.0713 Z\" fill=\"#000000\" fill-rule=\"nonzero\" fill-opacity=\"1\" /><polyline clip-path=\"url(#clip302)\" style=\"stroke:#009af9; stroke-linecap:round; stroke-linejoin:round; stroke-width:4; stroke-opacity:1; fill:none\" points=\"283.376,87.9763 293.421,90.3949 303.467,97.6326 313.512,109.635 323.558,126.313 333.603,147.54 343.649,173.16 353.694,202.979 363.74,236.777 373.786,274.302 383.831,315.276 393.877,359.395 403.922,406.335 413.968,455.751 424.013,507.281 434.059,560.55 444.104,615.172 454.15,670.755 464.195,726.9 474.241,783.209 484.286,839.286 494.332,894.739 504.377,949.187 514.423,1002.26 524.469,1053.59 534.514,1102.86 544.56,1149.73 554.605,1193.92 564.651,1235.15 574.696,1273.17 584.742,1307.76 594.787,1338.75 604.833,1365.98 614.878,1389.32 624.924,1408.68 634.969,1424 645.015,1435.27 655.061,1442.5 665.106,1445.72 675.152,1445.01 685.197,1440.48 695.243,1432.27 705.288,1420.55 715.334,1405.5 725.379,1387.34 735.425,1366.32 745.47,1342.7 755.516,1316.75 765.561,1288.77 775.607,1259.06 785.652,1227.94 795.698,1195.75 805.744,1162.79 815.789,1129.4 825.835,1095.92 835.88,1062.65 845.926,1029.91 855.971,998.017 866.017,967.25 876.062,937.889 886.108,910.191 896.153,884.396 906.199,860.722 916.244,839.362 926.29,820.487 936.335,804.239 946.381,790.736 956.427,780.067 966.472,772.292 976.518,767.446 986.563,765.532 996.609,766.527 1006.65,770.38 1016.7,777.015 1026.75,786.328 1036.79,798.193 1046.84,812.46 1056.88,828.958 1066.93,847.498 1076.97,867.871 1087.02,889.857 1097.06,913.219 1107.11,937.712 1117.16,963.084 1127.2,989.075 1137.25,1015.42 1147.29,1041.87 1157.34,1068.15 1167.38,1094 1177.43,1119.19 1187.47,1143.47 1197.52,1166.61 1207.56,1188.4 1217.61,1208.64 1227.66,1227.15 1237.7,1243.75 1247.75,1258.32 1257.79,1270.73 1267.84,1280.88 1277.88,1288.68 1287.93,1294.1 1297.97,1297.09 1308.02,1297.66 1318.07,1295.82 1328.11,1291.62 1338.16,1285.11 1348.2,1276.38 1358.25,1265.55 1368.29,1252.73 1378.34,1238.08 1388.38,1221.74 1398.43,1203.91 1408.48,1184.76 1418.52,1164.51 1428.57,1143.35 1438.61,1121.51 1448.66,1099.21 1458.7,1076.67 1468.75,1054.12 1478.79,1031.77 1488.84,1009.86 1498.89,988.582 1508.93,968.153 1518.98,948.765 1529.02,930.601 1539.07,913.832 1549.11,898.611 1559.16,885.077 1569.2,873.351 1579.25,863.534 1589.3,855.708 1599.34,849.937 1609.39,846.26 1619.43,844.7 1629.48,845.254 1639.52,847.903 1649.57,852.604 1659.61,859.295 1669.66,867.897 1679.71,878.309 1689.75,890.415 1699.8,904.085 1709.84,919.17 1719.89,935.513 1729.93,952.941 1739.98,971.275 1750.02,990.327 1760.07,1009.9 1770.11,1029.81 1780.16,1049.84 1790.21,1069.79 1800.25,1089.48 1810.3,1108.7 1820.34,1127.28 1830.39,1145.02 1840.43,1161.76 1850.48,1177.34 1860.52,1191.62 1870.57,1204.45 1880.62,1215.72 1890.66,1225.33 1900.71,1233.2 1910.75,1239.25 1920.8,1243.44 1930.84,1245.74 1940.89,1246.13 1950.93,1244.62 1960.98,1241.25 1971.03,1236.05 1981.07,1229.09 1991.12,1220.45 2001.16,1210.22 2011.21,1198.51 2021.25,1185.45 2031.3,1171.18 2041.34,1155.84 2051.39,1139.59 2061.44,1122.61 2071.48,1105.05 2081.53,1087.11 2091.57,1068.95 2101.62,1050.77 2111.66,1032.74 2121.71,1015.04 2131.75,997.845 2141.8,981.323 2151.85,965.635 2161.89,950.932 2171.94,937.354 2181.98,925.031 2192.03,914.078 2202.07,904.598 2212.12,896.676 2222.16,890.383 2232.21,885.773 2242.26,882.884 2252.3,881.735 2262.35,882.329 2272.39,884.651 2282.44,888.669 2292.48,894.335 \"/>\n",
       "<polyline clip-path=\"url(#clip302)\" style=\"stroke:#e26f46; stroke-linecap:round; stroke-linejoin:round; stroke-width:4; stroke-opacity:1; fill:none\" points=\"283.376,1056.02 293.421,1007.68 303.467,959.701 313.512,912.443 323.558,866.26 333.603,821.495 343.649,778.483 353.694,737.539 363.74,698.966 373.786,663.045 383.831,630.033 393.877,600.167 403.922,573.656 413.968,550.68 424.013,531.392 434.059,515.914 444.104,504.337 454.15,496.719 464.195,493.087 474.241,493.436 484.286,497.726 494.332,505.889 504.377,517.825 514.423,533.401 524.469,552.459 534.514,574.812 544.56,600.249 554.605,628.532 564.651,659.405 574.696,692.591 584.742,727.798 594.787,764.717 604.833,803.03 614.878,842.41 624.924,882.524 634.969,923.035 645.015,963.607 655.061,1003.91 665.106,1043.61 675.152,1082.4 685.197,1119.96 695.243,1156 705.288,1190.24 715.334,1222.43 725.379,1252.32 735.425,1279.7 745.47,1304.38 755.516,1326.19 765.561,1344.98 775.607,1360.66 785.652,1373.13 795.698,1382.35 805.744,1388.28 815.789,1390.93 825.835,1390.33 835.88,1386.55 845.926,1379.67 855.971,1369.81 866.017,1357.11 876.062,1341.73 886.108,1323.87 896.153,1303.71 906.199,1281.5 916.244,1257.46 926.29,1231.86 936.335,1204.95 946.381,1177.01 956.427,1148.32 966.472,1119.16 976.518,1089.81 986.563,1060.56 996.609,1031.67 1006.65,1003.43 1016.7,976.09 1026.75,949.9 1036.79,925.096 1046.84,901.896 1056.88,880.503 1066.93,861.1 1076.97,843.847 1087.02,828.884 1097.06,816.327 1107.11,806.268 1117.16,798.775 1127.2,793.889 1137.25,791.628 1147.29,791.983 1157.34,794.922 1167.38,800.387 1177.43,808.297 1187.47,818.549 1197.52,831.019 1207.56,845.561 1217.61,862.013 1227.66,880.194 1237.7,899.911 1247.75,920.956 1257.79,943.111 1267.84,966.149 1277.88,989.837 1287.93,1013.94 1297.97,1038.21 1308.02,1062.43 1318.07,1086.34 1328.11,1109.72 1338.16,1132.35 1348.2,1154.02 1358.25,1174.51 1368.29,1193.65 1378.34,1211.25 1388.38,1227.16 1398.43,1241.24 1408.48,1253.36 1418.52,1263.43 1428.57,1271.36 1438.61,1277.1 1448.66,1280.61 1458.7,1281.87 1468.75,1280.88 1478.79,1277.69 1488.84,1272.33 1498.89,1264.88 1508.93,1255.42 1518.98,1244.07 1529.02,1230.96 1539.07,1216.22 1549.11,1200.01 1559.16,1182.51 1569.2,1163.89 1579.25,1144.36 1589.3,1124.09 1599.34,1103.31 1609.39,1082.22 1619.43,1061.03 1629.48,1039.95 1639.52,1019.19 1649.57,998.942 1659.61,979.409 1669.66,960.776 1679.71,943.221 1689.75,926.909 1699.8,911.992 1709.84,898.608 1719.89,886.877 1729.93,876.903 1739.98,868.774 1750.02,862.556 1760.07,858.298 1770.11,856.028 1780.16,855.757 1790.21,857.472 1800.25,861.145 1810.3,866.725 1820.34,874.146 1830.39,883.323 1840.43,894.152 1850.48,906.518 1860.52,920.287 1870.57,935.316 1880.62,951.446 1890.66,968.514 1900.71,986.343 1910.75,1004.75 1920.8,1023.56 1930.84,1042.57 1940.89,1061.6 1950.93,1080.46 1960.98,1098.97 1971.03,1116.94 1981.07,1134.19 1991.12,1150.57 2001.16,1165.91 2011.21,1180.08 2021.25,1192.93 2031.3,1204.34 2041.34,1214.22 2051.39,1222.47 2061.44,1229.02 2071.48,1233.82 2081.53,1236.82 2091.57,1238.01 2101.62,1237.39 2111.66,1234.96 2121.71,1230.78 2131.75,1224.88 2141.8,1217.33 2151.85,1208.22 2161.89,1197.65 2171.94,1185.73 2181.98,1172.58 2192.03,1158.35 2202.07,1143.17 2212.12,1127.2 2222.16,1110.61 2232.21,1093.56 2242.26,1076.23 2252.3,1058.79 2262.35,1041.4 2272.39,1024.25 2282.44,1007.51 2292.48,991.325 \"/>\n",
       "<polyline clip-path=\"url(#clip302)\" style=\"stroke:#3da44d; stroke-linecap:round; stroke-linejoin:round; stroke-width:4; stroke-opacity:1; fill:none\" points=\"283.376,1056.02 293.421,1054.81 303.467,1051.2 313.512,1045.21 323.558,1036.92 333.603,1026.4 343.649,1013.75 353.694,999.114 363.74,982.627 373.786,964.459 383.831,944.791 393.877,923.822 403.922,901.765 413.968,878.844 424.013,855.292 434.059,831.351 444.104,807.266 454.15,783.286 464.195,759.661 474.241,736.639 484.286,714.463 494.332,693.37 504.377,673.587 514.423,655.334 524.469,638.814 534.514,624.217 544.56,611.716 554.605,601.465 564.651,593.601 574.696,588.236 584.742,585.464 594.787,585.352 604.833,587.945 614.878,593.266 624.924,601.309 634.969,612.048 645.015,625.43 655.061,641.38 665.106,659.797 675.152,680.561 685.197,703.53 695.243,728.54 705.288,755.411 715.334,783.944 725.379,813.928 735.425,845.135 745.47,877.328 755.516,910.261 765.561,943.68 775.607,977.329 785.652,1010.95 795.698,1044.27 805.744,1077.05 815.789,1109.02 825.835,1139.95 835.88,1169.59 845.926,1197.72 855.971,1224.13 866.017,1248.62 876.062,1271.01 886.108,1291.13 896.153,1308.86 906.199,1324.06 916.244,1336.63 926.29,1346.51 936.335,1353.63 946.381,1357.97 956.427,1359.53 966.472,1358.32 976.518,1354.39 986.563,1347.81 996.609,1338.66 1006.65,1327.06 1016.7,1313.13 1026.75,1297.03 1036.79,1278.94 1046.84,1259.03 1056.88,1237.5 1066.93,1214.57 1076.97,1190.46 1087.02,1165.4 1097.06,1139.64 1107.11,1113.42 1117.16,1086.97 1127.2,1060.56 1137.25,1034.41 1147.29,1008.77 1157.34,983.877 1167.38,959.943 1177.43,937.186 1187.47,915.804 1197.52,895.982 1207.56,877.891 1217.61,861.682 1227.66,847.489 1237.7,835.425 1247.75,825.583 1257.79,818.033 1267.84,812.827 1277.88,809.99 1287.93,809.529 1297.97,811.424 1308.02,815.637 1318.07,822.108 1328.11,830.754 1338.16,841.475 1348.2,854.151 1358.25,868.643 1368.29,884.799 1378.34,902.451 1388.38,921.418 1398.43,941.508 1408.48,962.519 1418.52,984.245 1428.57,1006.47 1438.61,1028.98 1448.66,1051.55 1458.7,1073.98 1468.75,1096.04 1478.79,1117.53 1488.84,1138.24 1498.89,1157.98 1508.93,1176.58 1518.98,1193.86 1529.02,1209.66 1539.07,1223.84 1549.11,1236.29 1559.16,1246.89 1569.2,1255.55 1579.25,1262.21 1589.3,1266.81 1599.34,1269.33 1609.39,1269.75 1619.43,1268.1 1629.48,1264.39 1639.52,1258.69 1649.57,1251.05 1659.61,1241.57 1669.66,1230.34 1679.71,1217.51 1689.75,1203.18 1699.8,1187.53 1709.84,1170.7 1719.89,1152.88 1729.93,1134.23 1739.98,1114.94 1750.02,1095.22 1760.07,1075.24 1770.11,1055.21 1780.16,1035.33 1790.21,1015.78 1800.25,996.753 1810.3,978.433 1820.34,960.992 1830.39,944.595 1840.43,929.396 1850.48,915.534 1860.52,903.137 1870.57,892.317 1880.62,883.169 1890.66,875.774 1900.71,870.191 1910.75,866.466 1920.8,864.623 1930.84,864.669 1940.89,866.593 1950.93,870.365 1960.98,875.936 1971.03,883.243 1981.07,892.203 1991.12,902.719 2001.16,914.68 2011.21,927.96 2021.25,942.421 2031.3,957.916 2041.34,974.287 2051.39,991.368 2061.44,1008.99 2071.48,1026.97 2081.53,1045.14 2091.57,1063.31 2101.62,1081.32 2111.66,1098.97 2121.71,1116.1 2131.75,1132.55 2141.8,1148.16 2151.85,1162.78 2161.89,1176.26 2171.94,1188.49 2181.98,1199.35 2192.03,1208.74 2202.07,1216.57 2212.12,1222.78 2222.16,1227.32 2232.21,1230.14 2242.26,1231.23 2252.3,1230.59 2262.35,1228.23 2272.39,1224.19 2282.44,1218.5 2292.48,1211.24 \"/>\n",
       "<path clip-path=\"url(#clip300)\" d=\"M2015.79 302.578 L2281.77 302.578 L2281.77 95.2176 L2015.79 95.2176  Z\" fill=\"#ffffff\" fill-rule=\"evenodd\" fill-opacity=\"1\"/>\n",
       "<polyline clip-path=\"url(#clip300)\" style=\"stroke:#000000; stroke-linecap:round; stroke-linejoin:round; stroke-width:4; stroke-opacity:1; fill:none\" points=\"2015.79,302.578 2281.77,302.578 2281.77,95.2176 2015.79,95.2176 2015.79,302.578 \"/>\n",
       "<polyline clip-path=\"url(#clip300)\" style=\"stroke:#009af9; stroke-linecap:round; stroke-linejoin:round; stroke-width:4; stroke-opacity:1; fill:none\" points=\"2039.46,147.058 2181.43,147.058 \"/>\n",
       "<path clip-path=\"url(#clip300)\" d=\"M2218.94 166.745 Q2217.13 171.375 2215.42 172.787 Q2213.71 174.199 2210.84 174.199 L2207.43 174.199 L2207.43 170.634 L2209.93 170.634 Q2211.69 170.634 2212.67 169.8 Q2213.64 168.967 2214.82 165.865 L2215.58 163.921 L2205.1 138.412 L2209.61 138.412 L2217.71 158.689 L2225.81 138.412 L2230.33 138.412 L2218.94 166.745 Z\" fill=\"#000000\" fill-rule=\"nonzero\" fill-opacity=\"1\" /><path clip-path=\"url(#clip300)\" d=\"M2237.62 160.402 L2245.26 160.402 L2245.26 134.037 L2236.95 135.703 L2236.95 131.444 L2245.21 129.778 L2249.89 129.778 L2249.89 160.402 L2257.53 160.402 L2257.53 164.338 L2237.62 164.338 L2237.62 160.402 Z\" fill=\"#000000\" fill-rule=\"nonzero\" fill-opacity=\"1\" /><polyline clip-path=\"url(#clip300)\" style=\"stroke:#e26f46; stroke-linecap:round; stroke-linejoin:round; stroke-width:4; stroke-opacity:1; fill:none\" points=\"2039.46,198.898 2181.43,198.898 \"/>\n",
       "<path clip-path=\"url(#clip300)\" d=\"M2218.94 218.585 Q2217.13 223.215 2215.42 224.627 Q2213.71 226.039 2210.84 226.039 L2207.43 226.039 L2207.43 222.474 L2209.93 222.474 Q2211.69 222.474 2212.67 221.64 Q2213.64 220.807 2214.82 217.705 L2215.58 215.761 L2205.1 190.252 L2209.61 190.252 L2217.71 210.529 L2225.81 190.252 L2230.33 190.252 L2218.94 218.585 Z\" fill=\"#000000\" fill-rule=\"nonzero\" fill-opacity=\"1\" /><path clip-path=\"url(#clip300)\" d=\"M2240.84 212.242 L2257.16 212.242 L2257.16 216.178 L2235.21 216.178 L2235.21 212.242 Q2237.87 209.488 2242.46 204.858 Q2247.06 200.205 2248.24 198.863 Q2250.49 196.34 2251.37 194.604 Q2252.27 192.844 2252.27 191.155 Q2252.27 188.4 2250.33 186.664 Q2248.41 184.928 2245.3 184.928 Q2243.1 184.928 2240.65 185.692 Q2238.22 186.455 2235.44 188.006 L2235.44 183.284 Q2238.27 182.15 2240.72 181.571 Q2243.17 180.993 2245.21 180.993 Q2250.58 180.993 2253.78 183.678 Q2256.97 186.363 2256.97 190.854 Q2256.97 192.983 2256.16 194.905 Q2255.37 196.803 2253.27 199.395 Q2252.69 200.067 2249.59 203.284 Q2246.48 206.479 2240.84 212.242 Z\" fill=\"#000000\" fill-rule=\"nonzero\" fill-opacity=\"1\" /><polyline clip-path=\"url(#clip300)\" style=\"stroke:#3da44d; stroke-linecap:round; stroke-linejoin:round; stroke-width:4; stroke-opacity:1; fill:none\" points=\"2039.46,250.738 2181.43,250.738 \"/>\n",
       "<path clip-path=\"url(#clip300)\" d=\"M2218.94 270.425 Q2217.13 275.055 2215.42 276.467 Q2213.71 277.879 2210.84 277.879 L2207.43 277.879 L2207.43 274.314 L2209.93 274.314 Q2211.69 274.314 2212.67 273.48 Q2213.64 272.647 2214.82 269.545 L2215.58 267.601 L2205.1 242.092 L2209.61 242.092 L2217.71 262.369 L2225.81 242.092 L2230.33 242.092 L2218.94 270.425 Z\" fill=\"#000000\" fill-rule=\"nonzero\" fill-opacity=\"1\" /><path clip-path=\"url(#clip300)\" d=\"M2250.98 249.383 Q2254.33 250.101 2256.21 252.369 Q2258.1 254.638 2258.1 257.971 Q2258.1 263.087 2254.59 265.888 Q2251.07 268.689 2244.59 268.689 Q2242.41 268.689 2240.1 268.249 Q2237.8 267.832 2235.35 266.976 L2235.35 262.462 Q2237.29 263.596 2239.61 264.175 Q2241.92 264.754 2244.45 264.754 Q2248.85 264.754 2251.14 263.018 Q2253.45 261.281 2253.45 257.971 Q2253.45 254.916 2251.3 253.203 Q2249.17 251.467 2245.35 251.467 L2241.32 251.467 L2241.32 247.624 L2245.54 247.624 Q2248.98 247.624 2250.81 246.258 Q2252.64 244.87 2252.64 242.277 Q2252.64 239.615 2250.74 238.203 Q2248.87 236.768 2245.35 236.768 Q2243.43 236.768 2241.23 237.184 Q2239.03 237.601 2236.39 238.481 L2236.39 234.314 Q2239.05 233.573 2241.37 233.203 Q2243.71 232.833 2245.77 232.833 Q2251.09 232.833 2254.19 235.263 Q2257.29 237.67 2257.29 241.791 Q2257.29 244.661 2255.65 246.652 Q2254.01 248.62 2250.98 249.383 Z\" fill=\"#000000\" fill-rule=\"nonzero\" fill-opacity=\"1\" /></svg>\n"
      ],
      "text/html": [
       "<?xml version=\"1.0\" encoding=\"utf-8\"?>\n",
       "<svg xmlns=\"http://www.w3.org/2000/svg\" xmlns:xlink=\"http://www.w3.org/1999/xlink\" width=\"600\" height=\"400\" viewBox=\"0 0 2400 1600\">\n",
       "<defs>\n",
       "  <clipPath id=\"clip350\">\n",
       "    <rect x=\"0\" y=\"0\" width=\"2400\" height=\"1600\"/>\n",
       "  </clipPath>\n",
       "</defs>\n",
       "<path clip-path=\"url(#clip350)\" d=\"M0 1600 L2400 1600 L2400 0 L0 0  Z\" fill=\"#ffffff\" fill-rule=\"evenodd\" fill-opacity=\"1\"/>\n",
       "<defs>\n",
       "  <clipPath id=\"clip351\">\n",
       "    <rect x=\"480\" y=\"0\" width=\"1681\" height=\"1600\"/>\n",
       "  </clipPath>\n",
       "</defs>\n",
       "<path clip-path=\"url(#clip350)\" d=\"M223.103 1486.45 L2352.76 1486.45 L2352.76 47.2441 L223.103 47.2441  Z\" fill=\"#ffffff\" fill-rule=\"evenodd\" fill-opacity=\"1\"/>\n",
       "<defs>\n",
       "  <clipPath id=\"clip352\">\n",
       "    <rect x=\"223\" y=\"47\" width=\"2131\" height=\"1440\"/>\n",
       "  </clipPath>\n",
       "</defs>\n",
       "<polyline clip-path=\"url(#clip352)\" style=\"stroke:#000000; stroke-linecap:round; stroke-linejoin:round; stroke-width:2; stroke-opacity:0.1; fill:none\" points=\"283.376,1486.45 283.376,47.2441 \"/>\n",
       "<polyline clip-path=\"url(#clip352)\" style=\"stroke:#000000; stroke-linecap:round; stroke-linejoin:round; stroke-width:2; stroke-opacity:0.1; fill:none\" points=\"785.652,1486.45 785.652,47.2441 \"/>\n",
       "<polyline clip-path=\"url(#clip352)\" style=\"stroke:#000000; stroke-linecap:round; stroke-linejoin:round; stroke-width:2; stroke-opacity:0.1; fill:none\" points=\"1287.93,1486.45 1287.93,47.2441 \"/>\n",
       "<polyline clip-path=\"url(#clip352)\" style=\"stroke:#000000; stroke-linecap:round; stroke-linejoin:round; stroke-width:2; stroke-opacity:0.1; fill:none\" points=\"1790.21,1486.45 1790.21,47.2441 \"/>\n",
       "<polyline clip-path=\"url(#clip352)\" style=\"stroke:#000000; stroke-linecap:round; stroke-linejoin:round; stroke-width:2; stroke-opacity:0.1; fill:none\" points=\"2292.48,1486.45 2292.48,47.2441 \"/>\n",
       "<polyline clip-path=\"url(#clip350)\" style=\"stroke:#000000; stroke-linecap:round; stroke-linejoin:round; stroke-width:4; stroke-opacity:1; fill:none\" points=\"223.103,1486.45 2352.76,1486.45 \"/>\n",
       "<polyline clip-path=\"url(#clip350)\" style=\"stroke:#000000; stroke-linecap:round; stroke-linejoin:round; stroke-width:4; stroke-opacity:1; fill:none\" points=\"283.376,1486.45 283.376,1467.55 \"/>\n",
       "<polyline clip-path=\"url(#clip350)\" style=\"stroke:#000000; stroke-linecap:round; stroke-linejoin:round; stroke-width:4; stroke-opacity:1; fill:none\" points=\"785.652,1486.45 785.652,1467.55 \"/>\n",
       "<polyline clip-path=\"url(#clip350)\" style=\"stroke:#000000; stroke-linecap:round; stroke-linejoin:round; stroke-width:4; stroke-opacity:1; fill:none\" points=\"1287.93,1486.45 1287.93,1467.55 \"/>\n",
       "<polyline clip-path=\"url(#clip350)\" style=\"stroke:#000000; stroke-linecap:round; stroke-linejoin:round; stroke-width:4; stroke-opacity:1; fill:none\" points=\"1790.21,1486.45 1790.21,1467.55 \"/>\n",
       "<polyline clip-path=\"url(#clip350)\" style=\"stroke:#000000; stroke-linecap:round; stroke-linejoin:round; stroke-width:4; stroke-opacity:1; fill:none\" points=\"2292.48,1486.45 2292.48,1467.55 \"/>\n",
       "<path clip-path=\"url(#clip350)\" d=\"M283.376 1517.37 Q279.765 1517.37 277.936 1520.93 Q276.13 1524.47 276.13 1531.6 Q276.13 1538.71 277.936 1542.27 Q279.765 1545.82 283.376 1545.82 Q287.01 1545.82 288.816 1542.27 Q290.644 1538.71 290.644 1531.6 Q290.644 1524.47 288.816 1520.93 Q287.01 1517.37 283.376 1517.37 M283.376 1513.66 Q289.186 1513.66 292.241 1518.27 Q295.32 1522.85 295.32 1531.6 Q295.32 1540.33 292.241 1544.94 Q289.186 1549.52 283.376 1549.52 Q277.566 1549.52 274.487 1544.94 Q271.431 1540.33 271.431 1531.6 Q271.431 1522.85 274.487 1518.27 Q277.566 1513.66 283.376 1513.66 Z\" fill=\"#000000\" fill-rule=\"nonzero\" fill-opacity=\"1\" /><path clip-path=\"url(#clip350)\" d=\"M775.93 1514.29 L794.287 1514.29 L794.287 1518.22 L780.213 1518.22 L780.213 1526.7 Q781.231 1526.35 782.25 1526.19 Q783.268 1526 784.287 1526 Q790.074 1526 793.453 1529.17 Q796.833 1532.34 796.833 1537.76 Q796.833 1543.34 793.361 1546.44 Q789.889 1549.52 783.569 1549.52 Q781.393 1549.52 779.125 1549.15 Q776.879 1548.78 774.472 1548.04 L774.472 1543.34 Q776.555 1544.47 778.777 1545.03 Q781 1545.58 783.477 1545.58 Q787.481 1545.58 789.819 1543.48 Q792.157 1541.37 792.157 1537.76 Q792.157 1534.15 789.819 1532.04 Q787.481 1529.94 783.477 1529.94 Q781.602 1529.94 779.727 1530.35 Q777.875 1530.77 775.93 1531.65 L775.93 1514.29 Z\" fill=\"#000000\" fill-rule=\"nonzero\" fill-opacity=\"1\" /><path clip-path=\"url(#clip350)\" d=\"M1262.62 1544.91 L1270.26 1544.91 L1270.26 1518.55 L1261.95 1520.21 L1261.95 1515.95 L1270.21 1514.29 L1274.89 1514.29 L1274.89 1544.91 L1282.52 1544.91 L1282.52 1548.85 L1262.62 1548.85 L1262.62 1544.91 Z\" fill=\"#000000\" fill-rule=\"nonzero\" fill-opacity=\"1\" /><path clip-path=\"url(#clip350)\" d=\"M1301.97 1517.37 Q1298.36 1517.37 1296.53 1520.93 Q1294.72 1524.47 1294.72 1531.6 Q1294.72 1538.71 1296.53 1542.27 Q1298.36 1545.82 1301.97 1545.82 Q1305.6 1545.82 1307.41 1542.27 Q1309.24 1538.71 1309.24 1531.6 Q1309.24 1524.47 1307.41 1520.93 Q1305.6 1517.37 1301.97 1517.37 M1301.97 1513.66 Q1307.78 1513.66 1310.83 1518.27 Q1313.91 1522.85 1313.91 1531.6 Q1313.91 1540.33 1310.83 1544.94 Q1307.78 1549.52 1301.97 1549.52 Q1296.16 1549.52 1293.08 1544.94 Q1290.02 1540.33 1290.02 1531.6 Q1290.02 1522.85 1293.08 1518.27 Q1296.16 1513.66 1301.97 1513.66 Z\" fill=\"#000000\" fill-rule=\"nonzero\" fill-opacity=\"1\" /><path clip-path=\"url(#clip350)\" d=\"M1765.39 1544.91 L1773.03 1544.91 L1773.03 1518.55 L1764.72 1520.21 L1764.72 1515.95 L1772.98 1514.29 L1777.66 1514.29 L1777.66 1544.91 L1785.3 1544.91 L1785.3 1548.85 L1765.39 1548.85 L1765.39 1544.91 Z\" fill=\"#000000\" fill-rule=\"nonzero\" fill-opacity=\"1\" /><path clip-path=\"url(#clip350)\" d=\"M1794.79 1514.29 L1813.15 1514.29 L1813.15 1518.22 L1799.07 1518.22 L1799.07 1526.7 Q1800.09 1526.35 1801.11 1526.19 Q1802.13 1526 1803.15 1526 Q1808.93 1526 1812.31 1529.17 Q1815.69 1532.34 1815.69 1537.76 Q1815.69 1543.34 1812.22 1546.44 Q1808.75 1549.52 1802.43 1549.52 Q1800.25 1549.52 1797.98 1549.15 Q1795.74 1548.78 1793.33 1548.04 L1793.33 1543.34 Q1795.41 1544.47 1797.64 1545.03 Q1799.86 1545.58 1802.34 1545.58 Q1806.34 1545.58 1808.68 1543.48 Q1811.02 1541.37 1811.02 1537.76 Q1811.02 1534.15 1808.68 1532.04 Q1806.34 1529.94 1802.34 1529.94 Q1800.46 1529.94 1798.59 1530.35 Q1796.73 1530.77 1794.79 1531.65 L1794.79 1514.29 Z\" fill=\"#000000\" fill-rule=\"nonzero\" fill-opacity=\"1\" /><path clip-path=\"url(#clip350)\" d=\"M2271.26 1544.91 L2287.58 1544.91 L2287.58 1548.85 L2265.63 1548.85 L2265.63 1544.91 Q2268.29 1542.16 2272.88 1537.53 Q2277.48 1532.88 2278.66 1531.53 Q2280.91 1529.01 2281.79 1527.27 Q2282.69 1525.51 2282.69 1523.82 Q2282.69 1521.07 2280.75 1519.33 Q2278.83 1517.6 2275.72 1517.6 Q2273.52 1517.6 2271.07 1518.36 Q2268.64 1519.13 2265.86 1520.68 L2265.86 1515.95 Q2268.69 1514.82 2271.14 1514.24 Q2273.59 1513.66 2275.63 1513.66 Q2281 1513.66 2284.2 1516.35 Q2287.39 1519.03 2287.39 1523.52 Q2287.39 1525.65 2286.58 1527.57 Q2285.79 1529.47 2283.69 1532.07 Q2283.11 1532.74 2280.01 1535.95 Q2276.9 1539.15 2271.26 1544.91 Z\" fill=\"#000000\" fill-rule=\"nonzero\" fill-opacity=\"1\" /><path clip-path=\"url(#clip350)\" d=\"M2307.39 1517.37 Q2303.78 1517.37 2301.95 1520.93 Q2300.14 1524.47 2300.14 1531.6 Q2300.14 1538.71 2301.95 1542.27 Q2303.78 1545.82 2307.39 1545.82 Q2311.02 1545.82 2312.83 1542.27 Q2314.66 1538.71 2314.66 1531.6 Q2314.66 1524.47 2312.83 1520.93 Q2311.02 1517.37 2307.39 1517.37 M2307.39 1513.66 Q2313.2 1513.66 2316.26 1518.27 Q2319.33 1522.85 2319.33 1531.6 Q2319.33 1540.33 2316.26 1544.94 Q2313.2 1549.52 2307.39 1549.52 Q2301.58 1549.52 2298.5 1544.94 Q2295.45 1540.33 2295.45 1531.6 Q2295.45 1522.85 2298.5 1518.27 Q2301.58 1513.66 2307.39 1513.66 Z\" fill=\"#000000\" fill-rule=\"nonzero\" fill-opacity=\"1\" /><polyline clip-path=\"url(#clip352)\" style=\"stroke:#000000; stroke-linecap:round; stroke-linejoin:round; stroke-width:2; stroke-opacity:0.1; fill:none\" points=\"223.103,1298.03 2352.76,1298.03 \"/>\n",
       "<polyline clip-path=\"url(#clip352)\" style=\"stroke:#000000; stroke-linecap:round; stroke-linejoin:round; stroke-width:2; stroke-opacity:0.1; fill:none\" points=\"223.103,1056.02 2352.76,1056.02 \"/>\n",
       "<polyline clip-path=\"url(#clip352)\" style=\"stroke:#000000; stroke-linecap:round; stroke-linejoin:round; stroke-width:2; stroke-opacity:0.1; fill:none\" points=\"223.103,814.011 2352.76,814.011 \"/>\n",
       "<polyline clip-path=\"url(#clip352)\" style=\"stroke:#000000; stroke-linecap:round; stroke-linejoin:round; stroke-width:2; stroke-opacity:0.1; fill:none\" points=\"223.103,571.999 2352.76,571.999 \"/>\n",
       "<polyline clip-path=\"url(#clip352)\" style=\"stroke:#000000; stroke-linecap:round; stroke-linejoin:round; stroke-width:2; stroke-opacity:0.1; fill:none\" points=\"223.103,329.988 2352.76,329.988 \"/>\n",
       "<polyline clip-path=\"url(#clip352)\" style=\"stroke:#000000; stroke-linecap:round; stroke-linejoin:round; stroke-width:2; stroke-opacity:0.1; fill:none\" points=\"223.103,87.9763 2352.76,87.9763 \"/>\n",
       "<polyline clip-path=\"url(#clip350)\" style=\"stroke:#000000; stroke-linecap:round; stroke-linejoin:round; stroke-width:4; stroke-opacity:1; fill:none\" points=\"223.103,1486.45 223.103,47.2441 \"/>\n",
       "<polyline clip-path=\"url(#clip350)\" style=\"stroke:#000000; stroke-linecap:round; stroke-linejoin:round; stroke-width:4; stroke-opacity:1; fill:none\" points=\"223.103,1298.03 242,1298.03 \"/>\n",
       "<polyline clip-path=\"url(#clip350)\" style=\"stroke:#000000; stroke-linecap:round; stroke-linejoin:round; stroke-width:4; stroke-opacity:1; fill:none\" points=\"223.103,1056.02 242,1056.02 \"/>\n",
       "<polyline clip-path=\"url(#clip350)\" style=\"stroke:#000000; stroke-linecap:round; stroke-linejoin:round; stroke-width:4; stroke-opacity:1; fill:none\" points=\"223.103,814.011 242,814.011 \"/>\n",
       "<polyline clip-path=\"url(#clip350)\" style=\"stroke:#000000; stroke-linecap:round; stroke-linejoin:round; stroke-width:4; stroke-opacity:1; fill:none\" points=\"223.103,571.999 242,571.999 \"/>\n",
       "<polyline clip-path=\"url(#clip350)\" style=\"stroke:#000000; stroke-linecap:round; stroke-linejoin:round; stroke-width:4; stroke-opacity:1; fill:none\" points=\"223.103,329.988 242,329.988 \"/>\n",
       "<polyline clip-path=\"url(#clip350)\" style=\"stroke:#000000; stroke-linecap:round; stroke-linejoin:round; stroke-width:4; stroke-opacity:1; fill:none\" points=\"223.103,87.9763 242,87.9763 \"/>\n",
       "<path clip-path=\"url(#clip350)\" d=\"M50.9921 1298.49 L80.6679 1298.49 L80.6679 1302.42 L50.9921 1302.42 L50.9921 1298.49 Z\" fill=\"#000000\" fill-rule=\"nonzero\" fill-opacity=\"1\" /><path clip-path=\"url(#clip350)\" d=\"M100.76 1283.83 Q97.1493 1283.83 95.3206 1287.4 Q93.515 1290.94 93.515 1298.07 Q93.515 1305.18 95.3206 1308.74 Q97.1493 1312.28 100.76 1312.28 Q104.395 1312.28 106.2 1308.74 Q108.029 1305.18 108.029 1298.07 Q108.029 1290.94 106.2 1287.4 Q104.395 1283.83 100.76 1283.83 M100.76 1280.13 Q106.571 1280.13 109.626 1284.74 Q112.705 1289.32 112.705 1298.07 Q112.705 1306.8 109.626 1311.4 Q106.571 1315.99 100.76 1315.99 Q94.9502 1315.99 91.8715 1311.4 Q88.816 1306.8 88.816 1298.07 Q88.816 1289.32 91.8715 1284.74 Q94.9502 1280.13 100.76 1280.13 Z\" fill=\"#000000\" fill-rule=\"nonzero\" fill-opacity=\"1\" /><path clip-path=\"url(#clip350)\" d=\"M120.922 1309.43 L125.807 1309.43 L125.807 1315.31 L120.922 1315.31 L120.922 1309.43 Z\" fill=\"#000000\" fill-rule=\"nonzero\" fill-opacity=\"1\" /><path clip-path=\"url(#clip350)\" d=\"M140.019 1311.38 L156.339 1311.38 L156.339 1315.31 L134.394 1315.31 L134.394 1311.38 Q137.056 1308.62 141.64 1303.99 Q146.246 1299.34 147.427 1298 Q149.672 1295.48 150.552 1293.74 Q151.455 1291.98 151.455 1290.29 Q151.455 1287.54 149.51 1285.8 Q147.589 1284.06 144.487 1284.06 Q142.288 1284.06 139.834 1284.83 Q137.404 1285.59 134.626 1287.14 L134.626 1282.42 Q137.45 1281.29 139.904 1280.71 Q142.357 1280.13 144.394 1280.13 Q149.765 1280.13 152.959 1282.81 Q156.154 1285.5 156.154 1289.99 Q156.154 1292.12 155.343 1294.04 Q154.556 1295.94 152.45 1298.53 Q151.871 1299.2 148.769 1302.42 Q145.668 1305.62 140.019 1311.38 Z\" fill=\"#000000\" fill-rule=\"nonzero\" fill-opacity=\"1\" /><path clip-path=\"url(#clip350)\" d=\"M166.2 1280.75 L184.556 1280.75 L184.556 1284.69 L170.482 1284.69 L170.482 1293.16 Q171.501 1292.81 172.519 1292.65 Q173.538 1292.47 174.556 1292.47 Q180.343 1292.47 183.723 1295.64 Q187.103 1298.81 187.103 1304.23 Q187.103 1309.8 183.63 1312.91 Q180.158 1315.99 173.839 1315.99 Q171.663 1315.99 169.394 1315.61 Q167.149 1315.24 164.742 1314.5 L164.742 1309.8 Q166.825 1310.94 169.047 1311.49 Q171.269 1312.05 173.746 1312.05 Q177.751 1312.05 180.089 1309.94 Q182.427 1307.84 182.427 1304.23 Q182.427 1300.62 180.089 1298.51 Q177.751 1296.4 173.746 1296.4 Q171.871 1296.4 169.996 1296.82 Q168.144 1297.24 166.2 1298.12 L166.2 1280.75 Z\" fill=\"#000000\" fill-rule=\"nonzero\" fill-opacity=\"1\" /><path clip-path=\"url(#clip350)\" d=\"M99.765 1041.82 Q96.1539 1041.82 94.3252 1045.39 Q92.5197 1048.93 92.5197 1056.06 Q92.5197 1063.16 94.3252 1066.73 Q96.1539 1070.27 99.765 1070.27 Q103.399 1070.27 105.205 1066.73 Q107.033 1063.16 107.033 1056.06 Q107.033 1048.93 105.205 1045.39 Q103.399 1041.82 99.765 1041.82 M99.765 1038.12 Q105.575 1038.12 108.631 1042.72 Q111.709 1047.31 111.709 1056.06 Q111.709 1064.78 108.631 1069.39 Q105.575 1073.97 99.765 1073.97 Q93.9549 1073.97 90.8762 1069.39 Q87.8206 1064.78 87.8206 1056.06 Q87.8206 1047.31 90.8762 1042.72 Q93.9549 1038.12 99.765 1038.12 Z\" fill=\"#000000\" fill-rule=\"nonzero\" fill-opacity=\"1\" /><path clip-path=\"url(#clip350)\" d=\"M119.927 1067.42 L124.811 1067.42 L124.811 1073.3 L119.927 1073.3 L119.927 1067.42 Z\" fill=\"#000000\" fill-rule=\"nonzero\" fill-opacity=\"1\" /><path clip-path=\"url(#clip350)\" d=\"M144.996 1041.82 Q141.385 1041.82 139.556 1045.39 Q137.751 1048.93 137.751 1056.06 Q137.751 1063.16 139.556 1066.73 Q141.385 1070.27 144.996 1070.27 Q148.63 1070.27 150.436 1066.73 Q152.265 1063.16 152.265 1056.06 Q152.265 1048.93 150.436 1045.39 Q148.63 1041.82 144.996 1041.82 M144.996 1038.12 Q150.806 1038.12 153.862 1042.72 Q156.941 1047.31 156.941 1056.06 Q156.941 1064.78 153.862 1069.39 Q150.806 1073.97 144.996 1073.97 Q139.186 1073.97 136.107 1069.39 Q133.052 1064.78 133.052 1056.06 Q133.052 1047.31 136.107 1042.72 Q139.186 1038.12 144.996 1038.12 Z\" fill=\"#000000\" fill-rule=\"nonzero\" fill-opacity=\"1\" /><path clip-path=\"url(#clip350)\" d=\"M175.158 1041.82 Q171.547 1041.82 169.718 1045.39 Q167.913 1048.93 167.913 1056.06 Q167.913 1063.16 169.718 1066.73 Q171.547 1070.27 175.158 1070.27 Q178.792 1070.27 180.598 1066.73 Q182.427 1063.16 182.427 1056.06 Q182.427 1048.93 180.598 1045.39 Q178.792 1041.82 175.158 1041.82 M175.158 1038.12 Q180.968 1038.12 184.024 1042.72 Q187.103 1047.31 187.103 1056.06 Q187.103 1064.78 184.024 1069.39 Q180.968 1073.97 175.158 1073.97 Q169.348 1073.97 166.269 1069.39 Q163.214 1064.78 163.214 1056.06 Q163.214 1047.31 166.269 1042.72 Q169.348 1038.12 175.158 1038.12 Z\" fill=\"#000000\" fill-rule=\"nonzero\" fill-opacity=\"1\" /><path clip-path=\"url(#clip350)\" d=\"M100.76 799.81 Q97.1493 799.81 95.3206 803.374 Q93.515 806.916 93.515 814.046 Q93.515 821.152 95.3206 824.717 Q97.1493 828.259 100.76 828.259 Q104.395 828.259 106.2 824.717 Q108.029 821.152 108.029 814.046 Q108.029 806.916 106.2 803.374 Q104.395 799.81 100.76 799.81 M100.76 796.106 Q106.571 796.106 109.626 800.712 Q112.705 805.296 112.705 814.046 Q112.705 822.772 109.626 827.379 Q106.571 831.962 100.76 831.962 Q94.9502 831.962 91.8715 827.379 Q88.816 822.772 88.816 814.046 Q88.816 805.296 91.8715 800.712 Q94.9502 796.106 100.76 796.106 Z\" fill=\"#000000\" fill-rule=\"nonzero\" fill-opacity=\"1\" /><path clip-path=\"url(#clip350)\" d=\"M120.922 825.411 L125.807 825.411 L125.807 831.291 L120.922 831.291 L120.922 825.411 Z\" fill=\"#000000\" fill-rule=\"nonzero\" fill-opacity=\"1\" /><path clip-path=\"url(#clip350)\" d=\"M140.019 827.356 L156.339 827.356 L156.339 831.291 L134.394 831.291 L134.394 827.356 Q137.056 824.601 141.64 819.972 Q146.246 815.319 147.427 813.976 Q149.672 811.453 150.552 809.717 Q151.455 807.958 151.455 806.268 Q151.455 803.513 149.51 801.777 Q147.589 800.041 144.487 800.041 Q142.288 800.041 139.834 800.805 Q137.404 801.569 134.626 803.12 L134.626 798.398 Q137.45 797.263 139.904 796.685 Q142.357 796.106 144.394 796.106 Q149.765 796.106 152.959 798.791 Q156.154 801.476 156.154 805.967 Q156.154 808.097 155.343 810.018 Q154.556 811.916 152.45 814.509 Q151.871 815.18 148.769 818.397 Q145.668 821.592 140.019 827.356 Z\" fill=\"#000000\" fill-rule=\"nonzero\" fill-opacity=\"1\" /><path clip-path=\"url(#clip350)\" d=\"M166.2 796.731 L184.556 796.731 L184.556 800.666 L170.482 800.666 L170.482 809.138 Q171.501 808.791 172.519 808.629 Q173.538 808.444 174.556 808.444 Q180.343 808.444 183.723 811.615 Q187.103 814.786 187.103 820.203 Q187.103 825.782 183.63 828.884 Q180.158 831.962 173.839 831.962 Q171.663 831.962 169.394 831.592 Q167.149 831.221 164.742 830.481 L164.742 825.782 Q166.825 826.916 169.047 827.472 Q171.269 828.027 173.746 828.027 Q177.751 828.027 180.089 825.921 Q182.427 823.814 182.427 820.203 Q182.427 816.592 180.089 814.485 Q177.751 812.379 173.746 812.379 Q171.871 812.379 169.996 812.796 Q168.144 813.212 166.2 814.092 L166.2 796.731 Z\" fill=\"#000000\" fill-rule=\"nonzero\" fill-opacity=\"1\" /><path clip-path=\"url(#clip350)\" d=\"M99.765 557.798 Q96.1539 557.798 94.3252 561.363 Q92.5197 564.905 92.5197 572.034 Q92.5197 579.141 94.3252 582.705 Q96.1539 586.247 99.765 586.247 Q103.399 586.247 105.205 582.705 Q107.033 579.141 107.033 572.034 Q107.033 564.905 105.205 561.363 Q103.399 557.798 99.765 557.798 M99.765 554.094 Q105.575 554.094 108.631 558.701 Q111.709 563.284 111.709 572.034 Q111.709 580.761 108.631 585.367 Q105.575 589.951 99.765 589.951 Q93.9549 589.951 90.8762 585.367 Q87.8206 580.761 87.8206 572.034 Q87.8206 563.284 90.8762 558.701 Q93.9549 554.094 99.765 554.094 Z\" fill=\"#000000\" fill-rule=\"nonzero\" fill-opacity=\"1\" /><path clip-path=\"url(#clip350)\" d=\"M119.927 583.4 L124.811 583.4 L124.811 589.279 L119.927 589.279 L119.927 583.4 Z\" fill=\"#000000\" fill-rule=\"nonzero\" fill-opacity=\"1\" /><path clip-path=\"url(#clip350)\" d=\"M135.043 554.719 L153.399 554.719 L153.399 558.655 L139.325 558.655 L139.325 567.127 Q140.343 566.78 141.362 566.617 Q142.381 566.432 143.399 566.432 Q149.186 566.432 152.566 569.604 Q155.945 572.775 155.945 578.191 Q155.945 583.77 152.473 586.872 Q149.001 589.951 142.681 589.951 Q140.506 589.951 138.237 589.58 Q135.992 589.21 133.584 588.469 L133.584 583.77 Q135.668 584.904 137.89 585.46 Q140.112 586.016 142.589 586.016 Q146.593 586.016 148.931 583.909 Q151.269 581.803 151.269 578.191 Q151.269 574.58 148.931 572.474 Q146.593 570.367 142.589 570.367 Q140.714 570.367 138.839 570.784 Q136.987 571.201 135.043 572.08 L135.043 554.719 Z\" fill=\"#000000\" fill-rule=\"nonzero\" fill-opacity=\"1\" /><path clip-path=\"url(#clip350)\" d=\"M175.158 557.798 Q171.547 557.798 169.718 561.363 Q167.913 564.905 167.913 572.034 Q167.913 579.141 169.718 582.705 Q171.547 586.247 175.158 586.247 Q178.792 586.247 180.598 582.705 Q182.427 579.141 182.427 572.034 Q182.427 564.905 180.598 561.363 Q178.792 557.798 175.158 557.798 M175.158 554.094 Q180.968 554.094 184.024 558.701 Q187.103 563.284 187.103 572.034 Q187.103 580.761 184.024 585.367 Q180.968 589.951 175.158 589.951 Q169.348 589.951 166.269 585.367 Q163.214 580.761 163.214 572.034 Q163.214 563.284 166.269 558.701 Q169.348 554.094 175.158 554.094 Z\" fill=\"#000000\" fill-rule=\"nonzero\" fill-opacity=\"1\" /><path clip-path=\"url(#clip350)\" d=\"M100.76 315.787 Q97.1493 315.787 95.3206 319.351 Q93.515 322.893 93.515 330.023 Q93.515 337.129 95.3206 340.694 Q97.1493 344.235 100.76 344.235 Q104.395 344.235 106.2 340.694 Q108.029 337.129 108.029 330.023 Q108.029 322.893 106.2 319.351 Q104.395 315.787 100.76 315.787 M100.76 312.083 Q106.571 312.083 109.626 316.689 Q112.705 321.273 112.705 330.023 Q112.705 338.749 109.626 343.356 Q106.571 347.939 100.76 347.939 Q94.9502 347.939 91.8715 343.356 Q88.816 338.749 88.816 330.023 Q88.816 321.273 91.8715 316.689 Q94.9502 312.083 100.76 312.083 Z\" fill=\"#000000\" fill-rule=\"nonzero\" fill-opacity=\"1\" /><path clip-path=\"url(#clip350)\" d=\"M120.922 341.388 L125.807 341.388 L125.807 347.268 L120.922 347.268 L120.922 341.388 Z\" fill=\"#000000\" fill-rule=\"nonzero\" fill-opacity=\"1\" /><path clip-path=\"url(#clip350)\" d=\"M134.811 312.708 L157.033 312.708 L157.033 314.699 L144.487 347.268 L139.603 347.268 L151.408 316.643 L134.811 316.643 L134.811 312.708 Z\" fill=\"#000000\" fill-rule=\"nonzero\" fill-opacity=\"1\" /><path clip-path=\"url(#clip350)\" d=\"M166.2 312.708 L184.556 312.708 L184.556 316.643 L170.482 316.643 L170.482 325.115 Q171.501 324.768 172.519 324.606 Q173.538 324.421 174.556 324.421 Q180.343 324.421 183.723 327.592 Q187.103 330.763 187.103 336.18 Q187.103 341.759 183.63 344.86 Q180.158 347.939 173.839 347.939 Q171.663 347.939 169.394 347.569 Q167.149 347.198 164.742 346.458 L164.742 341.759 Q166.825 342.893 169.047 343.448 Q171.269 344.004 173.746 344.004 Q177.751 344.004 180.089 341.897 Q182.427 339.791 182.427 336.18 Q182.427 332.569 180.089 330.462 Q177.751 328.356 173.746 328.356 Q171.871 328.356 169.996 328.773 Q168.144 329.189 166.2 330.069 L166.2 312.708 Z\" fill=\"#000000\" fill-rule=\"nonzero\" fill-opacity=\"1\" /><path clip-path=\"url(#clip350)\" d=\"M90.5752 101.321 L98.2141 101.321 L98.2141 74.9555 L89.904 76.6222 L89.904 72.3629 L98.1678 70.6963 L102.844 70.6963 L102.844 101.321 L110.483 101.321 L110.483 105.256 L90.5752 105.256 L90.5752 101.321 Z\" fill=\"#000000\" fill-rule=\"nonzero\" fill-opacity=\"1\" /><path clip-path=\"url(#clip350)\" d=\"M119.927 99.3767 L124.811 99.3767 L124.811 105.256 L119.927 105.256 L119.927 99.3767 Z\" fill=\"#000000\" fill-rule=\"nonzero\" fill-opacity=\"1\" /><path clip-path=\"url(#clip350)\" d=\"M144.996 73.775 Q141.385 73.775 139.556 77.3398 Q137.751 80.8814 137.751 88.011 Q137.751 95.1174 139.556 98.6822 Q141.385 102.224 144.996 102.224 Q148.63 102.224 150.436 98.6822 Q152.265 95.1174 152.265 88.011 Q152.265 80.8814 150.436 77.3398 Q148.63 73.775 144.996 73.775 M144.996 70.0713 Q150.806 70.0713 153.862 74.6777 Q156.941 79.261 156.941 88.011 Q156.941 96.7378 153.862 101.344 Q150.806 105.928 144.996 105.928 Q139.186 105.928 136.107 101.344 Q133.052 96.7378 133.052 88.011 Q133.052 79.261 136.107 74.6777 Q139.186 70.0713 144.996 70.0713 Z\" fill=\"#000000\" fill-rule=\"nonzero\" fill-opacity=\"1\" /><path clip-path=\"url(#clip350)\" d=\"M175.158 73.775 Q171.547 73.775 169.718 77.3398 Q167.913 80.8814 167.913 88.011 Q167.913 95.1174 169.718 98.6822 Q171.547 102.224 175.158 102.224 Q178.792 102.224 180.598 98.6822 Q182.427 95.1174 182.427 88.011 Q182.427 80.8814 180.598 77.3398 Q178.792 73.775 175.158 73.775 M175.158 70.0713 Q180.968 70.0713 184.024 74.6777 Q187.103 79.261 187.103 88.011 Q187.103 96.7378 184.024 101.344 Q180.968 105.928 175.158 105.928 Q169.348 105.928 166.269 101.344 Q163.214 96.7378 163.214 88.011 Q163.214 79.261 166.269 74.6777 Q169.348 70.0713 175.158 70.0713 Z\" fill=\"#000000\" fill-rule=\"nonzero\" fill-opacity=\"1\" /><polyline clip-path=\"url(#clip352)\" style=\"stroke:#009af9; stroke-linecap:round; stroke-linejoin:round; stroke-width:4; stroke-opacity:1; fill:none\" points=\"283.376,87.9763 293.421,90.3949 303.467,97.6326 313.512,109.635 323.558,126.313 333.603,147.54 343.649,173.16 353.694,202.979 363.74,236.777 373.786,274.302 383.831,315.276 393.877,359.395 403.922,406.335 413.968,455.751 424.013,507.281 434.059,560.55 444.104,615.172 454.15,670.755 464.195,726.9 474.241,783.209 484.286,839.286 494.332,894.739 504.377,949.187 514.423,1002.26 524.469,1053.59 534.514,1102.86 544.56,1149.73 554.605,1193.92 564.651,1235.15 574.696,1273.17 584.742,1307.76 594.787,1338.75 604.833,1365.98 614.878,1389.32 624.924,1408.68 634.969,1424 645.015,1435.27 655.061,1442.5 665.106,1445.72 675.152,1445.01 685.197,1440.48 695.243,1432.27 705.288,1420.55 715.334,1405.5 725.379,1387.34 735.425,1366.32 745.47,1342.7 755.516,1316.75 765.561,1288.77 775.607,1259.06 785.652,1227.94 795.698,1195.75 805.744,1162.79 815.789,1129.4 825.835,1095.92 835.88,1062.65 845.926,1029.91 855.971,998.017 866.017,967.25 876.062,937.889 886.108,910.191 896.153,884.396 906.199,860.722 916.244,839.362 926.29,820.487 936.335,804.239 946.381,790.736 956.427,780.067 966.472,772.292 976.518,767.446 986.563,765.532 996.609,766.527 1006.65,770.38 1016.7,777.015 1026.75,786.328 1036.79,798.193 1046.84,812.46 1056.88,828.958 1066.93,847.498 1076.97,867.871 1087.02,889.857 1097.06,913.219 1107.11,937.712 1117.16,963.084 1127.2,989.075 1137.25,1015.42 1147.29,1041.87 1157.34,1068.15 1167.38,1094 1177.43,1119.19 1187.47,1143.47 1197.52,1166.61 1207.56,1188.4 1217.61,1208.64 1227.66,1227.15 1237.7,1243.75 1247.75,1258.32 1257.79,1270.73 1267.84,1280.88 1277.88,1288.68 1287.93,1294.1 1297.97,1297.09 1308.02,1297.66 1318.07,1295.82 1328.11,1291.62 1338.16,1285.11 1348.2,1276.38 1358.25,1265.55 1368.29,1252.73 1378.34,1238.08 1388.38,1221.74 1398.43,1203.91 1408.48,1184.76 1418.52,1164.51 1428.57,1143.35 1438.61,1121.51 1448.66,1099.21 1458.7,1076.67 1468.75,1054.12 1478.79,1031.77 1488.84,1009.86 1498.89,988.582 1508.93,968.153 1518.98,948.765 1529.02,930.601 1539.07,913.832 1549.11,898.611 1559.16,885.077 1569.2,873.351 1579.25,863.534 1589.3,855.708 1599.34,849.937 1609.39,846.26 1619.43,844.7 1629.48,845.254 1639.52,847.903 1649.57,852.604 1659.61,859.295 1669.66,867.897 1679.71,878.309 1689.75,890.415 1699.8,904.085 1709.84,919.17 1719.89,935.513 1729.93,952.941 1739.98,971.275 1750.02,990.327 1760.07,1009.9 1770.11,1029.81 1780.16,1049.84 1790.21,1069.79 1800.25,1089.48 1810.3,1108.7 1820.34,1127.28 1830.39,1145.02 1840.43,1161.76 1850.48,1177.34 1860.52,1191.62 1870.57,1204.45 1880.62,1215.72 1890.66,1225.33 1900.71,1233.2 1910.75,1239.25 1920.8,1243.44 1930.84,1245.74 1940.89,1246.13 1950.93,1244.62 1960.98,1241.25 1971.03,1236.05 1981.07,1229.09 1991.12,1220.45 2001.16,1210.22 2011.21,1198.51 2021.25,1185.45 2031.3,1171.18 2041.34,1155.84 2051.39,1139.59 2061.44,1122.61 2071.48,1105.05 2081.53,1087.11 2091.57,1068.95 2101.62,1050.77 2111.66,1032.74 2121.71,1015.04 2131.75,997.845 2141.8,981.323 2151.85,965.635 2161.89,950.932 2171.94,937.354 2181.98,925.031 2192.03,914.078 2202.07,904.598 2212.12,896.676 2222.16,890.383 2232.21,885.773 2242.26,882.884 2252.3,881.735 2262.35,882.329 2272.39,884.651 2282.44,888.669 2292.48,894.335 \"/>\n",
       "<polyline clip-path=\"url(#clip352)\" style=\"stroke:#e26f46; stroke-linecap:round; stroke-linejoin:round; stroke-width:4; stroke-opacity:1; fill:none\" points=\"283.376,1056.02 293.421,1007.68 303.467,959.701 313.512,912.443 323.558,866.26 333.603,821.495 343.649,778.483 353.694,737.539 363.74,698.966 373.786,663.045 383.831,630.033 393.877,600.167 403.922,573.656 413.968,550.68 424.013,531.392 434.059,515.914 444.104,504.337 454.15,496.719 464.195,493.087 474.241,493.436 484.286,497.726 494.332,505.889 504.377,517.825 514.423,533.401 524.469,552.459 534.514,574.812 544.56,600.249 554.605,628.532 564.651,659.405 574.696,692.591 584.742,727.798 594.787,764.717 604.833,803.03 614.878,842.41 624.924,882.524 634.969,923.035 645.015,963.607 655.061,1003.91 665.106,1043.61 675.152,1082.4 685.197,1119.96 695.243,1156 705.288,1190.24 715.334,1222.43 725.379,1252.32 735.425,1279.7 745.47,1304.38 755.516,1326.19 765.561,1344.98 775.607,1360.66 785.652,1373.13 795.698,1382.35 805.744,1388.28 815.789,1390.93 825.835,1390.33 835.88,1386.55 845.926,1379.67 855.971,1369.81 866.017,1357.11 876.062,1341.73 886.108,1323.87 896.153,1303.71 906.199,1281.5 916.244,1257.46 926.29,1231.86 936.335,1204.95 946.381,1177.01 956.427,1148.32 966.472,1119.16 976.518,1089.81 986.563,1060.56 996.609,1031.67 1006.65,1003.43 1016.7,976.09 1026.75,949.9 1036.79,925.096 1046.84,901.896 1056.88,880.503 1066.93,861.1 1076.97,843.847 1087.02,828.884 1097.06,816.327 1107.11,806.268 1117.16,798.775 1127.2,793.889 1137.25,791.628 1147.29,791.983 1157.34,794.922 1167.38,800.387 1177.43,808.297 1187.47,818.549 1197.52,831.019 1207.56,845.561 1217.61,862.013 1227.66,880.194 1237.7,899.911 1247.75,920.956 1257.79,943.111 1267.84,966.149 1277.88,989.837 1287.93,1013.94 1297.97,1038.21 1308.02,1062.43 1318.07,1086.34 1328.11,1109.72 1338.16,1132.35 1348.2,1154.02 1358.25,1174.51 1368.29,1193.65 1378.34,1211.25 1388.38,1227.16 1398.43,1241.24 1408.48,1253.36 1418.52,1263.43 1428.57,1271.36 1438.61,1277.1 1448.66,1280.61 1458.7,1281.87 1468.75,1280.88 1478.79,1277.69 1488.84,1272.33 1498.89,1264.88 1508.93,1255.42 1518.98,1244.07 1529.02,1230.96 1539.07,1216.22 1549.11,1200.01 1559.16,1182.51 1569.2,1163.89 1579.25,1144.36 1589.3,1124.09 1599.34,1103.31 1609.39,1082.22 1619.43,1061.03 1629.48,1039.95 1639.52,1019.19 1649.57,998.942 1659.61,979.409 1669.66,960.776 1679.71,943.221 1689.75,926.909 1699.8,911.992 1709.84,898.608 1719.89,886.877 1729.93,876.903 1739.98,868.774 1750.02,862.556 1760.07,858.298 1770.11,856.028 1780.16,855.757 1790.21,857.472 1800.25,861.145 1810.3,866.725 1820.34,874.146 1830.39,883.323 1840.43,894.152 1850.48,906.518 1860.52,920.287 1870.57,935.316 1880.62,951.446 1890.66,968.514 1900.71,986.343 1910.75,1004.75 1920.8,1023.56 1930.84,1042.57 1940.89,1061.6 1950.93,1080.46 1960.98,1098.97 1971.03,1116.94 1981.07,1134.19 1991.12,1150.57 2001.16,1165.91 2011.21,1180.08 2021.25,1192.93 2031.3,1204.34 2041.34,1214.22 2051.39,1222.47 2061.44,1229.02 2071.48,1233.82 2081.53,1236.82 2091.57,1238.01 2101.62,1237.39 2111.66,1234.96 2121.71,1230.78 2131.75,1224.88 2141.8,1217.33 2151.85,1208.22 2161.89,1197.65 2171.94,1185.73 2181.98,1172.58 2192.03,1158.35 2202.07,1143.17 2212.12,1127.2 2222.16,1110.61 2232.21,1093.56 2242.26,1076.23 2252.3,1058.79 2262.35,1041.4 2272.39,1024.25 2282.44,1007.51 2292.48,991.325 \"/>\n",
       "<polyline clip-path=\"url(#clip352)\" style=\"stroke:#3da44d; stroke-linecap:round; stroke-linejoin:round; stroke-width:4; stroke-opacity:1; fill:none\" points=\"283.376,1056.02 293.421,1054.81 303.467,1051.2 313.512,1045.21 323.558,1036.92 333.603,1026.4 343.649,1013.75 353.694,999.114 363.74,982.627 373.786,964.459 383.831,944.791 393.877,923.822 403.922,901.765 413.968,878.844 424.013,855.292 434.059,831.351 444.104,807.266 454.15,783.286 464.195,759.661 474.241,736.639 484.286,714.463 494.332,693.37 504.377,673.587 514.423,655.334 524.469,638.814 534.514,624.217 544.56,611.716 554.605,601.465 564.651,593.601 574.696,588.236 584.742,585.464 594.787,585.352 604.833,587.945 614.878,593.266 624.924,601.309 634.969,612.048 645.015,625.43 655.061,641.38 665.106,659.797 675.152,680.561 685.197,703.53 695.243,728.54 705.288,755.411 715.334,783.944 725.379,813.928 735.425,845.135 745.47,877.328 755.516,910.261 765.561,943.68 775.607,977.329 785.652,1010.95 795.698,1044.27 805.744,1077.05 815.789,1109.02 825.835,1139.95 835.88,1169.59 845.926,1197.72 855.971,1224.13 866.017,1248.62 876.062,1271.01 886.108,1291.13 896.153,1308.86 906.199,1324.06 916.244,1336.63 926.29,1346.51 936.335,1353.63 946.381,1357.97 956.427,1359.53 966.472,1358.32 976.518,1354.39 986.563,1347.81 996.609,1338.66 1006.65,1327.06 1016.7,1313.13 1026.75,1297.03 1036.79,1278.94 1046.84,1259.03 1056.88,1237.5 1066.93,1214.57 1076.97,1190.46 1087.02,1165.4 1097.06,1139.64 1107.11,1113.42 1117.16,1086.97 1127.2,1060.56 1137.25,1034.41 1147.29,1008.77 1157.34,983.877 1167.38,959.943 1177.43,937.186 1187.47,915.804 1197.52,895.982 1207.56,877.891 1217.61,861.682 1227.66,847.489 1237.7,835.425 1247.75,825.583 1257.79,818.033 1267.84,812.827 1277.88,809.99 1287.93,809.529 1297.97,811.424 1308.02,815.637 1318.07,822.108 1328.11,830.754 1338.16,841.475 1348.2,854.151 1358.25,868.643 1368.29,884.799 1378.34,902.451 1388.38,921.418 1398.43,941.508 1408.48,962.519 1418.52,984.245 1428.57,1006.47 1438.61,1028.98 1448.66,1051.55 1458.7,1073.98 1468.75,1096.04 1478.79,1117.53 1488.84,1138.24 1498.89,1157.98 1508.93,1176.58 1518.98,1193.86 1529.02,1209.66 1539.07,1223.84 1549.11,1236.29 1559.16,1246.89 1569.2,1255.55 1579.25,1262.21 1589.3,1266.81 1599.34,1269.33 1609.39,1269.75 1619.43,1268.1 1629.48,1264.39 1639.52,1258.69 1649.57,1251.05 1659.61,1241.57 1669.66,1230.34 1679.71,1217.51 1689.75,1203.18 1699.8,1187.53 1709.84,1170.7 1719.89,1152.88 1729.93,1134.23 1739.98,1114.94 1750.02,1095.22 1760.07,1075.24 1770.11,1055.21 1780.16,1035.33 1790.21,1015.78 1800.25,996.753 1810.3,978.433 1820.34,960.992 1830.39,944.595 1840.43,929.396 1850.48,915.534 1860.52,903.137 1870.57,892.317 1880.62,883.169 1890.66,875.774 1900.71,870.191 1910.75,866.466 1920.8,864.623 1930.84,864.669 1940.89,866.593 1950.93,870.365 1960.98,875.936 1971.03,883.243 1981.07,892.203 1991.12,902.719 2001.16,914.68 2011.21,927.96 2021.25,942.421 2031.3,957.916 2041.34,974.287 2051.39,991.368 2061.44,1008.99 2071.48,1026.97 2081.53,1045.14 2091.57,1063.31 2101.62,1081.32 2111.66,1098.97 2121.71,1116.1 2131.75,1132.55 2141.8,1148.16 2151.85,1162.78 2161.89,1176.26 2171.94,1188.49 2181.98,1199.35 2192.03,1208.74 2202.07,1216.57 2212.12,1222.78 2222.16,1227.32 2232.21,1230.14 2242.26,1231.23 2252.3,1230.59 2262.35,1228.23 2272.39,1224.19 2282.44,1218.5 2292.48,1211.24 \"/>\n",
       "<path clip-path=\"url(#clip350)\" d=\"M2015.79 302.578 L2281.77 302.578 L2281.77 95.2176 L2015.79 95.2176  Z\" fill=\"#ffffff\" fill-rule=\"evenodd\" fill-opacity=\"1\"/>\n",
       "<polyline clip-path=\"url(#clip350)\" style=\"stroke:#000000; stroke-linecap:round; stroke-linejoin:round; stroke-width:4; stroke-opacity:1; fill:none\" points=\"2015.79,302.578 2281.77,302.578 2281.77,95.2176 2015.79,95.2176 2015.79,302.578 \"/>\n",
       "<polyline clip-path=\"url(#clip350)\" style=\"stroke:#009af9; stroke-linecap:round; stroke-linejoin:round; stroke-width:4; stroke-opacity:1; fill:none\" points=\"2039.46,147.058 2181.43,147.058 \"/>\n",
       "<path clip-path=\"url(#clip350)\" d=\"M2218.94 166.745 Q2217.13 171.375 2215.42 172.787 Q2213.71 174.199 2210.84 174.199 L2207.43 174.199 L2207.43 170.634 L2209.93 170.634 Q2211.69 170.634 2212.67 169.8 Q2213.64 168.967 2214.82 165.865 L2215.58 163.921 L2205.1 138.412 L2209.61 138.412 L2217.71 158.689 L2225.81 138.412 L2230.33 138.412 L2218.94 166.745 Z\" fill=\"#000000\" fill-rule=\"nonzero\" fill-opacity=\"1\" /><path clip-path=\"url(#clip350)\" d=\"M2237.62 160.402 L2245.26 160.402 L2245.26 134.037 L2236.95 135.703 L2236.95 131.444 L2245.21 129.778 L2249.89 129.778 L2249.89 160.402 L2257.53 160.402 L2257.53 164.338 L2237.62 164.338 L2237.62 160.402 Z\" fill=\"#000000\" fill-rule=\"nonzero\" fill-opacity=\"1\" /><polyline clip-path=\"url(#clip350)\" style=\"stroke:#e26f46; stroke-linecap:round; stroke-linejoin:round; stroke-width:4; stroke-opacity:1; fill:none\" points=\"2039.46,198.898 2181.43,198.898 \"/>\n",
       "<path clip-path=\"url(#clip350)\" d=\"M2218.94 218.585 Q2217.13 223.215 2215.42 224.627 Q2213.71 226.039 2210.84 226.039 L2207.43 226.039 L2207.43 222.474 L2209.93 222.474 Q2211.69 222.474 2212.67 221.64 Q2213.64 220.807 2214.82 217.705 L2215.58 215.761 L2205.1 190.252 L2209.61 190.252 L2217.71 210.529 L2225.81 190.252 L2230.33 190.252 L2218.94 218.585 Z\" fill=\"#000000\" fill-rule=\"nonzero\" fill-opacity=\"1\" /><path clip-path=\"url(#clip350)\" d=\"M2240.84 212.242 L2257.16 212.242 L2257.16 216.178 L2235.21 216.178 L2235.21 212.242 Q2237.87 209.488 2242.46 204.858 Q2247.06 200.205 2248.24 198.863 Q2250.49 196.34 2251.37 194.604 Q2252.27 192.844 2252.27 191.155 Q2252.27 188.4 2250.33 186.664 Q2248.41 184.928 2245.3 184.928 Q2243.1 184.928 2240.65 185.692 Q2238.22 186.455 2235.44 188.006 L2235.44 183.284 Q2238.27 182.15 2240.72 181.571 Q2243.17 180.993 2245.21 180.993 Q2250.58 180.993 2253.78 183.678 Q2256.97 186.363 2256.97 190.854 Q2256.97 192.983 2256.16 194.905 Q2255.37 196.803 2253.27 199.395 Q2252.69 200.067 2249.59 203.284 Q2246.48 206.479 2240.84 212.242 Z\" fill=\"#000000\" fill-rule=\"nonzero\" fill-opacity=\"1\" /><polyline clip-path=\"url(#clip350)\" style=\"stroke:#3da44d; stroke-linecap:round; stroke-linejoin:round; stroke-width:4; stroke-opacity:1; fill:none\" points=\"2039.46,250.738 2181.43,250.738 \"/>\n",
       "<path clip-path=\"url(#clip350)\" d=\"M2218.94 270.425 Q2217.13 275.055 2215.42 276.467 Q2213.71 277.879 2210.84 277.879 L2207.43 277.879 L2207.43 274.314 L2209.93 274.314 Q2211.69 274.314 2212.67 273.48 Q2213.64 272.647 2214.82 269.545 L2215.58 267.601 L2205.1 242.092 L2209.61 242.092 L2217.71 262.369 L2225.81 242.092 L2230.33 242.092 L2218.94 270.425 Z\" fill=\"#000000\" fill-rule=\"nonzero\" fill-opacity=\"1\" /><path clip-path=\"url(#clip350)\" d=\"M2250.98 249.383 Q2254.33 250.101 2256.21 252.369 Q2258.1 254.638 2258.1 257.971 Q2258.1 263.087 2254.59 265.888 Q2251.07 268.689 2244.59 268.689 Q2242.41 268.689 2240.1 268.249 Q2237.8 267.832 2235.35 266.976 L2235.35 262.462 Q2237.29 263.596 2239.61 264.175 Q2241.92 264.754 2244.45 264.754 Q2248.85 264.754 2251.14 263.018 Q2253.45 261.281 2253.45 257.971 Q2253.45 254.916 2251.3 253.203 Q2249.17 251.467 2245.35 251.467 L2241.32 251.467 L2241.32 247.624 L2245.54 247.624 Q2248.98 247.624 2250.81 246.258 Q2252.64 244.87 2252.64 242.277 Q2252.64 239.615 2250.74 238.203 Q2248.87 236.768 2245.35 236.768 Q2243.43 236.768 2241.23 237.184 Q2239.03 237.601 2236.39 238.481 L2236.39 234.314 Q2239.05 233.573 2241.37 233.203 Q2243.71 232.833 2245.77 232.833 Q2251.09 232.833 2254.19 235.263 Q2257.29 237.67 2257.29 241.791 Q2257.29 244.661 2255.65 246.652 Q2254.01 248.62 2250.98 249.383 Z\" fill=\"#000000\" fill-rule=\"nonzero\" fill-opacity=\"1\" /></svg>\n"
      ]
     },
     "metadata": {},
     "output_type": "display_data"
    }
   ],
   "source": [
    "xx = 0:0.1:20\n",
    "yy = J_a.(xx, 0, 10e-10)\n",
    "\n",
    "p = plot(xx, yy)\n",
    "yy = J_a.(xx, 1, 10e-10)\n",
    "plot!(p, xx, yy)\n",
    "yy = J_a.(xx, 2, 10e-10)\n",
    "plot!(p, xx, yy)"
   ]
  },
  {
   "cell_type": "code",
   "execution_count": 47,
   "metadata": {},
   "outputs": [
    {
     "name": "stderr",
     "output_type": "stream",
     "text": [
      "┌ Warning: Требуемая точность не достигнута\n",
      "└ @ Main e:\\univer\\2 sem\\julia\\prac2\\prac2.ipynb:10\n"
     ]
    },
    {
     "data": {
      "text/plain": [
       "2.4045942105002136"
      ]
     },
     "metadata": {},
     "output_type": "display_data"
    }
   ],
   "source": [
    "x1 = 2\n",
    "newthon(x1 -> J_a(x1, 0, 10e-10), x1)"
   ]
  },
  {
   "cell_type": "code",
   "execution_count": 48,
   "metadata": {},
   "outputs": [
    {
     "data": {
      "text/plain": [
       "0.0001201093001934896"
      ]
     },
     "metadata": {},
     "output_type": "display_data"
    }
   ],
   "source": [
    "J_a(2.4045942105002136, 0, 10e-10)"
   ]
  }
 ],
 "metadata": {
  "kernelspec": {
   "display_name": "Julia 1.10.2",
   "language": "julia",
   "name": "julia-1.10"
  },
  "language_info": {
   "file_extension": ".jl",
   "mimetype": "application/julia",
   "name": "julia",
   "version": "1.10.2"
  }
 },
 "nbformat": 4,
 "nbformat_minor": 2
}
